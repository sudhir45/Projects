{
  "cells": [
    {
      "cell_type": "markdown",
      "id": "0524a141",
      "metadata": {
        "id": "0524a141"
      },
      "source": [
        "# Rain Prediction using Logistic Regression with Scikit Learn \n"
      ]
    },
    {
      "cell_type": "markdown",
      "id": "57262c23",
      "metadata": {
        "id": "57262c23"
      },
      "source": [
        "Data is imported from from [Kaggle](https://kaggle.com/datasets)\n",
        "\n",
        "\n",
        "\n"
      ]
    },
    {
      "cell_type": "markdown",
      "id": "c3519fe6",
      "metadata": {
        "id": "c3519fe6"
      },
      "source": [
        "### Downloading the Data\n"
      ]
    },
    {
      "cell_type": "code",
      "execution_count": null,
      "id": "1067a597",
      "metadata": {
        "id": "1067a597"
      },
      "outputs": [],
      "source": [
        "!pip install opendatasets --upgrade --quiet"
      ]
    },
    {
      "cell_type": "code",
      "execution_count": null,
      "id": "9ae25b31",
      "metadata": {
        "id": "9ae25b31"
      },
      "outputs": [],
      "source": [
        "import opendatasets as od"
      ]
    },
    {
      "cell_type": "code",
      "execution_count": null,
      "id": "7f04a24f",
      "metadata": {
        "colab": {
          "base_uri": "https://localhost:8080/",
          "height": 35
        },
        "id": "7f04a24f",
        "outputId": "7f47bdd3-435a-4f14-d7f3-2263a355e58b"
      },
      "outputs": [],
      "source": [
        "od.version()"
      ]
    },
    {
      "cell_type": "code",
      "execution_count": null,
      "id": "5dbd21f7",
      "metadata": {
        "id": "5dbd21f7"
      },
      "outputs": [],
      "source": [
        "dataset_url = 'https://www.kaggle.com/jsphyg/weather-dataset-rattle-package'"
      ]
    },
    {
      "cell_type": "code",
      "execution_count": null,
      "id": "6cce1a97",
      "metadata": {
        "colab": {
          "base_uri": "https://localhost:8080/"
        },
        "id": "6cce1a97",
        "outputId": "dce3516a-f914-4e83-f61b-ba314166cfdb"
      },
      "outputs": [],
      "source": [
        "od.download(dataset_url)"
      ]
    },
    {
      "cell_type": "code",
      "execution_count": null,
      "id": "829fb18e",
      "metadata": {
        "id": "829fb18e"
      },
      "outputs": [],
      "source": [
        "import os"
      ]
    },
    {
      "cell_type": "code",
      "execution_count": null,
      "id": "5421b0f4",
      "metadata": {
        "id": "5421b0f4"
      },
      "outputs": [],
      "source": [
        "data_dir = './weather-dataset-rattle-package'"
      ]
    },
    {
      "cell_type": "code",
      "execution_count": null,
      "id": "a0344cb9",
      "metadata": {
        "colab": {
          "base_uri": "https://localhost:8080/"
        },
        "id": "a0344cb9",
        "outputId": "c60aed02-3a2b-4eeb-8677-a4910e24ccb6"
      },
      "outputs": [],
      "source": [
        "os.listdir(data_dir)"
      ]
    },
    {
      "cell_type": "code",
      "execution_count": null,
      "id": "89ef2328",
      "metadata": {
        "id": "89ef2328"
      },
      "outputs": [],
      "source": [
        "train_csv = data_dir + '/weatherAUS.csv'"
      ]
    },
    {
      "cell_type": "markdown",
      "id": "e208268b",
      "metadata": {
        "id": "e208268b"
      },
      "source": [
        "\n",
        "#### Loading the data from `weatherAUS.csv` using Pandas."
      ]
    },
    {
      "cell_type": "code",
      "execution_count": null,
      "id": "b6f3474e",
      "metadata": {
        "id": "b6f3474e"
      },
      "outputs": [],
      "source": [
        "!pip install pandas --quiet"
      ]
    },
    {
      "cell_type": "code",
      "execution_count": null,
      "id": "d236c27c",
      "metadata": {
        "id": "d236c27c"
      },
      "outputs": [],
      "source": [
        "import pandas as pd"
      ]
    },
    {
      "cell_type": "code",
      "execution_count": null,
      "id": "2620c50f",
      "metadata": {
        "id": "2620c50f"
      },
      "outputs": [],
      "source": [
        "raw_df = pd.read_csv(train_csv)"
      ]
    },
    {
      "cell_type": "code",
      "execution_count": null,
      "id": "67e6eacb",
      "metadata": {
        "colab": {
          "base_uri": "https://localhost:8080/",
          "height": 590
        },
        "id": "67e6eacb",
        "outputId": "8a3a3270-1128-4cd3-ee62-ea0e56206b3e"
      },
      "outputs": [],
      "source": [
        "raw_df"
      ]
    },
    {
      "cell_type": "markdown",
      "id": "e2c63647",
      "metadata": {
        "id": "e2c63647"
      },
      "source": [
        "The dataset contains over 145,000 rows and 23 columns. The dataset contains date, numeric and categorical columns. The objective is to create a model to predict the value in the column `RainTomorrow`.\n",
        "\n"
      ]
    },
    {
      "cell_type": "code",
      "execution_count": null,
      "id": "58178977",
      "metadata": {
        "colab": {
          "base_uri": "https://localhost:8080/"
        },
        "id": "58178977",
        "outputId": "8e13d22c-6dcf-452f-ca50-ebf7d50e72ec"
      },
      "outputs": [],
      "source": [
        "raw_df.info()"
      ]
    },
    {
      "cell_type": "code",
      "execution_count": null,
      "id": "3221ad5f",
      "metadata": {
        "id": "3221ad5f"
      },
      "outputs": [],
      "source": [
        "raw_df.dropna(subset=['RainToday', 'RainTomorrow'], inplace=True)"
      ]
    },
    {
      "cell_type": "code",
      "execution_count": null,
      "id": "1d13746b",
      "metadata": {
        "colab": {
          "base_uri": "https://localhost:8080/"
        },
        "id": "1d13746b",
        "outputId": "78829d99-a5cc-49a4-a6c5-1fc6032426f2"
      },
      "outputs": [],
      "source": [
        "raw_df.info()"
      ]
    },
    {
      "cell_type": "code",
      "execution_count": null,
      "id": "519f768b",
      "metadata": {
        "id": "519f768b"
      },
      "outputs": [],
      "source": [
        "!pip install plotly matplotlib seaborn --quiet"
      ]
    },
    {
      "cell_type": "code",
      "execution_count": null,
      "id": "0ce7d127",
      "metadata": {
        "id": "0ce7d127"
      },
      "outputs": [],
      "source": [
        "import plotly.express as px\n",
        "import matplotlib\n",
        "import matplotlib.pyplot as plt\n",
        "import seaborn as sns\n",
        "%matplotlib inline\n",
        "\n",
        "sns.set_style('darkgrid')\n",
        "matplotlib.rcParams['font.size'] = 14\n",
        "matplotlib.rcParams['figure.figsize'] = (10, 6)\n",
        "matplotlib.rcParams['figure.facecolor'] = '#00000000'"
      ]
    },
    {
      "cell_type": "code",
      "execution_count": null,
      "id": "a5adaab9",
      "metadata": {
        "colab": {
          "base_uri": "https://localhost:8080/",
          "height": 542
        },
        "id": "a5adaab9",
        "outputId": "bc612b28-3df8-4af5-e026-956a3966dcb4"
      },
      "outputs": [],
      "source": [
        "px.histogram(raw_df, x='Location', title='Location vs. Rainy Days', color='RainToday')"
      ]
    },
    {
      "cell_type": "code",
      "execution_count": null,
      "id": "7156703f",
      "metadata": {
        "colab": {
          "base_uri": "https://localhost:8080/",
          "height": 542
        },
        "id": "7156703f",
        "outputId": "1fa1d9d7-4a5e-4939-92f7-17c21c97607f"
      },
      "outputs": [],
      "source": [
        "px.histogram(raw_df, \n",
        "             x='Temp3pm', \n",
        "             title='Temperature at 3 pm vs. Rain Tomorrow', \n",
        "             color='RainTomorrow')"
      ]
    },
    {
      "cell_type": "code",
      "execution_count": null,
      "id": "7c38ce1a",
      "metadata": {
        "colab": {
          "base_uri": "https://localhost:8080/",
          "height": 542
        },
        "id": "7c38ce1a",
        "outputId": "ced47618-fab5-4709-8d16-4694d5524ed5"
      },
      "outputs": [],
      "source": [
        "px.histogram(raw_df, \n",
        "             x='RainTomorrow', \n",
        "             color='RainToday', \n",
        "             title='Rain Tomorrow vs. Rain Today')"
      ]
    },
    {
      "cell_type": "code",
      "execution_count": null,
      "id": "a311f247",
      "metadata": {
        "colab": {
          "base_uri": "https://localhost:8080/",
          "height": 542
        },
        "id": "a311f247",
        "outputId": "de9f7ff2-40ef-49c8-8460-4b4f452743a0"
      },
      "outputs": [],
      "source": [
        "px.scatter(raw_df.sample(2000), \n",
        "           title='Min Temp. vs Max Temp.',\n",
        "           x='MinTemp', \n",
        "           y='MaxTemp', \n",
        "           color='RainToday')"
      ]
    },
    {
      "cell_type": "code",
      "execution_count": null,
      "id": "1e8227eb",
      "metadata": {
        "colab": {
          "base_uri": "https://localhost:8080/",
          "height": 542
        },
        "id": "1e8227eb",
        "outputId": "309a69a1-8809-4400-fe43-110c784149e8"
      },
      "outputs": [],
      "source": [
        "px.strip(raw_df.sample(2000), \n",
        "           title='Temp (3 pm) vs. Humidity (3 pm)',\n",
        "           x='Temp3pm',\n",
        "           y='Humidity3pm',\n",
        "           color='RainTomorrow')"
      ]
    },
    {
      "cell_type": "code",
      "execution_count": null,
      "id": "f7c0cea4",
      "metadata": {
        "colab": {
          "base_uri": "https://localhost:8080/"
        },
        "id": "f7c0cea4",
        "outputId": "238ac327-4f7c-4fe0-c799-f7fa0aefaae7"
      },
      "outputs": [],
      "source": [
        "raw_df.columns"
      ]
    },
    {
      "cell_type": "code",
      "execution_count": null,
      "id": "70b826f6",
      "metadata": {
        "colab": {
          "base_uri": "https://localhost:8080/",
          "height": 590
        },
        "id": "70b826f6",
        "outputId": "35024861-16e7-4346-a382-dbc9558f5dbc"
      },
      "outputs": [],
      "source": [
        "raw_df"
      ]
    },
    {
      "cell_type": "code",
      "execution_count": null,
      "id": "40cb2130",
      "metadata": {
        "id": "40cb2130"
      },
      "outputs": [],
      "source": []
    },
    {
      "cell_type": "code",
      "execution_count": null,
      "id": "7c8ea6cc",
      "metadata": {
        "id": "7c8ea6cc"
      },
      "outputs": [],
      "source": [
        "!pip install scikit-learn --upgrade --quiet"
      ]
    },
    {
      "cell_type": "code",
      "execution_count": null,
      "id": "fbace6d3",
      "metadata": {
        "id": "fbace6d3"
      },
      "outputs": [],
      "source": [
        "from sklearn.model_selection import train_test_split"
      ]
    },
    {
      "cell_type": "code",
      "execution_count": null,
      "id": "44aaa35b",
      "metadata": {
        "id": "44aaa35b"
      },
      "outputs": [],
      "source": [
        "train_val_df, test_df = train_test_split(raw_df, test_size=0.2, random_state=42)\n",
        "train_df, val_df = train_test_split(train_val_df, test_size=0.25, random_state=42)"
      ]
    },
    {
      "cell_type": "code",
      "execution_count": null,
      "id": "215173e0",
      "metadata": {
        "colab": {
          "base_uri": "https://localhost:8080/"
        },
        "id": "215173e0",
        "outputId": "0187a718-cbc0-478c-e4bc-44689ab78bd1"
      },
      "outputs": [],
      "source": [
        "print('train_df.shape :', train_df.shape)\n",
        "print('val_df.shape :', val_df.shape)\n",
        "print('test_df.shape :', test_df.shape)"
      ]
    },
    {
      "cell_type": "markdown",
      "id": "4524355e",
      "metadata": {
        "id": "4524355e"
      },
      "source": [
        "However, while working with dates, it's often a better idea to separate the training, validation and test sets with time, so that the model is trained on data from the past and evaluated on data from the future.\n",
        "\n",
        "For the current dataset, we can use the Date column in the dataset to create another column for year. We'll pick the last two years for the test set, and one year before it for the validation set."
      ]
    },
    {
      "cell_type": "code",
      "execution_count": null,
      "id": "d80b4167",
      "metadata": {
        "colab": {
          "base_uri": "https://localhost:8080/"
        },
        "id": "d80b4167",
        "outputId": "7e3e4599-fd57-4e19-8c86-ad8484ba9d38"
      },
      "outputs": [],
      "source": [
        "plt.title('No. of Rows per Year')\n",
        "sns.countplot(x=pd.to_datetime(raw_df.Date).dt.year);"
      ]
    },
    {
      "cell_type": "code",
      "execution_count": null,
      "id": "3e78ca22",
      "metadata": {
        "id": "3e78ca22"
      },
      "outputs": [],
      "source": [
        "year = pd.to_datetime(raw_df.Date).dt.year\n",
        "\n",
        "train_df = raw_df[year < 2015]\n",
        "val_df = raw_df[year == 2015]\n",
        "test_df = raw_df[year > 2015]"
      ]
    },
    {
      "cell_type": "code",
      "execution_count": null,
      "id": "41374b86",
      "metadata": {
        "colab": {
          "base_uri": "https://localhost:8080/"
        },
        "id": "41374b86",
        "outputId": "694b5d3b-4661-45d3-996d-e90b1867097b"
      },
      "outputs": [],
      "source": [
        "print('train_df.shape :', train_df.shape)\n",
        "print('val_df.shape :', val_df.shape)\n",
        "print('test_df.shape :', test_df.shape)"
      ]
    },
    {
      "cell_type": "markdown",
      "id": "2227b8cc",
      "metadata": {
        "id": "2227b8cc"
      },
      "source": [
        "While not a perfect 60-20-20 split, we have ensured that the test validation and test sets both contain data for all 12 months of the year."
      ]
    },
    {
      "cell_type": "code",
      "execution_count": null,
      "id": "3183a416",
      "metadata": {
        "colab": {
          "base_uri": "https://localhost:8080/"
        },
        "id": "3183a416",
        "outputId": "f17b02cc-014b-4250-d1ed-e0c8b93f9df4"
      },
      "outputs": [],
      "source": [
        "train_df"
      ]
    },
    {
      "cell_type": "code",
      "execution_count": null,
      "id": "ff30eb80",
      "metadata": {
        "colab": {
          "base_uri": "https://localhost:8080/"
        },
        "id": "ff30eb80",
        "outputId": "00736a44-38e4-4eb7-ab07-5eb22874bb51"
      },
      "outputs": [],
      "source": [
        "val_df"
      ]
    },
    {
      "cell_type": "code",
      "execution_count": null,
      "id": "2edd3113",
      "metadata": {
        "colab": {
          "base_uri": "https://localhost:8080/"
        },
        "id": "2edd3113",
        "outputId": "94976f56-7eec-4885-a49a-40670220617b"
      },
      "outputs": [],
      "source": [
        "test_df"
      ]
    },
    {
      "cell_type": "code",
      "execution_count": null,
      "id": "a022e181",
      "metadata": {
        "id": "a022e181"
      },
      "outputs": [],
      "source": [
        "input_cols = list(train_df.columns)[1:-1]\n",
        "target_col = 'RainTomorrow'"
      ]
    },
    {
      "cell_type": "code",
      "execution_count": null,
      "id": "cc75d10e",
      "metadata": {
        "colab": {
          "base_uri": "https://localhost:8080/"
        },
        "id": "cc75d10e",
        "outputId": "4410ebd7-8713-4a16-d30f-187ee396ed9a"
      },
      "outputs": [],
      "source": [
        "print(input_cols)"
      ]
    },
    {
      "cell_type": "code",
      "execution_count": null,
      "id": "1f3e4b0a",
      "metadata": {
        "colab": {
          "base_uri": "https://localhost:8080/",
          "height": 35
        },
        "id": "1f3e4b0a",
        "outputId": "53a6b621-67f0-4421-9232-4439b13ac26b"
      },
      "outputs": [],
      "source": [
        "target_col"
      ]
    },
    {
      "cell_type": "markdown",
      "id": "82898798",
      "metadata": {
        "id": "82898798"
      },
      "source": [
        "### creating inputs and targets for the training, validation and test sets for further processing and model training."
      ]
    },
    {
      "cell_type": "code",
      "execution_count": null,
      "id": "d6605f7e",
      "metadata": {
        "id": "d6605f7e"
      },
      "outputs": [],
      "source": [
        "train_inputs = train_df[input_cols].copy()\n",
        "train_targets = train_df[target_col].copy()"
      ]
    },
    {
      "cell_type": "code",
      "execution_count": null,
      "id": "9042fd0c",
      "metadata": {
        "id": "9042fd0c"
      },
      "outputs": [],
      "source": [
        "val_inputs = val_df[input_cols].copy()\n",
        "val_targets = val_df[target_col].copy()"
      ]
    },
    {
      "cell_type": "code",
      "execution_count": null,
      "id": "699d3374",
      "metadata": {
        "id": "699d3374"
      },
      "outputs": [],
      "source": [
        "test_inputs = test_df[input_cols].copy()\n",
        "test_targets = test_df[target_col].copy()"
      ]
    },
    {
      "cell_type": "code",
      "execution_count": null,
      "id": "d4bdeafa",
      "metadata": {
        "colab": {
          "base_uri": "https://localhost:8080/",
          "height": 422
        },
        "id": "d4bdeafa",
        "outputId": "e41c91b2-3e28-41ba-ab23-8539fea87b27"
      },
      "outputs": [],
      "source": [
        "train_inputs"
      ]
    },
    {
      "cell_type": "code",
      "execution_count": null,
      "id": "8b29441f",
      "metadata": {
        "colab": {
          "base_uri": "https://localhost:8080/"
        },
        "id": "8b29441f",
        "outputId": "57d4a1be-eaef-4800-9896-8238945ed295"
      },
      "outputs": [],
      "source": [
        "train_targets"
      ]
    },
    {
      "cell_type": "markdown",
      "id": "9b71f7f9",
      "metadata": {
        "id": "9b71f7f9"
      },
      "source": [
        "### numerical and categorical colums"
      ]
    },
    {
      "cell_type": "code",
      "execution_count": null,
      "id": "5769bee2",
      "metadata": {
        "id": "5769bee2"
      },
      "outputs": [],
      "source": [
        "!pip install numpy --quiet"
      ]
    },
    {
      "cell_type": "code",
      "execution_count": null,
      "id": "d29980e0",
      "metadata": {
        "id": "d29980e0"
      },
      "outputs": [],
      "source": [
        "import numpy as np"
      ]
    },
    {
      "cell_type": "code",
      "execution_count": null,
      "id": "68d4d4a1",
      "metadata": {
        "colab": {
          "base_uri": "https://localhost:8080/"
        },
        "id": "68d4d4a1",
        "outputId": "49610e4c-e5ba-496a-e892-3fcb547462cb"
      },
      "outputs": [],
      "source": [
        "numeric_cols = train_inputs.select_dtypes(include=np.number).columns.tolist()[:-1]\n",
        "categorical_cols = train_inputs.select_dtypes('object').columns.tolist()\n",
        "print(numeric_cols)\n",
        "print(categorical_cols)"
      ]
    },
    {
      "cell_type": "code",
      "execution_count": null,
      "id": "9e556b14",
      "metadata": {
        "colab": {
          "base_uri": "https://localhost:8080/",
          "height": 304
        },
        "id": "9e556b14",
        "outputId": "5a62506c-f4f3-41e2-9b96-d4a117c4be8c"
      },
      "outputs": [],
      "source": [
        "train_inputs[numeric_cols].describe()"
      ]
    },
    {
      "cell_type": "code",
      "execution_count": null,
      "id": "3a67a1bb",
      "metadata": {
        "colab": {
          "base_uri": "https://localhost:8080/"
        },
        "id": "3a67a1bb",
        "outputId": "c882c579-0a56-4aa2-985c-be568b22acd5"
      },
      "outputs": [],
      "source": [
        "train_inputs[categorical_cols].nunique()"
      ]
    },
    {
      "cell_type": "markdown",
      "id": "08f25b20",
      "metadata": {
        "id": "08f25b20"
      },
      "source": [
        "### Imputing Missing Numeric Data\n"
      ]
    },
    {
      "cell_type": "code",
      "execution_count": null,
      "id": "8fda581a",
      "metadata": {
        "id": "8fda581a"
      },
      "outputs": [],
      "source": [
        "from sklearn.impute import SimpleImputer"
      ]
    },
    {
      "cell_type": "code",
      "execution_count": null,
      "id": "707ef186",
      "metadata": {
        "id": "707ef186"
      },
      "outputs": [],
      "source": [
        "imputer = SimpleImputer(strategy = 'mean')"
      ]
    },
    {
      "cell_type": "code",
      "execution_count": null,
      "id": "fa24ad30",
      "metadata": {
        "colab": {
          "base_uri": "https://localhost:8080/"
        },
        "id": "fa24ad30",
        "outputId": "5e6eed7c-4053-4905-a922-c54567829577"
      },
      "outputs": [],
      "source": [
        "raw_df[numeric_cols].isna().sum()"
      ]
    },
    {
      "cell_type": "code",
      "execution_count": null,
      "id": "3a94b931",
      "metadata": {
        "colab": {
          "base_uri": "https://localhost:8080/"
        },
        "id": "3a94b931",
        "outputId": "ed266def-9c0a-454e-c8f2-792cad211776"
      },
      "outputs": [],
      "source": [
        "train_inputs[numeric_cols].isna().sum()"
      ]
    },
    {
      "cell_type": "code",
      "execution_count": null,
      "id": "d96933ac",
      "metadata": {
        "colab": {
          "base_uri": "https://localhost:8080/"
        },
        "id": "d96933ac",
        "outputId": "cdd4c0f5-3200-496d-a821-4afeec397085"
      },
      "outputs": [],
      "source": [
        "imputer.fit(raw_df[numeric_cols])"
      ]
    },
    {
      "cell_type": "code",
      "execution_count": null,
      "id": "6ba265f9",
      "metadata": {
        "colab": {
          "base_uri": "https://localhost:8080/"
        },
        "id": "6ba265f9",
        "outputId": "ddae0c65-49eb-4090-910b-7b385028a6ed"
      },
      "outputs": [],
      "source": [
        "list(imputer.statistics_)"
      ]
    },
    {
      "cell_type": "markdown",
      "id": "69a9cd85",
      "metadata": {
        "id": "69a9cd85"
      },
      "source": [
        "### The missing values in the training, test and validation sets can now be filled in "
      ]
    },
    {
      "cell_type": "code",
      "execution_count": null,
      "id": "298058bc",
      "metadata": {
        "id": "298058bc"
      },
      "outputs": [],
      "source": [
        "train_inputs[numeric_cols] = imputer.transform(train_inputs[numeric_cols])\n",
        "val_inputs[numeric_cols] = imputer.transform(val_inputs[numeric_cols])\n",
        "test_inputs[numeric_cols] = imputer.transform(test_inputs[numeric_cols])"
      ]
    },
    {
      "cell_type": "code",
      "execution_count": null,
      "id": "85b2105b",
      "metadata": {
        "colab": {
          "base_uri": "https://localhost:8080/"
        },
        "id": "85b2105b",
        "outputId": "be3ef9b6-bf72-4082-99ea-3075b8bd2b71"
      },
      "outputs": [],
      "source": [
        "train_inputs[numeric_cols].isna().sum()"
      ]
    },
    {
      "cell_type": "markdown",
      "id": "7702bd57",
      "metadata": {
        "id": "7702bd57"
      },
      "source": [
        "### Scaling Numeric Features\n"
      ]
    },
    {
      "cell_type": "code",
      "execution_count": null,
      "id": "467de7f3",
      "metadata": {
        "colab": {
          "base_uri": "https://localhost:8080/",
          "height": 304
        },
        "id": "467de7f3",
        "outputId": "f60937a2-2cef-4141-edcc-2925d44d7e91"
      },
      "outputs": [],
      "source": [
        "raw_df[numeric_cols].describe()"
      ]
    },
    {
      "cell_type": "code",
      "execution_count": null,
      "id": "82ebf8a2",
      "metadata": {
        "id": "82ebf8a2"
      },
      "outputs": [],
      "source": [
        "from sklearn.preprocessing import MinMaxScaler"
      ]
    },
    {
      "cell_type": "code",
      "execution_count": null,
      "id": "b7c7b074",
      "metadata": {
        "id": "b7c7b074"
      },
      "outputs": [],
      "source": [
        "?MinMaxScaler"
      ]
    },
    {
      "cell_type": "code",
      "execution_count": null,
      "id": "11a62781",
      "metadata": {
        "id": "11a62781"
      },
      "outputs": [],
      "source": [
        "scaler = MinMaxScaler()"
      ]
    },
    {
      "cell_type": "code",
      "execution_count": null,
      "id": "b312dbaa",
      "metadata": {
        "colab": {
          "base_uri": "https://localhost:8080/"
        },
        "id": "b312dbaa",
        "outputId": "fe7b7249-58c4-443f-f706-9eeed4a13b91"
      },
      "outputs": [],
      "source": [
        "scaler.fit(raw_df[numeric_cols])"
      ]
    },
    {
      "cell_type": "code",
      "execution_count": null,
      "id": "68a688d3",
      "metadata": {
        "colab": {
          "base_uri": "https://localhost:8080/"
        },
        "id": "68a688d3",
        "outputId": "aa0639f9-f8e4-44ee-9bfe-0177ae14096f"
      },
      "outputs": [],
      "source": [
        "print('Minimum:')\n",
        "list(scaler.data_min_)"
      ]
    },
    {
      "cell_type": "code",
      "execution_count": null,
      "id": "8e4488e4",
      "metadata": {
        "colab": {
          "base_uri": "https://localhost:8080/"
        },
        "id": "8e4488e4",
        "outputId": "a7e31047-f179-4f97-cc31-a177a42e37b9"
      },
      "outputs": [],
      "source": [
        "print('Maximum:')\n",
        "list(scaler.data_max_)"
      ]
    },
    {
      "cell_type": "code",
      "execution_count": null,
      "id": "b63dc3fd",
      "metadata": {
        "id": "b63dc3fd"
      },
      "outputs": [],
      "source": [
        "train_inputs[numeric_cols] = scaler.transform(train_inputs[numeric_cols])\n",
        "val_inputs[numeric_cols] = scaler.transform(val_inputs[numeric_cols])\n",
        "test_inputs[numeric_cols] = scaler.transform(test_inputs[numeric_cols])"
      ]
    },
    {
      "cell_type": "code",
      "execution_count": null,
      "id": "ac0fe557",
      "metadata": {
        "colab": {
          "base_uri": "https://localhost:8080/",
          "height": 304
        },
        "id": "ac0fe557",
        "outputId": "cb6fe520-cf63-4bdb-c068-adfda63dd378"
      },
      "outputs": [],
      "source": [
        "train_inputs[numeric_cols].describe()"
      ]
    },
    {
      "cell_type": "markdown",
      "id": "f09f7a6f",
      "metadata": {
        "id": "f09f7a6f"
      },
      "source": [
        "### Encoding Categorical Data\n"
      ]
    },
    {
      "cell_type": "code",
      "execution_count": null,
      "id": "d2d7f4a2",
      "metadata": {
        "colab": {
          "base_uri": "https://localhost:8080/"
        },
        "id": "d2d7f4a2",
        "outputId": "4d9561ab-f0cf-4c70-e2fe-a5270e7b0faa"
      },
      "outputs": [],
      "source": [
        "raw_df[categorical_cols].nunique()"
      ]
    },
    {
      "cell_type": "code",
      "execution_count": null,
      "id": "3e61f9ba",
      "metadata": {
        "id": "3e61f9ba"
      },
      "outputs": [],
      "source": [
        "from sklearn.preprocessing import OneHotEncoder"
      ]
    },
    {
      "cell_type": "code",
      "execution_count": null,
      "id": "08c6a37a",
      "metadata": {
        "id": "08c6a37a"
      },
      "outputs": [],
      "source": [
        "?OneHotEncoder"
      ]
    },
    {
      "cell_type": "code",
      "execution_count": null,
      "id": "8af96fde",
      "metadata": {
        "id": "8af96fde"
      },
      "outputs": [],
      "source": [
        "encoder = OneHotEncoder(sparse=False, handle_unknown='ignore')"
      ]
    },
    {
      "cell_type": "code",
      "execution_count": null,
      "id": "a522d4cb",
      "metadata": {
        "colab": {
          "base_uri": "https://localhost:8080/"
        },
        "id": "a522d4cb",
        "outputId": "7789886e-1831-4f74-9231-d2d56be6fbd3"
      },
      "outputs": [],
      "source": [
        "encoder.fit(raw_df[categorical_cols])"
      ]
    },
    {
      "cell_type": "code",
      "execution_count": null,
      "id": "f2b061c5",
      "metadata": {
        "colab": {
          "base_uri": "https://localhost:8080/"
        },
        "id": "f2b061c5",
        "outputId": "b0c760b1-729a-4a45-d463-7e2ce4a8ed3a"
      },
      "outputs": [],
      "source": [
        "encoder.categories_"
      ]
    },
    {
      "cell_type": "code",
      "execution_count": null,
      "id": "c7d09757",
      "metadata": {
        "colab": {
          "base_uri": "https://localhost:8080/"
        },
        "id": "c7d09757",
        "outputId": "9b3811e8-bf8f-43ba-d94b-17967f94c91a"
      },
      "outputs": [],
      "source": [
        "encoded_cols = list(encoder.get_feature_names(categorical_cols))\n",
        "print(encoded_cols)"
      ]
    },
    {
      "cell_type": "code",
      "execution_count": null,
      "id": "a78cd751",
      "metadata": {
        "id": "a78cd751"
      },
      "outputs": [],
      "source": [
        "train_inputs[encoded_cols] = encoder.transform(train_inputs[categorical_cols])\n",
        "val_inputs[encoded_cols] = encoder.transform(val_inputs[categorical_cols])\n",
        "test_inputs[encoded_cols] = encoder.transform(test_inputs[categorical_cols])"
      ]
    },
    {
      "cell_type": "code",
      "execution_count": null,
      "id": "cd59ab75",
      "metadata": {
        "id": "cd59ab75"
      },
      "outputs": [],
      "source": [
        "pd.set_option('display.max_columns', None)"
      ]
    },
    {
      "cell_type": "code",
      "execution_count": null,
      "id": "cdd50a4d",
      "metadata": {
        "colab": {
          "base_uri": "https://localhost:8080/",
          "height": 422
        },
        "id": "cdd50a4d",
        "outputId": "6181769d-190e-438e-afaa-a1ad577da4b4"
      },
      "outputs": [],
      "source": [
        "test_inputs"
      ]
    },
    {
      "cell_type": "code",
      "execution_count": null,
      "id": "ee5b07d2",
      "metadata": {
        "colab": {
          "base_uri": "https://localhost:8080/"
        },
        "id": "ee5b07d2",
        "outputId": "e9a83d58-0912-49ef-858f-a0a373ce50b4"
      },
      "outputs": [],
      "source": [
        "print('train_inputs:', train_inputs.shape)\n",
        "print('train_targets:', train_targets.shape)\n",
        "print('val_inputs:', val_inputs.shape)\n",
        "print('val_targets:', val_targets.shape)\n",
        "print('test_inputs:', test_inputs.shape)\n",
        "print('test_targets:', test_targets.shape)"
      ]
    },
    {
      "cell_type": "code",
      "execution_count": null,
      "id": "8077d2c9",
      "metadata": {
        "id": "8077d2c9"
      },
      "outputs": [],
      "source": [
        "!pip install pyarrow --quiet"
      ]
    },
    {
      "cell_type": "code",
      "execution_count": null,
      "id": "5399f09b",
      "metadata": {
        "id": "5399f09b"
      },
      "outputs": [],
      "source": [
        "train_inputs.to_parquet('train_inputs.parquet')\n",
        "val_inputs.to_parquet('val_inputs.parquet')\n",
        "test_inputs.to_parquet('test_inputs.parquet')"
      ]
    },
    {
      "cell_type": "code",
      "execution_count": null,
      "id": "c2053422",
      "metadata": {
        "colab": {
          "base_uri": "https://localhost:8080/"
        },
        "id": "c2053422",
        "outputId": "e532232f-2bc6-4f36-ab0e-df3ce5642d5c"
      },
      "outputs": [],
      "source": [
        "%%time\n",
        "pd.DataFrame(train_targets).to_parquet('train_targets.parquet')\n",
        "pd.DataFrame(val_targets).to_parquet('val_targets.parquet')\n",
        "pd.DataFrame(test_targets).to_parquet('test_targets.parquet')"
      ]
    },
    {
      "cell_type": "code",
      "execution_count": null,
      "id": "530f68c0",
      "metadata": {
        "colab": {
          "base_uri": "https://localhost:8080/"
        },
        "id": "530f68c0",
        "outputId": "eae452f3-7e77-4e88-e693-bdc4f4940a47"
      },
      "outputs": [],
      "source": [
        "%%time\n",
        "\n",
        "train_inputs = pd.read_parquet('train_inputs.parquet')\n",
        "val_inputs = pd.read_parquet('val_inputs.parquet')\n",
        "test_inputs = pd.read_parquet('test_inputs.parquet')\n",
        "\n",
        "train_targets = pd.read_parquet('train_targets.parquet')[target_col]\n",
        "val_targets = pd.read_parquet('val_targets.parquet')[target_col]\n",
        "test_targets = pd.read_parquet('test_targets.parquet')[target_col]"
      ]
    },
    {
      "cell_type": "code",
      "execution_count": null,
      "id": "7eecc25c",
      "metadata": {
        "colab": {
          "base_uri": "https://localhost:8080/"
        },
        "id": "7eecc25c",
        "outputId": "cc571a54-a345-40d0-d14e-9d5347ac5e1a"
      },
      "outputs": [],
      "source": [
        "print('train_inputs:', train_inputs.shape)\n",
        "print('train_targets:', train_targets.shape)\n",
        "print('val_inputs:', val_inputs.shape)\n",
        "print('val_targets:', val_targets.shape)\n",
        "print('test_inputs:', test_inputs.shape)\n",
        "print('test_targets:', test_targets.shape)"
      ]
    },
    {
      "cell_type": "code",
      "execution_count": null,
      "id": "ad336075",
      "metadata": {
        "colab": {
          "base_uri": "https://localhost:8080/",
          "height": 422
        },
        "id": "ad336075",
        "outputId": "1fb85230-f9f7-4314-efac-c4a23fc69ff6"
      },
      "outputs": [],
      "source": [
        "val_inputs"
      ]
    },
    {
      "cell_type": "code",
      "execution_count": null,
      "id": "eaa8b0d1",
      "metadata": {
        "colab": {
          "base_uri": "https://localhost:8080/"
        },
        "id": "eaa8b0d1",
        "outputId": "47012041-31f7-4003-8219-f20bd69aa17a"
      },
      "outputs": [],
      "source": [
        "val_targets"
      ]
    },
    {
      "cell_type": "markdown",
      "id": "e209dace",
      "metadata": {
        "id": "e209dace"
      },
      "source": [
        "### Training  Logistic Regression Model\n",
        "\n"
      ]
    },
    {
      "cell_type": "code",
      "execution_count": null,
      "id": "d8ada6f3",
      "metadata": {
        "id": "d8ada6f3"
      },
      "outputs": [],
      "source": [
        "from sklearn.linear_model import LogisticRegression"
      ]
    },
    {
      "cell_type": "code",
      "execution_count": null,
      "id": "b1ed1a92",
      "metadata": {
        "id": "b1ed1a92"
      },
      "outputs": [],
      "source": [
        "?LogisticRegression"
      ]
    },
    {
      "cell_type": "code",
      "execution_count": null,
      "id": "f20d0c47",
      "metadata": {
        "id": "f20d0c47"
      },
      "outputs": [],
      "source": [
        "model = LogisticRegression(solver='liblinear')"
      ]
    },
    {
      "cell_type": "code",
      "execution_count": null,
      "id": "12f1ef3f",
      "metadata": {
        "colab": {
          "base_uri": "https://localhost:8080/"
        },
        "id": "12f1ef3f",
        "outputId": "49c828dd-2d2f-4163-f4c7-652c7ade0544"
      },
      "outputs": [],
      "source": [
        "model.fit(train_inputs[numeric_cols + encoded_cols], train_targets)"
      ]
    },
    {
      "cell_type": "markdown",
      "id": "dd2f52a0",
      "metadata": {
        "id": "dd2f52a0"
      },
      "source": [
        "Let's check the weights and biases of the trained model."
      ]
    },
    {
      "cell_type": "code",
      "execution_count": null,
      "id": "b705c20a",
      "metadata": {
        "colab": {
          "base_uri": "https://localhost:8080/"
        },
        "id": "b705c20a",
        "outputId": "ca04a0d6-297c-49ab-cc6c-445ebb593479"
      },
      "outputs": [],
      "source": [
        "print(numeric_cols + encoded_cols)"
      ]
    },
    {
      "cell_type": "code",
      "execution_count": null,
      "id": "76100b5d",
      "metadata": {
        "colab": {
          "base_uri": "https://localhost:8080/"
        },
        "id": "76100b5d",
        "outputId": "bb3a3cbd-2ea6-4c75-b72c-4cb615a6c922"
      },
      "outputs": [],
      "source": [
        "print(model.coef_.tolist())"
      ]
    },
    {
      "cell_type": "code",
      "execution_count": null,
      "id": "3a51d034",
      "metadata": {
        "colab": {
          "base_uri": "https://localhost:8080/"
        },
        "id": "3a51d034",
        "outputId": "b0fb2749-16de-4a40-9ce8-409eb277ea6f"
      },
      "outputs": [],
      "source": [
        "print(model.intercept_)"
      ]
    },
    {
      "cell_type": "markdown",
      "id": "b2e52505",
      "metadata": {
        "id": "b2e52505"
      },
      "source": [
        "### Predictions and Evaluating the Model\n",
        "\n"
      ]
    },
    {
      "cell_type": "code",
      "execution_count": null,
      "id": "e7ba501a",
      "metadata": {
        "id": "e7ba501a"
      },
      "outputs": [],
      "source": [
        "X_train = train_inputs[numeric_cols + encoded_cols]\n",
        "X_val = val_inputs[numeric_cols + encoded_cols]\n",
        "X_test = test_inputs[numeric_cols + encoded_cols]"
      ]
    },
    {
      "cell_type": "code",
      "execution_count": null,
      "id": "43cf2a43",
      "metadata": {
        "id": "43cf2a43"
      },
      "outputs": [],
      "source": [
        "train_preds = model.predict(X_train)"
      ]
    },
    {
      "cell_type": "code",
      "execution_count": null,
      "id": "d0c80104",
      "metadata": {
        "colab": {
          "base_uri": "https://localhost:8080/"
        },
        "id": "d0c80104",
        "outputId": "d9be93ff-034e-42ca-bf3c-e082ff602115"
      },
      "outputs": [],
      "source": [
        "train_preds"
      ]
    },
    {
      "cell_type": "code",
      "execution_count": null,
      "id": "95d094a2",
      "metadata": {
        "colab": {
          "base_uri": "https://localhost:8080/"
        },
        "id": "95d094a2",
        "outputId": "a5e92599-dbab-48aa-db46-e43f9a71dead"
      },
      "outputs": [],
      "source": [
        "train_targets"
      ]
    },
    {
      "cell_type": "code",
      "execution_count": null,
      "id": "69d0c162",
      "metadata": {
        "colab": {
          "base_uri": "https://localhost:8080/"
        },
        "id": "69d0c162",
        "outputId": "1fabf73c-8d8f-4f75-b717-b7f7e5039501"
      },
      "outputs": [],
      "source": [
        "train_probs = model.predict_proba(X_train)\n",
        "train_probs"
      ]
    },
    {
      "cell_type": "code",
      "execution_count": null,
      "id": "d96a2011",
      "metadata": {
        "colab": {
          "base_uri": "https://localhost:8080/"
        },
        "id": "d96a2011",
        "outputId": "1c7e56b0-632b-41da-9d51-a67bca311c34"
      },
      "outputs": [],
      "source": [
        "model.classes_"
      ]
    },
    {
      "cell_type": "code",
      "execution_count": null,
      "id": "5e990516",
      "metadata": {
        "id": "5e990516"
      },
      "outputs": [],
      "source": [
        "from sklearn.metrics import accuracy_score"
      ]
    },
    {
      "cell_type": "code",
      "execution_count": null,
      "id": "9564a00a",
      "metadata": {
        "colab": {
          "base_uri": "https://localhost:8080/"
        },
        "id": "9564a00a",
        "outputId": "9fa2cc6d-0147-4e75-da3c-dea735da231b"
      },
      "outputs": [],
      "source": [
        "accuracy_score(train_targets, train_preds)"
      ]
    },
    {
      "cell_type": "code",
      "execution_count": null,
      "id": "810a73e7",
      "metadata": {
        "id": "810a73e7"
      },
      "outputs": [],
      "source": [
        "from sklearn.metrics import confusion_matrix"
      ]
    },
    {
      "cell_type": "code",
      "execution_count": null,
      "id": "1b04b012",
      "metadata": {
        "colab": {
          "base_uri": "https://localhost:8080/"
        },
        "id": "1b04b012",
        "outputId": "66af2835-82cf-46e1-8d13-f2d69816f53a"
      },
      "outputs": [],
      "source": [
        "confusion_matrix(train_targets, train_preds, normalize='true')"
      ]
    },
    {
      "cell_type": "code",
      "execution_count": null,
      "id": "32e0fd25",
      "metadata": {
        "id": "32e0fd25"
      },
      "outputs": [],
      "source": [
        "def predict_and_plot(inputs, targets, name=''):\n",
        "    preds = model.predict(inputs)\n",
        "    \n",
        "    accuracy = accuracy_score(targets, preds)\n",
        "    print(\"Accuracy: {:.2f}%\".format(accuracy * 100))\n",
        "    \n",
        "    cf = confusion_matrix(targets, preds, normalize='true')\n",
        "    plt.figure()\n",
        "    sns.heatmap(cf, annot=True)\n",
        "    plt.xlabel('Prediction')\n",
        "    plt.ylabel('Target')\n",
        "    plt.title('{} Confusion Matrix'.format(name));\n",
        "    \n",
        "    return preds"
      ]
    },
    {
      "cell_type": "code",
      "execution_count": null,
      "id": "77a3eb7a",
      "metadata": {
        "colab": {
          "base_uri": "https://localhost:8080/"
        },
        "id": "77a3eb7a",
        "outputId": "2ff19ce8-ccee-4a26-88bc-cdfe04188456"
      },
      "outputs": [],
      "source": [
        "train_preds = predict_and_plot(X_train, train_targets, 'Training')"
      ]
    },
    {
      "cell_type": "code",
      "execution_count": null,
      "id": "25e3da8a",
      "metadata": {
        "colab": {
          "base_uri": "https://localhost:8080/"
        },
        "id": "25e3da8a",
        "outputId": "62c5e5d1-ea80-446d-902e-fcf5fd2eac2a"
      },
      "outputs": [],
      "source": [
        "val_preds = predict_and_plot(X_val, val_targets, 'Validatiaon')"
      ]
    },
    {
      "cell_type": "code",
      "execution_count": null,
      "id": "9b666762",
      "metadata": {
        "colab": {
          "base_uri": "https://localhost:8080/"
        },
        "id": "9b666762",
        "outputId": "13999644-d807-4c90-9703-e10e4a5e44d1"
      },
      "outputs": [],
      "source": [
        "test_preds = predict_and_plot(X_test, test_targets, 'Test')"
      ]
    },
    {
      "cell_type": "code",
      "execution_count": null,
      "id": "8ebf4d57",
      "metadata": {
        "id": "8ebf4d57"
      },
      "outputs": [],
      "source": [
        "def random_guess(inputs):\n",
        "    return np.random.choice([\"No\", \"Yes\"], len(inputs))"
      ]
    },
    {
      "cell_type": "code",
      "execution_count": null,
      "id": "54f82c9c",
      "metadata": {
        "id": "54f82c9c"
      },
      "outputs": [],
      "source": [
        "def all_no(inputs):\n",
        "    return np.full(len(inputs), \"No\")"
      ]
    },
    {
      "cell_type": "code",
      "execution_count": null,
      "id": "80762d53",
      "metadata": {
        "colab": {
          "base_uri": "https://localhost:8080/"
        },
        "id": "80762d53",
        "outputId": "0d3c793e-b140-443c-d699-45143fe63b8a"
      },
      "outputs": [],
      "source": [
        "accuracy_score(test_targets, random_guess(X_test))"
      ]
    },
    {
      "cell_type": "code",
      "execution_count": null,
      "id": "12c321c9",
      "metadata": {
        "colab": {
          "base_uri": "https://localhost:8080/"
        },
        "id": "12c321c9",
        "outputId": "f7f843e4-c1a2-46e2-8846-d66719daea9b"
      },
      "outputs": [],
      "source": [
        "accuracy_score(test_targets, all_no(X_test))"
      ]
    },
    {
      "cell_type": "markdown",
      "id": "ebafe739",
      "metadata": {
        "id": "ebafe739"
      },
      "source": [
        "### Making Predictions \n",
        "\n"
      ]
    },
    {
      "cell_type": "code",
      "execution_count": null,
      "id": "1b887fde",
      "metadata": {
        "id": "1b887fde"
      },
      "outputs": [],
      "source": [
        "new_input = {'Date': '2021-06-19',\n",
        "             'Location': 'Katherine',\n",
        "             'MinTemp': 23.2,\n",
        "             'MaxTemp': 33.2,\n",
        "             'Rainfall': 10.2,\n",
        "             'Evaporation': 4.2,\n",
        "             'Sunshine': np.nan,\n",
        "             'WindGustDir': 'NNW',\n",
        "             'WindGustSpeed': 52.0,\n",
        "             'WindDir9am': 'NW',\n",
        "             'WindDir3pm': 'NNE',\n",
        "             'WindSpeed9am': 13.0,\n",
        "             'WindSpeed3pm': 20.0,\n",
        "             'Humidity9am': 89.0,\n",
        "             'Humidity3pm': 58.0,\n",
        "             'Pressure9am': 1004.8,\n",
        "             'Pressure3pm': 1001.5,\n",
        "             'Cloud9am': 8.0,\n",
        "             'Cloud3pm': 5.0,\n",
        "             'Temp9am': 25.7,\n",
        "             'Temp3pm': 33.0,\n",
        "             'RainToday': 'Yes'}"
      ]
    },
    {
      "cell_type": "code",
      "execution_count": null,
      "id": "035254e2",
      "metadata": {
        "id": "035254e2"
      },
      "outputs": [],
      "source": [
        "new_input_df = pd.DataFrame([new_input])"
      ]
    },
    {
      "cell_type": "code",
      "execution_count": null,
      "id": "8abe4e70",
      "metadata": {
        "colab": {
          "base_uri": "https://localhost:8080/"
        },
        "id": "8abe4e70",
        "outputId": "1445f03f-f6c8-4521-af13-07061b8e0389"
      },
      "outputs": [],
      "source": [
        "new_input_df"
      ]
    },
    {
      "cell_type": "code",
      "execution_count": null,
      "id": "345b8413",
      "metadata": {
        "id": "345b8413"
      },
      "outputs": [],
      "source": [
        "new_input_df[numeric_cols] = imputer.transform(new_input_df[numeric_cols])\n",
        "new_input_df[numeric_cols] = scaler.transform(new_input_df[numeric_cols])\n",
        "new_input_df[encoded_cols] = encoder.transform(new_input_df[categorical_cols])"
      ]
    },
    {
      "cell_type": "code",
      "execution_count": null,
      "id": "086ed184",
      "metadata": {
        "colab": {
          "base_uri": "https://localhost:8080/"
        },
        "id": "086ed184",
        "outputId": "d95b210c-3ef7-4bbe-dad8-a50823baac6b"
      },
      "outputs": [],
      "source": [
        "X_new_input = new_input_df[numeric_cols + encoded_cols]\n",
        "X_new_input"
      ]
    },
    {
      "cell_type": "code",
      "execution_count": null,
      "id": "3ad8ce27",
      "metadata": {
        "id": "3ad8ce27"
      },
      "outputs": [],
      "source": [
        "prediction = model.predict(X_new_input)[0]"
      ]
    },
    {
      "cell_type": "code",
      "execution_count": null,
      "id": "81b3278d",
      "metadata": {
        "colab": {
          "base_uri": "https://localhost:8080/"
        },
        "id": "81b3278d",
        "outputId": "b7aaa513-8f84-41cf-fe7f-46f3e7ca1410"
      },
      "outputs": [],
      "source": [
        "prediction"
      ]
    },
    {
      "cell_type": "code",
      "execution_count": null,
      "id": "4d3dcb12",
      "metadata": {
        "id": "4d3dcb12"
      },
      "outputs": [],
      "source": [
        "prob = model.predict_proba(X_new_input)[0]"
      ]
    },
    {
      "cell_type": "code",
      "execution_count": null,
      "id": "610e449b",
      "metadata": {
        "colab": {
          "base_uri": "https://localhost:8080/"
        },
        "id": "610e449b",
        "outputId": "e7cbd3c0-b9ab-4e56-cfa1-6bf4dffce0ea"
      },
      "outputs": [],
      "source": [
        "prob"
      ]
    },
    {
      "cell_type": "code",
      "execution_count": null,
      "id": "feb1fa64",
      "metadata": {
        "id": "feb1fa64"
      },
      "outputs": [],
      "source": [
        "def predict_input(single_input):\n",
        "    input_df = pd.DataFrame([single_input])\n",
        "    input_df[numeric_cols] = imputer.transform(input_df[numeric_cols])\n",
        "    input_df[numeric_cols] = scaler.transform(input_df[numeric_cols])\n",
        "    input_df[encoded_cols] = encoder.transform(input_df[categorical_cols])\n",
        "    X_input = input_df[numeric_cols + encoded_cols]\n",
        "    pred = model.predict(X_input)[0]\n",
        "    prob = model.predict_proba(X_input)[0][list(model.classes_).index(pred)]\n",
        "    return pred, prob"
      ]
    },
    {
      "cell_type": "code",
      "execution_count": null,
      "id": "ceeea73a",
      "metadata": {
        "id": "ceeea73a"
      },
      "outputs": [],
      "source": [
        "new_input = {'Date': '2021-06-19',\n",
        "             'Location': 'Launceston',\n",
        "             'MinTemp': 23.2,\n",
        "             'MaxTemp': 33.2,\n",
        "             'Rainfall': 10.2,\n",
        "             'Evaporation': 4.2,\n",
        "             'Sunshine': np.nan,\n",
        "             'WindGustDir': 'NNW',\n",
        "             'WindGustSpeed': 52.0,\n",
        "             'WindDir9am': 'NW',\n",
        "             'WindDir3pm': 'NNE',\n",
        "             'WindSpeed9am': 13.0,\n",
        "             'WindSpeed3pm': 20.0,\n",
        "             'Humidity9am': 89.0,\n",
        "             'Humidity3pm': 58.0,\n",
        "             'Pressure9am': 1004.8,\n",
        "             'Pressure3pm': 1001.5,\n",
        "             'Cloud9am': 8.0,\n",
        "             'Cloud3pm': 5.0,\n",
        "             'Temp9am': 25.7,\n",
        "             'Temp3pm': 33.0,\n",
        "             'RainToday': 'Yes'}"
      ]
    },
    {
      "cell_type": "code",
      "execution_count": null,
      "id": "71b080f7",
      "metadata": {
        "colab": {
          "base_uri": "https://localhost:8080/"
        },
        "id": "71b080f7",
        "outputId": "ed88caef-18a7-4aa3-91eb-11d52a21f882"
      },
      "outputs": [],
      "source": [
        "predict_input(new_input)"
      ]
    },
    {
      "cell_type": "code",
      "execution_count": null,
      "id": "9361c3d3",
      "metadata": {
        "colab": {
          "base_uri": "https://localhost:8080/"
        },
        "id": "9361c3d3",
        "outputId": "6f40ceca-99fb-47db-cbe5-ea0e79f7f72a"
      },
      "outputs": [],
      "source": [
        "raw_df.Location.unique()"
      ]
    },
    {
      "cell_type": "code",
      "execution_count": null,
      "id": "e6de1b8d",
      "metadata": {
        "id": "e6de1b8d"
      },
      "outputs": [],
      "source": []
    },
    {
      "cell_type": "code",
      "execution_count": null,
      "id": "7414263f",
      "metadata": {
        "id": "7414263f"
      },
      "outputs": [],
      "source": []
    },
    {
      "cell_type": "markdown",
      "id": "3396e0ec",
      "metadata": {
        "id": "3396e0ec"
      },
      "source": [
        "### Saving and Loading Trained Models\n"
      ]
    },
    {
      "cell_type": "code",
      "execution_count": null,
      "id": "35209777",
      "metadata": {
        "id": "35209777"
      },
      "outputs": [],
      "source": [
        "import joblib"
      ]
    },
    {
      "cell_type": "code",
      "execution_count": null,
      "id": "ffaf2279",
      "metadata": {
        "id": "ffaf2279"
      },
      "outputs": [],
      "source": [
        "aussie_rain = {\n",
        "    'model': model,\n",
        "    'imputer': imputer,\n",
        "    'scaler': scaler,\n",
        "    'encoder': encoder,\n",
        "    'input_cols': input_cols,\n",
        "    'target_col': target_col,\n",
        "    'numeric_cols': numeric_cols,\n",
        "    'categorical_cols': categorical_cols,\n",
        "    'encoded_cols': encoded_cols\n",
        "}"
      ]
    },
    {
      "cell_type": "code",
      "execution_count": null,
      "id": "0925343c",
      "metadata": {
        "colab": {
          "base_uri": "https://localhost:8080/"
        },
        "id": "0925343c",
        "outputId": "92cdcfbd-a280-4741-fb85-7461e42806c8"
      },
      "outputs": [],
      "source": [
        "joblib.dump(aussie_rain, 'aussie_rain.joblib')"
      ]
    },
    {
      "cell_type": "code",
      "execution_count": null,
      "id": "bbad2b2f",
      "metadata": {
        "id": "bbad2b2f"
      },
      "outputs": [],
      "source": [
        "aussie_rain2 = joblib.load('aussie_rain.joblib')"
      ]
    },
    {
      "cell_type": "code",
      "execution_count": null,
      "id": "c3a25dbb",
      "metadata": {
        "colab": {
          "base_uri": "https://localhost:8080/"
        },
        "id": "c3a25dbb",
        "outputId": "53673f46-def7-4ae6-c894-cfec587277cf"
      },
      "outputs": [],
      "source": [
        "test_preds2 = aussie_rain2['model'].predict(X_test)\n",
        "accuracy_score(test_targets, test_preds2)"
      ]
    }
  ],
  "metadata": {
    "colab": {
      "name": "python-sklearn-logistic-regression.ipynb",
      "provenance": []
    },
    "kernelspec": {
      "display_name": "Python 3",
      "language": "python",
      "name": "python3"
    },
    "language_info": {
      "codemirror_mode": {
        "name": "ipython",
        "version": 3
      },
      "file_extension": ".py",
      "mimetype": "text/x-python",
      "name": "python",
      "nbconvert_exporter": "python",
      "pygments_lexer": "ipython3",
      "version": "3.9.5"
    }
  },
  "nbformat": 4,
  "nbformat_minor": 5
}
