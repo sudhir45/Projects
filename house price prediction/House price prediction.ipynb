{
 "cells": [
  {
   "cell_type": "markdown",
   "id": "leading-boundary",
   "metadata": {
    "id": "leading-boundary"
   },
   "source": [
    "# House Price Prediction with Linear Regression\n"
   ]
  },
  {
   "cell_type": "code",
   "execution_count": null,
   "id": "exposed-southwest",
   "metadata": {
    "executionInfo": {
     "elapsed": 2776,
     "status": "ok",
     "timestamp": 1625118299108,
     "user": {
      "displayName": "Sudhir Dubey",
      "photoUrl": "https://lh3.googleusercontent.com/a-/AOh14GjiCM88vscuTSbYNS_QlBqdfGYtG7YawBWr5DRA0mI=s64",
      "userId": "07151276408623246982"
     },
     "user_tz": -330
    },
    "id": "exposed-southwest"
   },
   "outputs": [],
   "source": [
    "!pip install numpy pandas matplotlib seaborn plotly opendatasets --quiet"
   ]
  },
  {
   "cell_type": "markdown",
   "id": "contrary-inside",
   "metadata": {
    "id": "contrary-inside"
   },
   "source": [
    "## Exploring the Data\n",
    "\n"
   ]
  },
  {
   "cell_type": "code",
   "execution_count": null,
   "id": "seasonal-senate",
   "metadata": {
    "executionInfo": {
     "elapsed": 611,
     "status": "ok",
     "timestamp": 1625118851597,
     "user": {
      "displayName": "Sudhir Dubey",
      "photoUrl": "https://lh3.googleusercontent.com/a-/AOh14GjiCM88vscuTSbYNS_QlBqdfGYtG7YawBWr5DRA0mI=s64",
      "userId": "07151276408623246982"
     },
     "user_tz": -330
    },
    "id": "seasonal-senate"
   },
   "outputs": [],
   "source": [
    "dataset_url = 'https://github.com/JovianML/opendatasets/raw/master/data/house-prices-advanced-regression-techniques.zip'"
   ]
  },
  {
   "cell_type": "code",
   "execution_count": null,
   "id": "protecting-pasta",
   "metadata": {
    "executionInfo": {
     "elapsed": 3,
     "status": "ok",
     "timestamp": 1625118853358,
     "user": {
      "displayName": "Sudhir Dubey",
      "photoUrl": "https://lh3.googleusercontent.com/a-/AOh14GjiCM88vscuTSbYNS_QlBqdfGYtG7YawBWr5DRA0mI=s64",
      "userId": "07151276408623246982"
     },
     "user_tz": -330
    },
    "id": "protecting-pasta"
   },
   "outputs": [],
   "source": [
    "from urllib.request import urlretrieve"
   ]
  },
  {
   "cell_type": "code",
   "execution_count": null,
   "id": "vital-large",
   "metadata": {
    "colab": {
     "base_uri": "https://localhost:8080/"
    },
    "executionInfo": {
     "elapsed": 448,
     "status": "ok",
     "timestamp": 1625118854416,
     "user": {
      "displayName": "Sudhir Dubey",
      "photoUrl": "https://lh3.googleusercontent.com/a-/AOh14GjiCM88vscuTSbYNS_QlBqdfGYtG7YawBWr5DRA0mI=s64",
      "userId": "07151276408623246982"
     },
     "user_tz": -330
    },
    "id": "vital-large",
    "outputId": "6d4563ad-12a2-470e-acb1-5f24bf8b4b0d"
   },
   "outputs": [],
   "source": [
    "urlretrieve(dataset_url, 'house-prices.zip')"
   ]
  },
  {
   "cell_type": "code",
   "execution_count": null,
   "id": "frequent-orange",
   "metadata": {
    "executionInfo": {
     "elapsed": 477,
     "status": "ok",
     "timestamp": 1625118861394,
     "user": {
      "displayName": "Sudhir Dubey",
      "photoUrl": "https://lh3.googleusercontent.com/a-/AOh14GjiCM88vscuTSbYNS_QlBqdfGYtG7YawBWr5DRA0mI=s64",
      "userId": "07151276408623246982"
     },
     "user_tz": -330
    },
    "id": "frequent-orange"
   },
   "outputs": [],
   "source": [
    "from zipfile import ZipFile"
   ]
  },
  {
   "cell_type": "code",
   "execution_count": null,
   "id": "stylish-concentration",
   "metadata": {
    "executionInfo": {
     "elapsed": 2,
     "status": "ok",
     "timestamp": 1625118862926,
     "user": {
      "displayName": "Sudhir Dubey",
      "photoUrl": "https://lh3.googleusercontent.com/a-/AOh14GjiCM88vscuTSbYNS_QlBqdfGYtG7YawBWr5DRA0mI=s64",
      "userId": "07151276408623246982"
     },
     "user_tz": -330
    },
    "id": "stylish-concentration"
   },
   "outputs": [],
   "source": [
    "with ZipFile('house-prices.zip') as f:\n",
    "    f.extractall(path='house-prices')"
   ]
  },
  {
   "cell_type": "code",
   "execution_count": null,
   "id": "commercial-float",
   "metadata": {
    "executionInfo": {
     "elapsed": 901,
     "status": "ok",
     "timestamp": 1625118868695,
     "user": {
      "displayName": "Sudhir Dubey",
      "photoUrl": "https://lh3.googleusercontent.com/a-/AOh14GjiCM88vscuTSbYNS_QlBqdfGYtG7YawBWr5DRA0mI=s64",
      "userId": "07151276408623246982"
     },
     "user_tz": -330
    },
    "id": "commercial-float"
   },
   "outputs": [],
   "source": [
    "import os"
   ]
  },
  {
   "cell_type": "code",
   "execution_count": null,
   "id": "international-england",
   "metadata": {
    "executionInfo": {
     "elapsed": 2,
     "status": "ok",
     "timestamp": 1625118870006,
     "user": {
      "displayName": "Sudhir Dubey",
      "photoUrl": "https://lh3.googleusercontent.com/a-/AOh14GjiCM88vscuTSbYNS_QlBqdfGYtG7YawBWr5DRA0mI=s64",
      "userId": "07151276408623246982"
     },
     "user_tz": -330
    },
    "id": "international-england"
   },
   "outputs": [],
   "source": [
    "data_dir = 'house-prices'"
   ]
  },
  {
   "cell_type": "code",
   "execution_count": null,
   "id": "fixed-corruption",
   "metadata": {
    "colab": {
     "base_uri": "https://localhost:8080/"
    },
    "executionInfo": {
     "elapsed": 3,
     "status": "ok",
     "timestamp": 1625118870453,
     "user": {
      "displayName": "Sudhir Dubey",
      "photoUrl": "https://lh3.googleusercontent.com/a-/AOh14GjiCM88vscuTSbYNS_QlBqdfGYtG7YawBWr5DRA0mI=s64",
      "userId": "07151276408623246982"
     },
     "user_tz": -330
    },
    "id": "fixed-corruption",
    "outputId": "95d083b0-f47c-422c-ad71-a51eec016b5b"
   },
   "outputs": [],
   "source": [
    "os.listdir(data_dir)"
   ]
  },
  {
   "cell_type": "code",
   "execution_count": null,
   "id": "brutal-peter",
   "metadata": {
    "executionInfo": {
     "elapsed": 2,
     "status": "ok",
     "timestamp": 1625118872349,
     "user": {
      "displayName": "Sudhir Dubey",
      "photoUrl": "https://lh3.googleusercontent.com/a-/AOh14GjiCM88vscuTSbYNS_QlBqdfGYtG7YawBWr5DRA0mI=s64",
      "userId": "07151276408623246982"
     },
     "user_tz": -330
    },
    "id": "brutal-peter"
   },
   "outputs": [],
   "source": [
    "import pandas as pd\n",
    "pd.options.display.max_columns = 200\n",
    "pd.options.display.max_rows = 200"
   ]
  },
  {
   "cell_type": "code",
   "execution_count": null,
   "id": "prepared-simon",
   "metadata": {
    "colab": {
     "base_uri": "https://localhost:8080/",
     "height": 35
    },
    "executionInfo": {
     "elapsed": 825,
     "status": "ok",
     "timestamp": 1625121037507,
     "user": {
      "displayName": "Sudhir Dubey",
      "photoUrl": "https://lh3.googleusercontent.com/a-/AOh14GjiCM88vscuTSbYNS_QlBqdfGYtG7YawBWr5DRA0mI=s64",
      "userId": "07151276408623246982"
     },
     "user_tz": -330
    },
    "id": "prepared-simon",
    "outputId": "d7d0d7b3-ddf9-4941-99d8-0052456310d3"
   },
   "outputs": [],
   "source": [
    "train_csv_path = data_dir + '/train.csv'\n",
    "train_csv_path"
   ]
  },
  {
   "cell_type": "code",
   "execution_count": null,
   "id": "collected-witness",
   "metadata": {
    "executionInfo": {
     "elapsed": 2,
     "status": "ok",
     "timestamp": 1625121042083,
     "user": {
      "displayName": "Sudhir Dubey",
      "photoUrl": "https://lh3.googleusercontent.com/a-/AOh14GjiCM88vscuTSbYNS_QlBqdfGYtG7YawBWr5DRA0mI=s64",
      "userId": "07151276408623246982"
     },
     "user_tz": -330
    },
    "id": "collected-witness"
   },
   "outputs": [],
   "source": [
    "prices_df = pd.read_csv(train_csv_path)"
   ]
  },
  {
   "cell_type": "code",
   "execution_count": null,
   "id": "constitutional-concrete",
   "metadata": {
    "colab": {
     "base_uri": "https://localhost:8080/",
     "height": 422
    },
    "executionInfo": {
     "elapsed": 8,
     "status": "ok",
     "timestamp": 1625121044666,
     "user": {
      "displayName": "Sudhir Dubey",
      "photoUrl": "https://lh3.googleusercontent.com/a-/AOh14GjiCM88vscuTSbYNS_QlBqdfGYtG7YawBWr5DRA0mI=s64",
      "userId": "07151276408623246982"
     },
     "user_tz": -330
    },
    "id": "constitutional-concrete",
    "outputId": "4f901ca9-c4fd-44dd-f64a-47e01c5f18d4"
   },
   "outputs": [],
   "source": [
    "prices_df"
   ]
  },
  {
   "cell_type": "code",
   "execution_count": null,
   "id": "particular-worth",
   "metadata": {
    "colab": {
     "base_uri": "https://localhost:8080/"
    },
    "executionInfo": {
     "elapsed": 1114,
     "status": "ok",
     "timestamp": 1625118950518,
     "user": {
      "displayName": "Sudhir Dubey",
      "photoUrl": "https://lh3.googleusercontent.com/a-/AOh14GjiCM88vscuTSbYNS_QlBqdfGYtG7YawBWr5DRA0mI=s64",
      "userId": "07151276408623246982"
     },
     "user_tz": -330
    },
    "id": "particular-worth",
    "outputId": "538159ed-4653-49fc-d657-cc32137b27fc"
   },
   "outputs": [],
   "source": [
    "prices_df.info()"
   ]
  },
  {
   "cell_type": "code",
   "execution_count": null,
   "id": "personalized-honor",
   "metadata": {
    "colab": {
     "base_uri": "https://localhost:8080/"
    },
    "executionInfo": {
     "elapsed": 1481,
     "status": "ok",
     "timestamp": 1625121504560,
     "user": {
      "displayName": "Sudhir Dubey",
      "photoUrl": "https://lh3.googleusercontent.com/a-/AOh14GjiCM88vscuTSbYNS_QlBqdfGYtG7YawBWr5DRA0mI=s64",
      "userId": "07151276408623246982"
     },
     "user_tz": -330
    },
    "id": "personalized-honor",
    "outputId": "dca7efe4-7c28-446b-d445-ea3f88179b30"
   },
   "outputs": [],
   "source": [
    "n_rows = prices_df.shape[0]\n",
    "n_rows"
   ]
  },
  {
   "cell_type": "code",
   "execution_count": null,
   "id": "compound-parish",
   "metadata": {
    "colab": {
     "base_uri": "https://localhost:8080/"
    },
    "executionInfo": {
     "elapsed": 8,
     "status": "ok",
     "timestamp": 1625121542382,
     "user": {
      "displayName": "Sudhir Dubey",
      "photoUrl": "https://lh3.googleusercontent.com/a-/AOh14GjiCM88vscuTSbYNS_QlBqdfGYtG7YawBWr5DRA0mI=s64",
      "userId": "07151276408623246982"
     },
     "user_tz": -330
    },
    "id": "compound-parish",
    "outputId": "6b75b2c4-e438-449a-9909-adc0f1479a52"
   },
   "outputs": [],
   "source": [
    "n_cols = prices_df.shape[1]\n",
    "n_cols"
   ]
  },
  {
   "cell_type": "code",
   "execution_count": null,
   "id": "instant-providence",
   "metadata": {
    "colab": {
     "base_uri": "https://localhost:8080/"
    },
    "executionInfo": {
     "elapsed": 502,
     "status": "ok",
     "timestamp": 1625121549592,
     "user": {
      "displayName": "Sudhir Dubey",
      "photoUrl": "https://lh3.googleusercontent.com/a-/AOh14GjiCM88vscuTSbYNS_QlBqdfGYtG7YawBWr5DRA0mI=s64",
      "userId": "07151276408623246982"
     },
     "user_tz": -330
    },
    "id": "instant-providence",
    "outputId": "9e44d6c3-00c3-49c8-9cce-11b134a54455"
   },
   "outputs": [],
   "source": [
    "print('The dataset contains {} rows and {} columns.'.format(n_rows, n_cols))"
   ]
  },
  {
   "cell_type": "code",
   "execution_count": null,
   "id": "surface-mother",
   "metadata": {
    "executionInfo": {
     "elapsed": 953,
     "status": "ok",
     "timestamp": 1625122012664,
     "user": {
      "displayName": "Sudhir Dubey",
      "photoUrl": "https://lh3.googleusercontent.com/a-/AOh14GjiCM88vscuTSbYNS_QlBqdfGYtG7YawBWr5DRA0mI=s64",
      "userId": "07151276408623246982"
     },
     "user_tz": -330
    },
    "id": "surface-mother"
   },
   "outputs": [],
   "source": [
    "import matplotlib\n",
    "import matplotlib.pyplot as plt\n",
    "import seaborn as sns\n",
    "import plotly.express as px"
   ]
  },
  {
   "cell_type": "code",
   "execution_count": null,
   "id": "bOEpWERdnOhm",
   "metadata": {
    "colab": {
     "base_uri": "https://localhost:8080/",
     "height": 378
    },
    "executionInfo": {
     "elapsed": 1322,
     "status": "ok",
     "timestamp": 1625135329294,
     "user": {
      "displayName": "Sudhir Dubey",
      "photoUrl": "https://lh3.googleusercontent.com/a-/AOh14GjiCM88vscuTSbYNS_QlBqdfGYtG7YawBWr5DRA0mI=s64",
      "userId": "07151276408623246982"
     },
     "user_tz": -330
    },
    "id": "bOEpWERdnOhm",
    "outputId": "b11de038-b607-487a-d340-fc831bac99df"
   },
   "outputs": [],
   "source": [
    "sns.distplot(prices_df['SalePrice']);\n"
   ]
  },
  {
   "cell_type": "code",
   "execution_count": null,
   "id": "reduced-sussex",
   "metadata": {
    "colab": {
     "base_uri": "https://localhost:8080/",
     "height": 542
    },
    "executionInfo": {
     "elapsed": 1066,
     "status": "ok",
     "timestamp": 1625122853667,
     "user": {
      "displayName": "Sudhir Dubey",
      "photoUrl": "https://lh3.googleusercontent.com/a-/AOh14GjiCM88vscuTSbYNS_QlBqdfGYtG7YawBWr5DRA0mI=s64",
      "userId": "07151276408623246982"
     },
     "user_tz": -330
    },
    "id": "reduced-sussex",
    "outputId": "c729f17c-e7e9-4257-bdfb-633c90c50127"
   },
   "outputs": [],
   "source": [
    "fig = px.scatter(prices_df, x ='YearBuilt', y='SalePrice', title='YearBuilt vs SalePrice' )\n",
    "fig.update_traces(marker_size=6)\n",
    "fig.show()"
   ]
  },
  {
   "cell_type": "code",
   "execution_count": null,
   "id": "stuffed-minnesota",
   "metadata": {
    "colab": {
     "base_uri": "https://localhost:8080/",
     "height": 542
    },
    "executionInfo": {
     "elapsed": 599,
     "status": "ok",
     "timestamp": 1625122912848,
     "user": {
      "displayName": "Sudhir Dubey",
      "photoUrl": "https://lh3.googleusercontent.com/a-/AOh14GjiCM88vscuTSbYNS_QlBqdfGYtG7YawBWr5DRA0mI=s64",
      "userId": "07151276408623246982"
     },
     "user_tz": -330
    },
    "id": "stuffed-minnesota",
    "outputId": "cfd2eab4-d675-4cf8-9402-83c7fd97032b"
   },
   "outputs": [],
   "source": [
    "fig = px.scatter(prices_df, x ='LotArea', y='SalePrice', title='LotArea vs SalePrice' )\n",
    "fig.update_traces(marker_size=6)\n",
    "fig.show()"
   ]
  },
  {
   "cell_type": "code",
   "execution_count": null,
   "id": "zcjTe2EZHV4B",
   "metadata": {
    "colab": {
     "base_uri": "https://localhost:8080/",
     "height": 1000
    },
    "executionInfo": {
     "elapsed": 15662,
     "status": "ok",
     "timestamp": 1625127251493,
     "user": {
      "displayName": "Sudhir Dubey",
      "photoUrl": "https://lh3.googleusercontent.com/a-/AOh14GjiCM88vscuTSbYNS_QlBqdfGYtG7YawBWr5DRA0mI=s64",
      "userId": "07151276408623246982"
     },
     "user_tz": -330
    },
    "id": "zcjTe2EZHV4B",
    "outputId": "9105741a-0656-4a4e-af74-24a43f6b3636"
   },
   "outputs": [],
   "source": [
    "fig, ax = plt.subplots(figsize=(30,30))\n",
    "sns.heatmap(prices_df.corr(), cmap='Reds', annot=True, ax=ax)\n",
    "\n",
    "plt.title('Correlation Matrix');\n",
    "plt.show()"
   ]
  },
  {
   "cell_type": "code",
   "execution_count": null,
   "id": "eu29q8bFKbiU",
   "metadata": {
    "colab": {
     "base_uri": "https://localhost:8080/",
     "height": 1000
    },
    "executionInfo": {
     "elapsed": 23027,
     "status": "ok",
     "timestamp": 1625128231892,
     "user": {
      "displayName": "Sudhir Dubey",
      "photoUrl": "https://lh3.googleusercontent.com/a-/AOh14GjiCM88vscuTSbYNS_QlBqdfGYtG7YawBWr5DRA0mI=s64",
      "userId": "07151276408623246982"
     },
     "user_tz": -330
    },
    "id": "eu29q8bFKbiU",
    "outputId": "5b08a0e3-5660-4600-f620-0bab0b5f9a8d"
   },
   "outputs": [],
   "source": [
    "prices_df.hist(figsize=(30,30), bins=35)"
   ]
  },
  {
   "cell_type": "code",
   "execution_count": null,
   "id": "north-thanksgiving",
   "metadata": {
    "colab": {
     "base_uri": "https://localhost:8080/",
     "height": 422
    },
    "executionInfo": {
     "elapsed": 1204,
     "status": "ok",
     "timestamp": 1625128310986,
     "user": {
      "displayName": "Sudhir Dubey",
      "photoUrl": "https://lh3.googleusercontent.com/a-/AOh14GjiCM88vscuTSbYNS_QlBqdfGYtG7YawBWr5DRA0mI=s64",
      "userId": "07151276408623246982"
     },
     "user_tz": -330
    },
    "id": "north-thanksgiving",
    "outputId": "12ee88d6-a18d-4bea-f627-a9e6351cf26b"
   },
   "outputs": [],
   "source": [
    "prices_df"
   ]
  },
  {
   "cell_type": "code",
   "execution_count": null,
   "id": "august-acquisition",
   "metadata": {
    "colab": {
     "base_uri": "https://localhost:8080/"
    },
    "executionInfo": {
     "elapsed": 644,
     "status": "ok",
     "timestamp": 1625128653033,
     "user": {
      "displayName": "Sudhir Dubey",
      "photoUrl": "https://lh3.googleusercontent.com/a-/AOh14GjiCM88vscuTSbYNS_QlBqdfGYtG7YawBWr5DRA0mI=s64",
      "userId": "07151276408623246982"
     },
     "user_tz": -330
    },
    "id": "august-acquisition",
    "outputId": "45dde9d1-eae1-4e4e-ad28-2aaf49dd644a"
   },
   "outputs": [],
   "source": [
    "# Identify the input columns (a list of column names)\n",
    "input_cols = prices_df.columns[1:-1].tolist()\n",
    "input_cols"
   ]
  },
  {
   "cell_type": "code",
   "execution_count": null,
   "id": "established-actor",
   "metadata": {
    "colab": {
     "base_uri": "https://localhost:8080/",
     "height": 35
    },
    "executionInfo": {
     "elapsed": 477,
     "status": "ok",
     "timestamp": 1625128734950,
     "user": {
      "displayName": "Sudhir Dubey",
      "photoUrl": "https://lh3.googleusercontent.com/a-/AOh14GjiCM88vscuTSbYNS_QlBqdfGYtG7YawBWr5DRA0mI=s64",
      "userId": "07151276408623246982"
     },
     "user_tz": -330
    },
    "id": "established-actor",
    "outputId": "c6b6833d-4d4a-4739-f5f0-fa6c8773f893"
   },
   "outputs": [],
   "source": [
    "# Identify the name of the target column (a single string, not a list)\n",
    "target_col = prices_df.columns[-1]\n",
    "target_col"
   ]
  },
  {
   "cell_type": "code",
   "execution_count": null,
   "id": "enhanced-campaign",
   "metadata": {
    "colab": {
     "base_uri": "https://localhost:8080/"
    },
    "executionInfo": {
     "elapsed": 436,
     "status": "ok",
     "timestamp": 1625128741126,
     "user": {
      "displayName": "Sudhir Dubey",
      "photoUrl": "https://lh3.googleusercontent.com/a-/AOh14GjiCM88vscuTSbYNS_QlBqdfGYtG7YawBWr5DRA0mI=s64",
      "userId": "07151276408623246982"
     },
     "user_tz": -330
    },
    "id": "enhanced-campaign",
    "outputId": "e9400f75-67b8-4016-b453-298f74c04976"
   },
   "outputs": [],
   "source": [
    "print(list(input_cols))"
   ]
  },
  {
   "cell_type": "code",
   "execution_count": null,
   "id": "attractive-variety",
   "metadata": {
    "colab": {
     "base_uri": "https://localhost:8080/"
    },
    "executionInfo": {
     "elapsed": 642,
     "status": "ok",
     "timestamp": 1625128744224,
     "user": {
      "displayName": "Sudhir Dubey",
      "photoUrl": "https://lh3.googleusercontent.com/a-/AOh14GjiCM88vscuTSbYNS_QlBqdfGYtG7YawBWr5DRA0mI=s64",
      "userId": "07151276408623246982"
     },
     "user_tz": -330
    },
    "id": "attractive-variety",
    "outputId": "cdc3c898-56e2-405e-c5e3-4390c2ddb4ad"
   },
   "outputs": [],
   "source": [
    "len(input_cols)"
   ]
  },
  {
   "cell_type": "code",
   "execution_count": null,
   "id": "stock-sunset",
   "metadata": {
    "colab": {
     "base_uri": "https://localhost:8080/"
    },
    "executionInfo": {
     "elapsed": 474,
     "status": "ok",
     "timestamp": 1625128746650,
     "user": {
      "displayName": "Sudhir Dubey",
      "photoUrl": "https://lh3.googleusercontent.com/a-/AOh14GjiCM88vscuTSbYNS_QlBqdfGYtG7YawBWr5DRA0mI=s64",
      "userId": "07151276408623246982"
     },
     "user_tz": -330
    },
    "id": "stock-sunset",
    "outputId": "724d93dd-5882-4c8d-8350-fe6cdbd91f98"
   },
   "outputs": [],
   "source": [
    "print(target_col)"
   ]
  },
  {
   "cell_type": "code",
   "execution_count": null,
   "id": "labeled-dining",
   "metadata": {
    "executionInfo": {
     "elapsed": 1359,
     "status": "ok",
     "timestamp": 1625128763649,
     "user": {
      "displayName": "Sudhir Dubey",
      "photoUrl": "https://lh3.googleusercontent.com/a-/AOh14GjiCM88vscuTSbYNS_QlBqdfGYtG7YawBWr5DRA0mI=s64",
      "userId": "07151276408623246982"
     },
     "user_tz": -330
    },
    "id": "labeled-dining"
   },
   "outputs": [],
   "source": [
    "inputs_df = prices_df[input_cols].copy()"
   ]
  },
  {
   "cell_type": "code",
   "execution_count": null,
   "id": "divine-madagascar",
   "metadata": {
    "executionInfo": {
     "elapsed": 549,
     "status": "ok",
     "timestamp": 1625128766303,
     "user": {
      "displayName": "Sudhir Dubey",
      "photoUrl": "https://lh3.googleusercontent.com/a-/AOh14GjiCM88vscuTSbYNS_QlBqdfGYtG7YawBWr5DRA0mI=s64",
      "userId": "07151276408623246982"
     },
     "user_tz": -330
    },
    "id": "divine-madagascar"
   },
   "outputs": [],
   "source": [
    "targets = prices_df[target_col]"
   ]
  },
  {
   "cell_type": "code",
   "execution_count": null,
   "id": "interpreted-cable",
   "metadata": {
    "colab": {
     "base_uri": "https://localhost:8080/",
     "height": 422
    },
    "executionInfo": {
     "elapsed": 641,
     "status": "ok",
     "timestamp": 1625128769328,
     "user": {
      "displayName": "Sudhir Dubey",
      "photoUrl": "https://lh3.googleusercontent.com/a-/AOh14GjiCM88vscuTSbYNS_QlBqdfGYtG7YawBWr5DRA0mI=s64",
      "userId": "07151276408623246982"
     },
     "user_tz": -330
    },
    "id": "interpreted-cable",
    "outputId": "74d55f09-d637-4c98-dbd4-7894b303556d"
   },
   "outputs": [],
   "source": [
    "inputs_df"
   ]
  },
  {
   "cell_type": "code",
   "execution_count": null,
   "id": "coordinated-islam",
   "metadata": {
    "colab": {
     "base_uri": "https://localhost:8080/"
    },
    "executionInfo": {
     "elapsed": 410,
     "status": "ok",
     "timestamp": 1625128775438,
     "user": {
      "displayName": "Sudhir Dubey",
      "photoUrl": "https://lh3.googleusercontent.com/a-/AOh14GjiCM88vscuTSbYNS_QlBqdfGYtG7YawBWr5DRA0mI=s64",
      "userId": "07151276408623246982"
     },
     "user_tz": -330
    },
    "id": "coordinated-islam",
    "outputId": "4ee99a42-4f7a-4950-86a8-c3e457c7e3f3"
   },
   "outputs": [],
   "source": [
    "targets"
   ]
  },
  {
   "cell_type": "markdown",
   "id": "unlimited-adjustment",
   "metadata": {
    "id": "unlimited-adjustment"
   },
   "source": [
    "###  Numeric and Categorical Data\n",
    "\n"
   ]
  },
  {
   "cell_type": "code",
   "execution_count": null,
   "id": "level-emergency",
   "metadata": {
    "colab": {
     "base_uri": "https://localhost:8080/"
    },
    "executionInfo": {
     "elapsed": 589,
     "status": "ok",
     "timestamp": 1625128803753,
     "user": {
      "displayName": "Sudhir Dubey",
      "photoUrl": "https://lh3.googleusercontent.com/a-/AOh14GjiCM88vscuTSbYNS_QlBqdfGYtG7YawBWr5DRA0mI=s64",
      "userId": "07151276408623246982"
     },
     "user_tz": -330
    },
    "id": "level-emergency",
    "outputId": "920813cb-a0c0-476c-d5ae-da9b563c1c44"
   },
   "outputs": [],
   "source": [
    "prices_df.info()"
   ]
  },
  {
   "cell_type": "code",
   "execution_count": null,
   "id": "thirty-symphony",
   "metadata": {
    "executionInfo": {
     "elapsed": 683,
     "status": "ok",
     "timestamp": 1625128834695,
     "user": {
      "displayName": "Sudhir Dubey",
      "photoUrl": "https://lh3.googleusercontent.com/a-/AOh14GjiCM88vscuTSbYNS_QlBqdfGYtG7YawBWr5DRA0mI=s64",
      "userId": "07151276408623246982"
     },
     "user_tz": -330
    },
    "id": "thirty-symphony"
   },
   "outputs": [],
   "source": [
    "import numpy as np"
   ]
  },
  {
   "cell_type": "code",
   "execution_count": null,
   "id": "unknown-hunger",
   "metadata": {
    "executionInfo": {
     "elapsed": 3,
     "status": "ok",
     "timestamp": 1625128836726,
     "user": {
      "displayName": "Sudhir Dubey",
      "photoUrl": "https://lh3.googleusercontent.com/a-/AOh14GjiCM88vscuTSbYNS_QlBqdfGYtG7YawBWr5DRA0mI=s64",
      "userId": "07151276408623246982"
     },
     "user_tz": -330
    },
    "id": "unknown-hunger"
   },
   "outputs": [],
   "source": [
    "numeric_cols = inputs_df.select_dtypes(include=['int64', 'float64']).columns.tolist()"
   ]
  },
  {
   "cell_type": "code",
   "execution_count": null,
   "id": "adjusted-token",
   "metadata": {
    "executionInfo": {
     "elapsed": 429,
     "status": "ok",
     "timestamp": 1625128976307,
     "user": {
      "displayName": "Sudhir Dubey",
      "photoUrl": "https://lh3.googleusercontent.com/a-/AOh14GjiCM88vscuTSbYNS_QlBqdfGYtG7YawBWr5DRA0mI=s64",
      "userId": "07151276408623246982"
     },
     "user_tz": -330
    },
    "id": "adjusted-token"
   },
   "outputs": [],
   "source": [
    "categorical_cols = inputs_df.select_dtypes(include='object').columns.tolist()"
   ]
  },
  {
   "cell_type": "code",
   "execution_count": null,
   "id": "compact-spectrum",
   "metadata": {
    "colab": {
     "base_uri": "https://localhost:8080/"
    },
    "executionInfo": {
     "elapsed": 878,
     "status": "ok",
     "timestamp": 1625128979665,
     "user": {
      "displayName": "Sudhir Dubey",
      "photoUrl": "https://lh3.googleusercontent.com/a-/AOh14GjiCM88vscuTSbYNS_QlBqdfGYtG7YawBWr5DRA0mI=s64",
      "userId": "07151276408623246982"
     },
     "user_tz": -330
    },
    "id": "compact-spectrum",
    "outputId": "eea5e267-c6a7-4afa-abe8-a5e9418ed37e"
   },
   "outputs": [],
   "source": [
    "print(list(numeric_cols))"
   ]
  },
  {
   "cell_type": "code",
   "execution_count": null,
   "id": "sized-minnesota",
   "metadata": {
    "colab": {
     "base_uri": "https://localhost:8080/"
    },
    "executionInfo": {
     "elapsed": 429,
     "status": "ok",
     "timestamp": 1625128985280,
     "user": {
      "displayName": "Sudhir Dubey",
      "photoUrl": "https://lh3.googleusercontent.com/a-/AOh14GjiCM88vscuTSbYNS_QlBqdfGYtG7YawBWr5DRA0mI=s64",
      "userId": "07151276408623246982"
     },
     "user_tz": -330
    },
    "id": "sized-minnesota",
    "outputId": "9089abae-0b2f-4dc4-c661-1465a287ff24"
   },
   "outputs": [],
   "source": [
    "print(list(categorical_cols))"
   ]
  },
  {
   "cell_type": "code",
   "execution_count": null,
   "id": "mzMlfFU9PLmz",
   "metadata": {
    "colab": {
     "base_uri": "https://localhost:8080/"
    },
    "executionInfo": {
     "elapsed": 572,
     "status": "ok",
     "timestamp": 1625129033505,
     "user": {
      "displayName": "Sudhir Dubey",
      "photoUrl": "https://lh3.googleusercontent.com/a-/AOh14GjiCM88vscuTSbYNS_QlBqdfGYtG7YawBWr5DRA0mI=s64",
      "userId": "07151276408623246982"
     },
     "user_tz": -330
    },
    "id": "mzMlfFU9PLmz",
    "outputId": "876637f5-9887-49f4-f429-254a340859fc"
   },
   "outputs": [],
   "source": [
    "print(len(numeric_cols))\n",
    "print(len(categorical_cols))"
   ]
  },
  {
   "cell_type": "markdown",
   "id": "excellent-organ",
   "metadata": {
    "id": "excellent-organ"
   },
   "source": [
    "### Impute Numerical Data\n",
    "\n"
   ]
  },
  {
   "cell_type": "code",
   "execution_count": null,
   "id": "animal-spiritual",
   "metadata": {
    "colab": {
     "base_uri": "https://localhost:8080/"
    },
    "executionInfo": {
     "elapsed": 446,
     "status": "ok",
     "timestamp": 1625129213338,
     "user": {
      "displayName": "Sudhir Dubey",
      "photoUrl": "https://lh3.googleusercontent.com/a-/AOh14GjiCM88vscuTSbYNS_QlBqdfGYtG7YawBWr5DRA0mI=s64",
      "userId": "07151276408623246982"
     },
     "user_tz": -330
    },
    "id": "animal-spiritual",
    "outputId": "4265be83-96e8-4487-a144-9013bdd2a253"
   },
   "outputs": [],
   "source": [
    "missing_counts = inputs_df[numeric_cols].isna().sum().sort_values(ascending=False)\n",
    "missing_counts[missing_counts > 0]"
   ]
  },
  {
   "cell_type": "code",
   "execution_count": null,
   "id": "WcCQ7x8_QKvG",
   "metadata": {
    "executionInfo": {
     "elapsed": 529,
     "status": "ok",
     "timestamp": 1625129561128,
     "user": {
      "displayName": "Sudhir Dubey",
      "photoUrl": "https://lh3.googleusercontent.com/a-/AOh14GjiCM88vscuTSbYNS_QlBqdfGYtG7YawBWr5DRA0mI=s64",
      "userId": "07151276408623246982"
     },
     "user_tz": -330
    },
    "id": "WcCQ7x8_QKvG"
   },
   "outputs": [],
   "source": [
    "#fig = px.scatter(prices_df, x ='MasVnrArea', y='SalePrice' )\n",
    "#fig.update_traces(marker_size=6)\n",
    "#fig.show()"
   ]
  },
  {
   "cell_type": "code",
   "execution_count": null,
   "id": "altered-computer",
   "metadata": {
    "executionInfo": {
     "elapsed": 410,
     "status": "ok",
     "timestamp": 1625129232280,
     "user": {
      "displayName": "Sudhir Dubey",
      "photoUrl": "https://lh3.googleusercontent.com/a-/AOh14GjiCM88vscuTSbYNS_QlBqdfGYtG7YawBWr5DRA0mI=s64",
      "userId": "07151276408623246982"
     },
     "user_tz": -330
    },
    "id": "altered-computer"
   },
   "outputs": [],
   "source": [
    "from sklearn.impute import SimpleImputer"
   ]
  },
  {
   "cell_type": "code",
   "execution_count": null,
   "id": "retired-marijuana",
   "metadata": {
    "executionInfo": {
     "elapsed": 1139,
     "status": "ok",
     "timestamp": 1625129609888,
     "user": {
      "displayName": "Sudhir Dubey",
      "photoUrl": "https://lh3.googleusercontent.com/a-/AOh14GjiCM88vscuTSbYNS_QlBqdfGYtG7YawBWr5DRA0mI=s64",
      "userId": "07151276408623246982"
     },
     "user_tz": -330
    },
    "id": "retired-marijuana"
   },
   "outputs": [],
   "source": [
    "# 1. Create the imputer\n",
    "imputer = SimpleImputer(strategy='mean')"
   ]
  },
  {
   "cell_type": "code",
   "execution_count": null,
   "id": "decreased-madonna",
   "metadata": {
    "colab": {
     "base_uri": "https://localhost:8080/"
    },
    "executionInfo": {
     "elapsed": 438,
     "status": "ok",
     "timestamp": 1625129716651,
     "user": {
      "displayName": "Sudhir Dubey",
      "photoUrl": "https://lh3.googleusercontent.com/a-/AOh14GjiCM88vscuTSbYNS_QlBqdfGYtG7YawBWr5DRA0mI=s64",
      "userId": "07151276408623246982"
     },
     "user_tz": -330
    },
    "id": "decreased-madonna",
    "outputId": "a053cbc8-00a2-4d29-8a9f-c746c1a9325c"
   },
   "outputs": [],
   "source": [
    "# 2. Fit the imputer to the numeric colums\n",
    "imputer.fit(inputs_df[numeric_cols])"
   ]
  },
  {
   "cell_type": "code",
   "execution_count": null,
   "id": "W53xUvbYR6AG",
   "metadata": {
    "colab": {
     "base_uri": "https://localhost:8080/"
    },
    "executionInfo": {
     "elapsed": 1358,
     "status": "ok",
     "timestamp": 1625129738854,
     "user": {
      "displayName": "Sudhir Dubey",
      "photoUrl": "https://lh3.googleusercontent.com/a-/AOh14GjiCM88vscuTSbYNS_QlBqdfGYtG7YawBWr5DRA0mI=s64",
      "userId": "07151276408623246982"
     },
     "user_tz": -330
    },
    "id": "W53xUvbYR6AG",
    "outputId": "db614c33-3538-4f02-ec2b-187cba8196ff"
   },
   "outputs": [],
   "source": [
    "list(imputer.statistics_)"
   ]
  },
  {
   "cell_type": "code",
   "execution_count": null,
   "id": "direct-management",
   "metadata": {
    "executionInfo": {
     "elapsed": 431,
     "status": "ok",
     "timestamp": 1625129835518,
     "user": {
      "displayName": "Sudhir Dubey",
      "photoUrl": "https://lh3.googleusercontent.com/a-/AOh14GjiCM88vscuTSbYNS_QlBqdfGYtG7YawBWr5DRA0mI=s64",
      "userId": "07151276408623246982"
     },
     "user_tz": -330
    },
    "id": "direct-management"
   },
   "outputs": [],
   "source": [
    "# 3. Transform and replace the numeric columns\n",
    "inputs_df[numeric_cols] = imputer.transform(inputs_df[numeric_cols])"
   ]
  },
  {
   "cell_type": "code",
   "execution_count": null,
   "id": "trained-company",
   "metadata": {
    "colab": {
     "base_uri": "https://localhost:8080/"
    },
    "executionInfo": {
     "elapsed": 409,
     "status": "ok",
     "timestamp": 1625129841919,
     "user": {
      "displayName": "Sudhir Dubey",
      "photoUrl": "https://lh3.googleusercontent.com/a-/AOh14GjiCM88vscuTSbYNS_QlBqdfGYtG7YawBWr5DRA0mI=s64",
      "userId": "07151276408623246982"
     },
     "user_tz": -330
    },
    "id": "trained-company",
    "outputId": "92525c1f-b376-403a-99e0-f8606f69a29d"
   },
   "outputs": [],
   "source": [
    "missing_counts = inputs_df[numeric_cols].isna().sum().sort_values(ascending=False)\n",
    "missing_counts[missing_counts > 0] # should be an empty list"
   ]
  },
  {
   "cell_type": "markdown",
   "id": "viral-brand",
   "metadata": {
    "id": "viral-brand"
   },
   "source": [
    "### Scale Numerical Values\n",
    "\n"
   ]
  },
  {
   "cell_type": "code",
   "execution_count": null,
   "id": "detected-caribbean",
   "metadata": {
    "colab": {
     "base_uri": "https://localhost:8080/",
     "height": 126
    },
    "executionInfo": {
     "elapsed": 506,
     "status": "ok",
     "timestamp": 1625129861013,
     "user": {
      "displayName": "Sudhir Dubey",
      "photoUrl": "https://lh3.googleusercontent.com/a-/AOh14GjiCM88vscuTSbYNS_QlBqdfGYtG7YawBWr5DRA0mI=s64",
      "userId": "07151276408623246982"
     },
     "user_tz": -330
    },
    "id": "detected-caribbean",
    "outputId": "0abd2975-d233-4c8a-9899-405981b8299e"
   },
   "outputs": [],
   "source": [
    "inputs_df[numeric_cols].describe().loc[['min', 'max']]"
   ]
  },
  {
   "cell_type": "code",
   "execution_count": null,
   "id": "induced-christian",
   "metadata": {
    "executionInfo": {
     "elapsed": 1231,
     "status": "ok",
     "timestamp": 1625130200718,
     "user": {
      "displayName": "Sudhir Dubey",
      "photoUrl": "https://lh3.googleusercontent.com/a-/AOh14GjiCM88vscuTSbYNS_QlBqdfGYtG7YawBWr5DRA0mI=s64",
      "userId": "07151276408623246982"
     },
     "user_tz": -330
    },
    "id": "induced-christian"
   },
   "outputs": [],
   "source": [
    "from sklearn.preprocessing import MinMaxScaler"
   ]
  },
  {
   "cell_type": "code",
   "execution_count": null,
   "id": "certified-memphis",
   "metadata": {
    "executionInfo": {
     "elapsed": 1244,
     "status": "ok",
     "timestamp": 1625130212642,
     "user": {
      "displayName": "Sudhir Dubey",
      "photoUrl": "https://lh3.googleusercontent.com/a-/AOh14GjiCM88vscuTSbYNS_QlBqdfGYtG7YawBWr5DRA0mI=s64",
      "userId": "07151276408623246982"
     },
     "user_tz": -330
    },
    "id": "certified-memphis"
   },
   "outputs": [],
   "source": [
    "# Create the scaler\n",
    "scaler = MinMaxScaler()"
   ]
  },
  {
   "cell_type": "code",
   "execution_count": null,
   "id": "brown-barrier",
   "metadata": {
    "colab": {
     "base_uri": "https://localhost:8080/"
    },
    "executionInfo": {
     "elapsed": 1251,
     "status": "ok",
     "timestamp": 1625130324798,
     "user": {
      "displayName": "Sudhir Dubey",
      "photoUrl": "https://lh3.googleusercontent.com/a-/AOh14GjiCM88vscuTSbYNS_QlBqdfGYtG7YawBWr5DRA0mI=s64",
      "userId": "07151276408623246982"
     },
     "user_tz": -330
    },
    "id": "brown-barrier",
    "outputId": "24adc220-b78a-46db-df19-972723df9e00"
   },
   "outputs": [],
   "source": [
    "# Fit the scaler to the numeric columns\n",
    "scaler.fit(inputs_df[numeric_cols])"
   ]
  },
  {
   "cell_type": "code",
   "execution_count": null,
   "id": "NopW44A8UN4w",
   "metadata": {
    "executionInfo": {
     "elapsed": 1546,
     "status": "ok",
     "timestamp": 1625130404585,
     "user": {
      "displayName": "Sudhir Dubey",
      "photoUrl": "https://lh3.googleusercontent.com/a-/AOh14GjiCM88vscuTSbYNS_QlBqdfGYtG7YawBWr5DRA0mI=s64",
      "userId": "07151276408623246982"
     },
     "user_tz": -330
    },
    "id": "NopW44A8UN4w"
   },
   "outputs": [],
   "source": []
  },
  {
   "cell_type": "code",
   "execution_count": null,
   "id": "educational-learning",
   "metadata": {
    "executionInfo": {
     "elapsed": 423,
     "status": "ok",
     "timestamp": 1625130428023,
     "user": {
      "displayName": "Sudhir Dubey",
      "photoUrl": "https://lh3.googleusercontent.com/a-/AOh14GjiCM88vscuTSbYNS_QlBqdfGYtG7YawBWr5DRA0mI=s64",
      "userId": "07151276408623246982"
     },
     "user_tz": -330
    },
    "id": "educational-learning"
   },
   "outputs": [],
   "source": [
    "# Transform and replace the numeric columns\n",
    "inputs_df[numeric_cols] = scaler.transform(inputs_df[numeric_cols])"
   ]
  },
  {
   "cell_type": "code",
   "execution_count": null,
   "id": "sunset-payroll",
   "metadata": {
    "colab": {
     "base_uri": "https://localhost:8080/",
     "height": 126
    },
    "executionInfo": {
     "elapsed": 8,
     "status": "ok",
     "timestamp": 1625130430441,
     "user": {
      "displayName": "Sudhir Dubey",
      "photoUrl": "https://lh3.googleusercontent.com/a-/AOh14GjiCM88vscuTSbYNS_QlBqdfGYtG7YawBWr5DRA0mI=s64",
      "userId": "07151276408623246982"
     },
     "user_tz": -330
    },
    "id": "sunset-payroll",
    "outputId": "39da9e72-81eb-4483-b612-c20785d60729"
   },
   "outputs": [],
   "source": [
    "inputs_df[numeric_cols].describe().loc[['min', 'max']]"
   ]
  },
  {
   "cell_type": "markdown",
   "id": "unique-result",
   "metadata": {
    "id": "unique-result"
   },
   "source": [
    "### Encode Categorical Columns\n",
    "\n"
   ]
  },
  {
   "cell_type": "code",
   "execution_count": null,
   "id": "outstanding-violence",
   "metadata": {
    "colab": {
     "base_uri": "https://localhost:8080/"
    },
    "executionInfo": {
     "elapsed": 633,
     "status": "ok",
     "timestamp": 1625130447882,
     "user": {
      "displayName": "Sudhir Dubey",
      "photoUrl": "https://lh3.googleusercontent.com/a-/AOh14GjiCM88vscuTSbYNS_QlBqdfGYtG7YawBWr5DRA0mI=s64",
      "userId": "07151276408623246982"
     },
     "user_tz": -330
    },
    "id": "outstanding-violence",
    "outputId": "47799c1a-e0e2-40a6-8dee-bdab7812632f"
   },
   "outputs": [],
   "source": [
    "inputs_df[categorical_cols].nunique().sort_values(ascending=False)"
   ]
  },
  {
   "cell_type": "code",
   "execution_count": null,
   "id": "raised-stockholm",
   "metadata": {
    "executionInfo": {
     "elapsed": 481,
     "status": "ok",
     "timestamp": 1625130535918,
     "user": {
      "displayName": "Sudhir Dubey",
      "photoUrl": "https://lh3.googleusercontent.com/a-/AOh14GjiCM88vscuTSbYNS_QlBqdfGYtG7YawBWr5DRA0mI=s64",
      "userId": "07151276408623246982"
     },
     "user_tz": -330
    },
    "id": "raised-stockholm"
   },
   "outputs": [],
   "source": [
    "from sklearn.preprocessing import OneHotEncoder"
   ]
  },
  {
   "cell_type": "code",
   "execution_count": null,
   "id": "senior-subscriber",
   "metadata": {
    "executionInfo": {
     "elapsed": 5,
     "status": "ok",
     "timestamp": 1625130537640,
     "user": {
      "displayName": "Sudhir Dubey",
      "photoUrl": "https://lh3.googleusercontent.com/a-/AOh14GjiCM88vscuTSbYNS_QlBqdfGYtG7YawBWr5DRA0mI=s64",
      "userId": "07151276408623246982"
     },
     "user_tz": -330
    },
    "id": "senior-subscriber"
   },
   "outputs": [],
   "source": [
    "# 1. Create the encoder\n",
    "encoder = OneHotEncoder(sparse=False, handle_unknown='ignore')"
   ]
  },
  {
   "cell_type": "code",
   "execution_count": null,
   "id": "wrapped-stomach",
   "metadata": {
    "colab": {
     "base_uri": "https://localhost:8080/"
    },
    "executionInfo": {
     "elapsed": 411,
     "status": "ok",
     "timestamp": 1625130579060,
     "user": {
      "displayName": "Sudhir Dubey",
      "photoUrl": "https://lh3.googleusercontent.com/a-/AOh14GjiCM88vscuTSbYNS_QlBqdfGYtG7YawBWr5DRA0mI=s64",
      "userId": "07151276408623246982"
     },
     "user_tz": -330
    },
    "id": "wrapped-stomach",
    "outputId": "bc81905c-f82b-453b-e9fb-87162b988619"
   },
   "outputs": [],
   "source": [
    "# 2. Fit the encoder to the categorical colums\n",
    "encoder.fit(inputs_df[categorical_cols])"
   ]
  },
  {
   "cell_type": "code",
   "execution_count": null,
   "id": "interested-manor",
   "metadata": {
    "colab": {
     "base_uri": "https://localhost:8080/"
    },
    "executionInfo": {
     "elapsed": 433,
     "status": "ok",
     "timestamp": 1625130585045,
     "user": {
      "displayName": "Sudhir Dubey",
      "photoUrl": "https://lh3.googleusercontent.com/a-/AOh14GjiCM88vscuTSbYNS_QlBqdfGYtG7YawBWr5DRA0mI=s64",
      "userId": "07151276408623246982"
     },
     "user_tz": -330
    },
    "id": "interested-manor",
    "outputId": "987cfec6-7421-4af8-9f4c-ecdaaa673b13"
   },
   "outputs": [],
   "source": [
    "# 3. Generate column names for each category\n",
    "encoded_cols = list(encoder.get_feature_names(categorical_cols))\n",
    "len(encoded_cols)"
   ]
  },
  {
   "cell_type": "code",
   "execution_count": null,
   "id": "liberal-network",
   "metadata": {
    "executionInfo": {
     "elapsed": 629,
     "status": "ok",
     "timestamp": 1625130657892,
     "user": {
      "displayName": "Sudhir Dubey",
      "photoUrl": "https://lh3.googleusercontent.com/a-/AOh14GjiCM88vscuTSbYNS_QlBqdfGYtG7YawBWr5DRA0mI=s64",
      "userId": "07151276408623246982"
     },
     "user_tz": -330
    },
    "id": "liberal-network"
   },
   "outputs": [],
   "source": [
    "# 4. Transform and add new one-hot category columns\n",
    "inputs_df[encoded_cols] = encoder.transform(inputs_df[categorical_cols])"
   ]
  },
  {
   "cell_type": "code",
   "execution_count": null,
   "id": "H4twTFpJVgTh",
   "metadata": {
    "colab": {
     "base_uri": "https://localhost:8080/"
    },
    "executionInfo": {
     "elapsed": 1364,
     "status": "ok",
     "timestamp": 1625130681803,
     "user": {
      "displayName": "Sudhir Dubey",
      "photoUrl": "https://lh3.googleusercontent.com/a-/AOh14GjiCM88vscuTSbYNS_QlBqdfGYtG7YawBWr5DRA0mI=s64",
      "userId": "07151276408623246982"
     },
     "user_tz": -330
    },
    "id": "H4twTFpJVgTh",
    "outputId": "f731ce38-431a-4eb1-c807-2ae8f8cbc7b1"
   },
   "outputs": [],
   "source": [
    "encoder.categories_"
   ]
  },
  {
   "cell_type": "code",
   "execution_count": null,
   "id": "eastern-review",
   "metadata": {
    "colab": {
     "base_uri": "https://localhost:8080/",
     "height": 438
    },
    "executionInfo": {
     "elapsed": 10,
     "status": "ok",
     "timestamp": 1625130659874,
     "user": {
      "displayName": "Sudhir Dubey",
      "photoUrl": "https://lh3.googleusercontent.com/a-/AOh14GjiCM88vscuTSbYNS_QlBqdfGYtG7YawBWr5DRA0mI=s64",
      "userId": "07151276408623246982"
     },
     "user_tz": -330
    },
    "id": "eastern-review",
    "outputId": "5899a9ef-06cb-4115-d3bd-19e1636d878d"
   },
   "outputs": [],
   "source": [
    "inputs_df"
   ]
  },
  {
   "cell_type": "markdown",
   "id": "improving-finnish",
   "metadata": {
    "id": "improving-finnish"
   },
   "source": [
    "### Training and Validation Set\n",
    "\n"
   ]
  },
  {
   "cell_type": "code",
   "execution_count": null,
   "id": "efficient-diabetes",
   "metadata": {
    "executionInfo": {
     "elapsed": 5,
     "status": "ok",
     "timestamp": 1625130703947,
     "user": {
      "displayName": "Sudhir Dubey",
      "photoUrl": "https://lh3.googleusercontent.com/a-/AOh14GjiCM88vscuTSbYNS_QlBqdfGYtG7YawBWr5DRA0mI=s64",
      "userId": "07151276408623246982"
     },
     "user_tz": -330
    },
    "id": "efficient-diabetes"
   },
   "outputs": [],
   "source": [
    "from sklearn.model_selection import train_test_split"
   ]
  },
  {
   "cell_type": "code",
   "execution_count": null,
   "id": "looking-alliance",
   "metadata": {
    "executionInfo": {
     "elapsed": 389,
     "status": "ok",
     "timestamp": 1625130724893,
     "user": {
      "displayName": "Sudhir Dubey",
      "photoUrl": "https://lh3.googleusercontent.com/a-/AOh14GjiCM88vscuTSbYNS_QlBqdfGYtG7YawBWr5DRA0mI=s64",
      "userId": "07151276408623246982"
     },
     "user_tz": -330
    },
    "id": "looking-alliance"
   },
   "outputs": [],
   "source": [
    "train_inputs, val_inputs, train_targets, val_targets = train_test_split(inputs_df[numeric_cols + encoded_cols], \n",
    "                                                                        targets, \n",
    "                                                                        test_size=0.25, \n",
    "                                                                        random_state=42)"
   ]
  },
  {
   "cell_type": "code",
   "execution_count": null,
   "id": "frozen-charles",
   "metadata": {
    "colab": {
     "base_uri": "https://localhost:8080/",
     "height": 438
    },
    "executionInfo": {
     "elapsed": 649,
     "status": "ok",
     "timestamp": 1625130730266,
     "user": {
      "displayName": "Sudhir Dubey",
      "photoUrl": "https://lh3.googleusercontent.com/a-/AOh14GjiCM88vscuTSbYNS_QlBqdfGYtG7YawBWr5DRA0mI=s64",
      "userId": "07151276408623246982"
     },
     "user_tz": -330
    },
    "id": "frozen-charles",
    "outputId": "d5eac9b5-9749-4d78-cb2e-7dfd5deaf87b"
   },
   "outputs": [],
   "source": [
    "train_inputs"
   ]
  },
  {
   "cell_type": "code",
   "execution_count": null,
   "id": "adjacent-firmware",
   "metadata": {
    "colab": {
     "base_uri": "https://localhost:8080/"
    },
    "executionInfo": {
     "elapsed": 1766,
     "status": "ok",
     "timestamp": 1625130739235,
     "user": {
      "displayName": "Sudhir Dubey",
      "photoUrl": "https://lh3.googleusercontent.com/a-/AOh14GjiCM88vscuTSbYNS_QlBqdfGYtG7YawBWr5DRA0mI=s64",
      "userId": "07151276408623246982"
     },
     "user_tz": -330
    },
    "id": "adjacent-firmware",
    "outputId": "f393f20c-a297-4f7c-a45e-f53ebca9055a"
   },
   "outputs": [],
   "source": [
    "train_targets"
   ]
  },
  {
   "cell_type": "code",
   "execution_count": null,
   "id": "clean-holder",
   "metadata": {
    "colab": {
     "base_uri": "https://localhost:8080/",
     "height": 438
    },
    "executionInfo": {
     "elapsed": 866,
     "status": "ok",
     "timestamp": 1625130748639,
     "user": {
      "displayName": "Sudhir Dubey",
      "photoUrl": "https://lh3.googleusercontent.com/a-/AOh14GjiCM88vscuTSbYNS_QlBqdfGYtG7YawBWr5DRA0mI=s64",
      "userId": "07151276408623246982"
     },
     "user_tz": -330
    },
    "id": "clean-holder",
    "outputId": "1d5e0e92-a25e-4195-ff64-ac182d37c431"
   },
   "outputs": [],
   "source": [
    "val_inputs"
   ]
  },
  {
   "cell_type": "code",
   "execution_count": null,
   "id": "attended-wireless",
   "metadata": {
    "colab": {
     "base_uri": "https://localhost:8080/"
    },
    "executionInfo": {
     "elapsed": 1098,
     "status": "ok",
     "timestamp": 1625130768345,
     "user": {
      "displayName": "Sudhir Dubey",
      "photoUrl": "https://lh3.googleusercontent.com/a-/AOh14GjiCM88vscuTSbYNS_QlBqdfGYtG7YawBWr5DRA0mI=s64",
      "userId": "07151276408623246982"
     },
     "user_tz": -330
    },
    "id": "attended-wireless",
    "outputId": "b07e5729-c2e3-45a0-f671-a403dbd3cf4c"
   },
   "outputs": [],
   "source": [
    "val_targets"
   ]
  },
  {
   "cell_type": "markdown",
   "id": "sublime-factor",
   "metadata": {
    "id": "sublime-factor"
   },
   "source": [
    "## Train a Linear Regression Model\n",
    "\n"
   ]
  },
  {
   "cell_type": "code",
   "execution_count": null,
   "id": "revolutionary-eligibility",
   "metadata": {
    "executionInfo": {
     "elapsed": 396,
     "status": "ok",
     "timestamp": 1625130789038,
     "user": {
      "displayName": "Sudhir Dubey",
      "photoUrl": "https://lh3.googleusercontent.com/a-/AOh14GjiCM88vscuTSbYNS_QlBqdfGYtG7YawBWr5DRA0mI=s64",
      "userId": "07151276408623246982"
     },
     "user_tz": -330
    },
    "id": "revolutionary-eligibility"
   },
   "outputs": [],
   "source": [
    "from sklearn.linear_model import Ridge"
   ]
  },
  {
   "cell_type": "code",
   "execution_count": null,
   "id": "unlikely-flavor",
   "metadata": {
    "executionInfo": {
     "elapsed": 414,
     "status": "ok",
     "timestamp": 1625130822635,
     "user": {
      "displayName": "Sudhir Dubey",
      "photoUrl": "https://lh3.googleusercontent.com/a-/AOh14GjiCM88vscuTSbYNS_QlBqdfGYtG7YawBWr5DRA0mI=s64",
      "userId": "07151276408623246982"
     },
     "user_tz": -330
    },
    "id": "unlikely-flavor"
   },
   "outputs": [],
   "source": [
    "# Create the model\n",
    "model = Ridge()"
   ]
  },
  {
   "cell_type": "code",
   "execution_count": null,
   "id": "documented-laundry",
   "metadata": {
    "colab": {
     "base_uri": "https://localhost:8080/"
    },
    "executionInfo": {
     "elapsed": 10,
     "status": "ok",
     "timestamp": 1625130887682,
     "user": {
      "displayName": "Sudhir Dubey",
      "photoUrl": "https://lh3.googleusercontent.com/a-/AOh14GjiCM88vscuTSbYNS_QlBqdfGYtG7YawBWr5DRA0mI=s64",
      "userId": "07151276408623246982"
     },
     "user_tz": -330
    },
    "id": "documented-laundry",
    "outputId": "4d11c1fd-7d66-42a8-dfdb-497160f48997"
   },
   "outputs": [],
   "source": [
    "# Fit the model using inputs and targets\n",
    "model.fit(train_inputs, train_targets)"
   ]
  },
  {
   "cell_type": "markdown",
   "id": "rapid-somewhere",
   "metadata": {
    "id": "rapid-somewhere"
   },
   "source": [
    "## Predictions \n"
   ]
  },
  {
   "cell_type": "code",
   "execution_count": null,
   "id": "instant-welding",
   "metadata": {
    "executionInfo": {
     "elapsed": 2,
     "status": "ok",
     "timestamp": 1625130897035,
     "user": {
      "displayName": "Sudhir Dubey",
      "photoUrl": "https://lh3.googleusercontent.com/a-/AOh14GjiCM88vscuTSbYNS_QlBqdfGYtG7YawBWr5DRA0mI=s64",
      "userId": "07151276408623246982"
     },
     "user_tz": -330
    },
    "id": "instant-welding"
   },
   "outputs": [],
   "source": [
    "from sklearn.metrics import mean_squared_error"
   ]
  },
  {
   "cell_type": "code",
   "execution_count": null,
   "id": "retired-algeria",
   "metadata": {
    "executionInfo": {
     "elapsed": 423,
     "status": "ok",
     "timestamp": 1625130974088,
     "user": {
      "displayName": "Sudhir Dubey",
      "photoUrl": "https://lh3.googleusercontent.com/a-/AOh14GjiCM88vscuTSbYNS_QlBqdfGYtG7YawBWr5DRA0mI=s64",
      "userId": "07151276408623246982"
     },
     "user_tz": -330
    },
    "id": "retired-algeria"
   },
   "outputs": [],
   "source": [
    "train_preds = model.predict(train_inputs)"
   ]
  },
  {
   "cell_type": "code",
   "execution_count": null,
   "id": "moderate-lindsay",
   "metadata": {
    "colab": {
     "base_uri": "https://localhost:8080/"
    },
    "executionInfo": {
     "elapsed": 473,
     "status": "ok",
     "timestamp": 1625130976841,
     "user": {
      "displayName": "Sudhir Dubey",
      "photoUrl": "https://lh3.googleusercontent.com/a-/AOh14GjiCM88vscuTSbYNS_QlBqdfGYtG7YawBWr5DRA0mI=s64",
      "userId": "07151276408623246982"
     },
     "user_tz": -330
    },
    "id": "moderate-lindsay",
    "outputId": "3fee2e0c-230a-4ba7-8bd5-2ce4f34780cb"
   },
   "outputs": [],
   "source": [
    "train_preds"
   ]
  },
  {
   "cell_type": "code",
   "execution_count": null,
   "id": "ranging-blade",
   "metadata": {
    "executionInfo": {
     "elapsed": 479,
     "status": "ok",
     "timestamp": 1625131268142,
     "user": {
      "displayName": "Sudhir Dubey",
      "photoUrl": "https://lh3.googleusercontent.com/a-/AOh14GjiCM88vscuTSbYNS_QlBqdfGYtG7YawBWr5DRA0mI=s64",
      "userId": "07151276408623246982"
     },
     "user_tz": -330
    },
    "id": "ranging-blade"
   },
   "outputs": [],
   "source": [
    "train_rmse = mean_squared_error(train_targets, train_preds, squared=False)"
   ]
  },
  {
   "cell_type": "code",
   "execution_count": null,
   "id": "focal-purpose",
   "metadata": {
    "colab": {
     "base_uri": "https://localhost:8080/"
    },
    "executionInfo": {
     "elapsed": 13,
     "status": "ok",
     "timestamp": 1625131271566,
     "user": {
      "displayName": "Sudhir Dubey",
      "photoUrl": "https://lh3.googleusercontent.com/a-/AOh14GjiCM88vscuTSbYNS_QlBqdfGYtG7YawBWr5DRA0mI=s64",
      "userId": "07151276408623246982"
     },
     "user_tz": -330
    },
    "id": "focal-purpose",
    "outputId": "7835e54c-e5ae-47e3-9f43-c86f29e22201"
   },
   "outputs": [],
   "source": [
    "print('The RMSE loss for the training set is $ {}.'.format(train_rmse))"
   ]
  },
  {
   "cell_type": "code",
   "execution_count": null,
   "id": "qUqxQnLEqFC4",
   "metadata": {
    "colab": {
     "base_uri": "https://localhost:8080/"
    },
    "executionInfo": {
     "elapsed": 1588,
     "status": "ok",
     "timestamp": 1625136182969,
     "user": {
      "displayName": "Sudhir Dubey",
      "photoUrl": "https://lh3.googleusercontent.com/a-/AOh14GjiCM88vscuTSbYNS_QlBqdfGYtG7YawBWr5DRA0mI=s64",
      "userId": "07151276408623246982"
     },
     "user_tz": -330
    },
    "id": "qUqxQnLEqFC4",
    "outputId": "4da4aafb-a3a7-42c8-e61b-7e4f3341e406"
   },
   "outputs": [],
   "source": [
    "train_targets.std()"
   ]
  },
  {
   "cell_type": "code",
   "execution_count": null,
   "id": "cultural-consortium",
   "metadata": {
    "executionInfo": {
     "elapsed": 1911,
     "status": "ok",
     "timestamp": 1625131305192,
     "user": {
      "displayName": "Sudhir Dubey",
      "photoUrl": "https://lh3.googleusercontent.com/a-/AOh14GjiCM88vscuTSbYNS_QlBqdfGYtG7YawBWr5DRA0mI=s64",
      "userId": "07151276408623246982"
     },
     "user_tz": -330
    },
    "id": "cultural-consortium"
   },
   "outputs": [],
   "source": [
    "val_preds = model.predict(val_inputs)"
   ]
  },
  {
   "cell_type": "code",
   "execution_count": null,
   "id": "printable-shooting",
   "metadata": {
    "colab": {
     "base_uri": "https://localhost:8080/"
    },
    "executionInfo": {
     "elapsed": 5,
     "status": "ok",
     "timestamp": 1625131305193,
     "user": {
      "displayName": "Sudhir Dubey",
      "photoUrl": "https://lh3.googleusercontent.com/a-/AOh14GjiCM88vscuTSbYNS_QlBqdfGYtG7YawBWr5DRA0mI=s64",
      "userId": "07151276408623246982"
     },
     "user_tz": -330
    },
    "id": "printable-shooting",
    "outputId": "ecb244ca-a996-4f31-cf24-d48ceedce03f"
   },
   "outputs": [],
   "source": [
    "val_preds"
   ]
  },
  {
   "cell_type": "code",
   "execution_count": null,
   "id": "alternate-defendant",
   "metadata": {
    "executionInfo": {
     "elapsed": 458,
     "status": "ok",
     "timestamp": 1625131799788,
     "user": {
      "displayName": "Sudhir Dubey",
      "photoUrl": "https://lh3.googleusercontent.com/a-/AOh14GjiCM88vscuTSbYNS_QlBqdfGYtG7YawBWr5DRA0mI=s64",
      "userId": "07151276408623246982"
     },
     "user_tz": -330
    },
    "id": "alternate-defendant"
   },
   "outputs": [],
   "source": [
    "val_rmse = mean_squared_error(val_targets, val_preds, squared=False)"
   ]
  },
  {
   "cell_type": "code",
   "execution_count": null,
   "id": "hidden-literacy",
   "metadata": {
    "colab": {
     "base_uri": "https://localhost:8080/"
    },
    "executionInfo": {
     "elapsed": 3,
     "status": "ok",
     "timestamp": 1625131800502,
     "user": {
      "displayName": "Sudhir Dubey",
      "photoUrl": "https://lh3.googleusercontent.com/a-/AOh14GjiCM88vscuTSbYNS_QlBqdfGYtG7YawBWr5DRA0mI=s64",
      "userId": "07151276408623246982"
     },
     "user_tz": -330
    },
    "id": "hidden-literacy",
    "outputId": "c1e216e9-c306-4527-c60b-abb5cd9c674d"
   },
   "outputs": [],
   "source": [
    "print('The RMSE loss for the validation set is $ {}.'.format(val_rmse))"
   ]
  },
  {
   "cell_type": "code",
   "execution_count": null,
   "id": "lFROZISdqpXR",
   "metadata": {
    "colab": {
     "base_uri": "https://localhost:8080/"
    },
    "executionInfo": {
     "elapsed": 412,
     "status": "ok",
     "timestamp": 1625136219066,
     "user": {
      "displayName": "Sudhir Dubey",
      "photoUrl": "https://lh3.googleusercontent.com/a-/AOh14GjiCM88vscuTSbYNS_QlBqdfGYtG7YawBWr5DRA0mI=s64",
      "userId": "07151276408623246982"
     },
     "user_tz": -330
    },
    "id": "lFROZISdqpXR",
    "outputId": "0e1b2a00-b94e-4bb9-a6f2-6fed7f3984e4"
   },
   "outputs": [],
   "source": [
    "val_targets.std()"
   ]
  },
  {
   "cell_type": "markdown",
   "id": "russian-beginning",
   "metadata": {
    "id": "russian-beginning"
   },
   "source": [
    "### Feature Importance\n",
    "\n"
   ]
  },
  {
   "cell_type": "code",
   "execution_count": null,
   "id": "contrary-enforcement",
   "metadata": {
    "executionInfo": {
     "elapsed": 402,
     "status": "ok",
     "timestamp": 1625131406306,
     "user": {
      "displayName": "Sudhir Dubey",
      "photoUrl": "https://lh3.googleusercontent.com/a-/AOh14GjiCM88vscuTSbYNS_QlBqdfGYtG7YawBWr5DRA0mI=s64",
      "userId": "07151276408623246982"
     },
     "user_tz": -330
    },
    "id": "contrary-enforcement"
   },
   "outputs": [],
   "source": [
    "weights = model.coef_"
   ]
  },
  {
   "cell_type": "code",
   "execution_count": null,
   "id": "chief-subdivision",
   "metadata": {
    "executionInfo": {
     "elapsed": 739,
     "status": "ok",
     "timestamp": 1625131414234,
     "user": {
      "displayName": "Sudhir Dubey",
      "photoUrl": "https://lh3.googleusercontent.com/a-/AOh14GjiCM88vscuTSbYNS_QlBqdfGYtG7YawBWr5DRA0mI=s64",
      "userId": "07151276408623246982"
     },
     "user_tz": -330
    },
    "id": "chief-subdivision"
   },
   "outputs": [],
   "source": [
    "weights_df = pd.DataFrame({\n",
    "    'columns': train_inputs.columns,\n",
    "    'weight': weights\n",
    "}).sort_values('weight', ascending=False)"
   ]
  },
  {
   "cell_type": "code",
   "execution_count": null,
   "id": "indirect-desire",
   "metadata": {
    "colab": {
     "base_uri": "https://localhost:8080/",
     "height": 402
    },
    "executionInfo": {
     "elapsed": 441,
     "status": "ok",
     "timestamp": 1625131416936,
     "user": {
      "displayName": "Sudhir Dubey",
      "photoUrl": "https://lh3.googleusercontent.com/a-/AOh14GjiCM88vscuTSbYNS_QlBqdfGYtG7YawBWr5DRA0mI=s64",
      "userId": "07151276408623246982"
     },
     "user_tz": -330
    },
    "id": "indirect-desire",
    "outputId": "42ac7b4e-01b0-46fd-d0dc-28bee76b3563"
   },
   "outputs": [],
   "source": [
    "weights_df"
   ]
  },
  {
   "cell_type": "markdown",
   "id": "destroyed-walter",
   "metadata": {
    "id": "destroyed-walter"
   },
   "source": [
    "### Making Predictions\n",
    "\n"
   ]
  },
  {
   "cell_type": "code",
   "execution_count": null,
   "id": "pressing-ridge",
   "metadata": {
    "executionInfo": {
     "elapsed": 432,
     "status": "ok",
     "timestamp": 1625131854637,
     "user": {
      "displayName": "Sudhir Dubey",
      "photoUrl": "https://lh3.googleusercontent.com/a-/AOh14GjiCM88vscuTSbYNS_QlBqdfGYtG7YawBWr5DRA0mI=s64",
      "userId": "07151276408623246982"
     },
     "user_tz": -330
    },
    "id": "pressing-ridge"
   },
   "outputs": [],
   "source": [
    "def predict_input(single_input):\n",
    "    input_df = pd.DataFrame([single_input])\n",
    "    input_df[numeric_cols] = imputer.transform(input_df[numeric_cols])\n",
    "    input_df[numeric_cols] = scaler.transform(input_df[numeric_cols])\n",
    "    input_df[encoded_cols] = encoder.transform(input_df[categorical_cols].values)\n",
    "    X_input = input_df[numeric_cols + encoded_cols]\n",
    "    return model.predict(X_input)[0]"
   ]
  },
  {
   "cell_type": "code",
   "execution_count": null,
   "id": "chronic-chemistry",
   "metadata": {
    "executionInfo": {
     "elapsed": 434,
     "status": "ok",
     "timestamp": 1625132060802,
     "user": {
      "displayName": "Sudhir Dubey",
      "photoUrl": "https://lh3.googleusercontent.com/a-/AOh14GjiCM88vscuTSbYNS_QlBqdfGYtG7YawBWr5DRA0mI=s64",
      "userId": "07151276408623246982"
     },
     "user_tz": -330
    },
    "id": "chronic-chemistry"
   },
   "outputs": [],
   "source": [
    "sample_input = { 'MSSubClass': 20, 'MSZoning': 'RL', 'LotFrontage': 77.0, 'LotArea': 9320,\n",
    " 'Street': 'Pave', 'Alley': None, 'LotShape': 'IR1', 'LandContour': 'Lvl', 'Utilities': 'AllPub',\n",
    " 'LotConfig': 'Inside', 'LandSlope': 'Gtl', 'Neighborhood': 'NAmes', 'Condition1': 'Norm', 'Condition2': 'Norm',\n",
    " 'BldgType': '1Fam', 'HouseStyle': '1Story', 'OverallQual': 4, 'OverallCond': 5, 'YearBuilt': 1959,\n",
    " 'YearRemodAdd': 1959, 'RoofStyle': 'Gable', 'RoofMatl': 'CompShg', 'Exterior1st': 'Plywood',\n",
    " 'Exterior2nd': 'Plywood', 'MasVnrType': 'None','MasVnrArea': 0.0,'ExterQual': 'TA','ExterCond': 'TA',\n",
    " 'Foundation': 'CBlock','BsmtQual': 'TA','BsmtCond': 'TA','BsmtExposure': 'No','BsmtFinType1': 'ALQ',\n",
    " 'BsmtFinSF1': 569,'BsmtFinType2': 'Unf','BsmtFinSF2': 0,'BsmtUnfSF': 381,\n",
    " 'TotalBsmtSF': 950,'Heating': 'GasA','HeatingQC': 'Fa','CentralAir': 'Y','Electrical': 'SBrkr', '1stFlrSF': 1225,\n",
    " '2ndFlrSF': 0, 'LowQualFinSF': 0, 'GrLivArea': 1225, 'BsmtFullBath': 1, 'BsmtHalfBath': 0, 'FullBath': 1,\n",
    " 'HalfBath': 1, 'BedroomAbvGr': 3, 'KitchenAbvGr': 1,'KitchenQual': 'TA','TotRmsAbvGrd': 6,'Functional': 'Typ',\n",
    " 'Fireplaces': 0,'FireplaceQu': np.nan,'GarageType': np.nan,'GarageYrBlt': np.nan,'GarageFinish': np.nan,'GarageCars': 0,\n",
    " 'GarageArea': 0,'GarageQual': np.nan,'GarageCond': np.nan,'PavedDrive': 'Y', 'WoodDeckSF': 352, 'OpenPorchSF': 0,\n",
    " 'EnclosedPorch': 0,'3SsnPorch': 0, 'ScreenPorch': 0, 'PoolArea': 0, 'PoolQC':'Ex' , 'Fence': np.nan, 'MiscFeature': 'Shed',\n",
    " 'MiscVal': 400, 'MoSold': 1, 'YrSold': 2010, 'SaleType': 'WD', 'SaleCondition': 'Normal'}"
   ]
  },
  {
   "cell_type": "code",
   "execution_count": null,
   "id": "rV9opzgmajD6",
   "metadata": {
    "colab": {
     "base_uri": "https://localhost:8080/"
    },
    "executionInfo": {
     "elapsed": 661,
     "status": "ok",
     "timestamp": 1625132022634,
     "user": {
      "displayName": "Sudhir Dubey",
      "photoUrl": "https://lh3.googleusercontent.com/a-/AOh14GjiCM88vscuTSbYNS_QlBqdfGYtG7YawBWr5DRA0mI=s64",
      "userId": "07151276408623246982"
     },
     "user_tz": -330
    },
    "id": "rV9opzgmajD6",
    "outputId": "18a8e791-4dd1-4420-9fb4-67d101b1b6fe"
   },
   "outputs": [],
   "source": [
    "prices_df.PoolQC.value_counts()"
   ]
  },
  {
   "cell_type": "code",
   "execution_count": null,
   "id": "advanced-positive",
   "metadata": {
    "executionInfo": {
     "elapsed": 2,
     "status": "ok",
     "timestamp": 1625132062632,
     "user": {
      "displayName": "Sudhir Dubey",
      "photoUrl": "https://lh3.googleusercontent.com/a-/AOh14GjiCM88vscuTSbYNS_QlBqdfGYtG7YawBWr5DRA0mI=s64",
      "userId": "07151276408623246982"
     },
     "user_tz": -330
    },
    "id": "advanced-positive"
   },
   "outputs": [],
   "source": [
    "predicted_price = predict_input(sample_input)"
   ]
  },
  {
   "cell_type": "code",
   "execution_count": null,
   "id": "stock-designation",
   "metadata": {
    "colab": {
     "base_uri": "https://localhost:8080/"
    },
    "executionInfo": {
     "elapsed": 3,
     "status": "ok",
     "timestamp": 1625132063367,
     "user": {
      "displayName": "Sudhir Dubey",
      "photoUrl": "https://lh3.googleusercontent.com/a-/AOh14GjiCM88vscuTSbYNS_QlBqdfGYtG7YawBWr5DRA0mI=s64",
      "userId": "07151276408623246982"
     },
     "user_tz": -330
    },
    "id": "stock-designation",
    "outputId": "2c281c9c-d568-4856-d331-5d94afbc757a"
   },
   "outputs": [],
   "source": [
    "print('The predicted sale price of the house is ${}'.format(predicted_price))"
   ]
  },
  {
   "cell_type": "markdown",
   "id": "geological-mineral",
   "metadata": {
    "id": "geological-mineral"
   },
   "source": [
    "### Saving the model\n",
    "\n"
   ]
  },
  {
   "cell_type": "code",
   "execution_count": null,
   "id": "steady-reynolds",
   "metadata": {
    "executionInfo": {
     "elapsed": 410,
     "status": "ok",
     "timestamp": 1625132075078,
     "user": {
      "displayName": "Sudhir Dubey",
      "photoUrl": "https://lh3.googleusercontent.com/a-/AOh14GjiCM88vscuTSbYNS_QlBqdfGYtG7YawBWr5DRA0mI=s64",
      "userId": "07151276408623246982"
     },
     "user_tz": -330
    },
    "id": "steady-reynolds"
   },
   "outputs": [],
   "source": [
    "import joblib"
   ]
  },
  {
   "cell_type": "code",
   "execution_count": null,
   "id": "bibliographic-hardware",
   "metadata": {
    "executionInfo": {
     "elapsed": 2,
     "status": "ok",
     "timestamp": 1625132081384,
     "user": {
      "displayName": "Sudhir Dubey",
      "photoUrl": "https://lh3.googleusercontent.com/a-/AOh14GjiCM88vscuTSbYNS_QlBqdfGYtG7YawBWr5DRA0mI=s64",
      "userId": "07151276408623246982"
     },
     "user_tz": -330
    },
    "id": "bibliographic-hardware"
   },
   "outputs": [],
   "source": [
    "house_price_predictor = {\n",
    "    'model': model,\n",
    "    'imputer': imputer,\n",
    "    'scaler': scaler,\n",
    "    'encoder': encoder,\n",
    "    'input_cols': input_cols,\n",
    "    'target_col': target_col,\n",
    "    'numeric_cols': numeric_cols,\n",
    "    'categorical_cols': categorical_cols,\n",
    "    'encoded_cols': encoded_cols\n",
    "}"
   ]
  },
  {
   "cell_type": "code",
   "execution_count": null,
   "id": "african-corrections",
   "metadata": {
    "colab": {
     "base_uri": "https://localhost:8080/"
    },
    "executionInfo": {
     "elapsed": 5,
     "status": "ok",
     "timestamp": 1625132082406,
     "user": {
      "displayName": "Sudhir Dubey",
      "photoUrl": "https://lh3.googleusercontent.com/a-/AOh14GjiCM88vscuTSbYNS_QlBqdfGYtG7YawBWr5DRA0mI=s64",
      "userId": "07151276408623246982"
     },
     "user_tz": -330
    },
    "id": "african-corrections",
    "outputId": "78324d4f-215e-4afa-d0c6-f5d395804874"
   },
   "outputs": [],
   "source": [
    "joblib.dump(house_price_predictor, 'house_price_predictor.joblib')"
   ]
  }
 ],
 "metadata": {
  "colab": {
   "collapsed_sections": [],
   "name": "python-sklearn-assignment.ipynb",
   "provenance": []
  },
  "language_info": {
   "codemirror_mode": {
    "name": "ipython",
    "version": 3
   },
   "file_extension": ".py",
   "mimetype": "text/x-python",
   "name": "python",
   "nbconvert_exporter": "python",
   "pygments_lexer": "ipython3",
   "version": "3.9.5"
  }
 },
 "nbformat": 4,
 "nbformat_minor": 5
}
