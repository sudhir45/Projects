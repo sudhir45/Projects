{
 "cells": [
  {
   "cell_type": "markdown",
   "id": "1d913408",
   "metadata": {
    "id": "expensive-trainer"
   },
   "source": [
    "# Rain Prediction\n",
    "# Decision Trees and Random Forests \n"
   ]
  },
  {
   "cell_type": "code",
   "execution_count": null,
   "id": "949bae18",
   "metadata": {
    "executionInfo": {
     "elapsed": 3174,
     "status": "ok",
     "timestamp": 1624941866123,
     "user": {
      "displayName": "Aakash N S",
      "photoUrl": "https://lh3.googleusercontent.com/a-/AOh14GhEhN-SUD4acXtkX_d8m7mxWmrngRSQYIe55adBOg=s64",
      "userId": "05836266386358934739"
     },
     "user_tz": -330
    },
    "id": "smaller-moore"
   },
   "outputs": [],
   "source": [
    "!pip install pandas numpy matplotlib seaborn --quiet"
   ]
  },
  {
   "cell_type": "code",
   "execution_count": null,
   "id": "6a648788",
   "metadata": {
    "colab": {
     "background_save": true,
     "base_uri": "https://localhost:8080/"
    },
    "executionInfo": {
     "elapsed": 10428,
     "status": "ok",
     "timestamp": 1624941876545,
     "user": {
      "displayName": "Aakash N S",
      "photoUrl": "https://lh3.googleusercontent.com/a-/AOh14GhEhN-SUD4acXtkX_d8m7mxWmrngRSQYIe55adBOg=s64",
      "userId": "05836266386358934739"
     },
     "user_tz": -330
    },
    "id": "wraQ_3GLEOwt"
   },
   "outputs": [],
   "source": [
    "!pip install opendatasets scikit-learn --quiet --upgrade"
   ]
  },
  {
   "cell_type": "code",
   "execution_count": null,
   "id": "9a932790",
   "metadata": {
    "colab": {
     "background_save": true
    },
    "executionInfo": {
     "elapsed": 592,
     "status": "ok",
     "timestamp": 1624941877128,
     "user": {
      "displayName": "Aakash N S",
      "photoUrl": "https://lh3.googleusercontent.com/a-/AOh14GhEhN-SUD4acXtkX_d8m7mxWmrngRSQYIe55adBOg=s64",
      "userId": "05836266386358934739"
     },
     "user_tz": -330
    },
    "id": "plain-explorer"
   },
   "outputs": [],
   "source": [
    "import opendatasets as od\n",
    "import matplotlib.pyplot as plt\n",
    "import seaborn as sns\n",
    "import pandas as pd\n",
    "import numpy as np\n",
    "import matplotlib\n",
    "import os\n",
    "%matplotlib inline\n",
    "\n",
    "pd.set_option('display.max_columns', None)\n",
    "pd.set_option('display.max_rows', 150)\n",
    "sns.set_style('darkgrid')\n",
    "matplotlib.rcParams['font.size'] = 14\n",
    "matplotlib.rcParams['figure.figsize'] = (10, 6)\n",
    "matplotlib.rcParams['figure.facecolor'] = '#00000000'"
   ]
  },
  {
   "cell_type": "markdown",
   "id": "a6092f42",
   "metadata": {
    "id": "fitting-grace"
   },
   "source": [
    "## Downloading the Data\n",
    "\n",
    "The dataset is available at https://www.kaggle.com/jsphyg/weather-dataset-rattle-package ."
   ]
  },
  {
   "cell_type": "code",
   "execution_count": null,
   "id": "be2653d3",
   "metadata": {
    "colab": {
     "base_uri": "https://localhost:8080/"
    },
    "executionInfo": {
     "elapsed": 618,
     "status": "ok",
     "timestamp": 1624941878923,
     "user": {
      "displayName": "Aakash N S",
      "photoUrl": "https://lh3.googleusercontent.com/a-/AOh14GhEhN-SUD4acXtkX_d8m7mxWmrngRSQYIe55adBOg=s64",
      "userId": "05836266386358934739"
     },
     "user_tz": -330
    },
    "id": "brave-prerequisite",
    "outputId": "2beba0b1-917d-42e7-d558-b8661c402a14"
   },
   "outputs": [],
   "source": [
    "od.download('https://www.kaggle.com/jsphyg/weather-dataset-rattle-package')"
   ]
  },
  {
   "cell_type": "code",
   "execution_count": null,
   "id": "5ca537ff",
   "metadata": {
    "colab": {
     "base_uri": "https://localhost:8080/"
    },
    "executionInfo": {
     "elapsed": 5,
     "status": "ok",
     "timestamp": 1624941879371,
     "user": {
      "displayName": "Aakash N S",
      "photoUrl": "https://lh3.googleusercontent.com/a-/AOh14GhEhN-SUD4acXtkX_d8m7mxWmrngRSQYIe55adBOg=s64",
      "userId": "05836266386358934739"
     },
     "user_tz": -330
    },
    "id": "realistic-search",
    "outputId": "0d752be0-bc14-4580-c522-474a683ef574"
   },
   "outputs": [],
   "source": [
    "os.listdir('weather-dataset-rattle-package')"
   ]
  },
  {
   "cell_type": "code",
   "execution_count": null,
   "id": "d67c3cf9",
   "metadata": {
    "executionInfo": {
     "elapsed": 631,
     "status": "ok",
     "timestamp": 1624941880908,
     "user": {
      "displayName": "Aakash N S",
      "photoUrl": "https://lh3.googleusercontent.com/a-/AOh14GhEhN-SUD4acXtkX_d8m7mxWmrngRSQYIe55adBOg=s64",
      "userId": "05836266386358934739"
     },
     "user_tz": -330
    },
    "id": "established-smart"
   },
   "outputs": [],
   "source": [
    "raw_df = pd.read_csv('weather-dataset-rattle-package/weatherAUS.csv')"
   ]
  },
  {
   "cell_type": "code",
   "execution_count": null,
   "id": "5aa5cc24",
   "metadata": {
    "colab": {
     "base_uri": "https://localhost:8080/",
     "height": 609
    },
    "executionInfo": {
     "elapsed": 99,
     "status": "ok",
     "timestamp": 1624941880909,
     "user": {
      "displayName": "Aakash N S",
      "photoUrl": "https://lh3.googleusercontent.com/a-/AOh14GhEhN-SUD4acXtkX_d8m7mxWmrngRSQYIe55adBOg=s64",
      "userId": "05836266386358934739"
     },
     "user_tz": -330
    },
    "id": "requested-occurrence",
    "outputId": "06fc7d0b-6915-49de-b5fd-c28f8f91fc35"
   },
   "outputs": [],
   "source": [
    "raw_df"
   ]
  },
  {
   "cell_type": "code",
   "execution_count": null,
   "id": "e171d116",
   "metadata": {
    "colab": {
     "base_uri": "https://localhost:8080/"
    },
    "executionInfo": {
     "elapsed": 19,
     "status": "ok",
     "timestamp": 1624941881623,
     "user": {
      "displayName": "Aakash N S",
      "photoUrl": "https://lh3.googleusercontent.com/a-/AOh14GhEhN-SUD4acXtkX_d8m7mxWmrngRSQYIe55adBOg=s64",
      "userId": "05836266386358934739"
     },
     "user_tz": -330
    },
    "id": "deadly-murray",
    "outputId": "3c716e73-48d5-48ac-a8d4-52307b23a117"
   },
   "outputs": [],
   "source": [
    "raw_df.info()"
   ]
  },
  {
   "cell_type": "code",
   "execution_count": null,
   "id": "a96f7e10",
   "metadata": {
    "executionInfo": {
     "elapsed": 9,
     "status": "ok",
     "timestamp": 1624941883150,
     "user": {
      "displayName": "Aakash N S",
      "photoUrl": "https://lh3.googleusercontent.com/a-/AOh14GhEhN-SUD4acXtkX_d8m7mxWmrngRSQYIe55adBOg=s64",
      "userId": "05836266386358934739"
     },
     "user_tz": -330
    },
    "id": "seven-franchise"
   },
   "outputs": [],
   "source": [
    "raw_df.dropna(subset=['RainTomorrow'], inplace=True)"
   ]
  },
  {
   "cell_type": "markdown",
   "id": "496e841a",
   "metadata": {
    "id": "adapted-project"
   },
   "source": [
    "## Preparing the Data for Training\n",
    "\n"
   ]
  },
  {
   "cell_type": "markdown",
   "id": "241919e3",
   "metadata": {
    "id": "bizarre-period"
   },
   "source": [
    "### Training, Validation and Test Sets"
   ]
  },
  {
   "cell_type": "code",
   "execution_count": null,
   "id": "c1bd38f7",
   "metadata": {
    "colab": {
     "base_uri": "https://localhost:8080/",
     "height": 416
    },
    "executionInfo": {
     "elapsed": 733,
     "status": "ok",
     "timestamp": 1624941900408,
     "user": {
      "displayName": "Aakash N S",
      "photoUrl": "https://lh3.googleusercontent.com/a-/AOh14GhEhN-SUD4acXtkX_d8m7mxWmrngRSQYIe55adBOg=s64",
      "userId": "05836266386358934739"
     },
     "user_tz": -330
    },
    "id": "secure-dominican",
    "outputId": "af5b27dc-d3b6-45fa-b6e5-656b2c0bf42c"
   },
   "outputs": [],
   "source": [
    "plt.title('No. of Rows per Year')\n",
    "sns.countplot(x=pd.to_datetime(raw_df.Date).dt.year);"
   ]
  },
  {
   "cell_type": "code",
   "execution_count": null,
   "id": "0190746d",
   "metadata": {
    "executionInfo": {
     "elapsed": 673,
     "status": "ok",
     "timestamp": 1624941904621,
     "user": {
      "displayName": "Aakash N S",
      "photoUrl": "https://lh3.googleusercontent.com/a-/AOh14GhEhN-SUD4acXtkX_d8m7mxWmrngRSQYIe55adBOg=s64",
      "userId": "05836266386358934739"
     },
     "user_tz": -330
    },
    "id": "quarterly-pillow"
   },
   "outputs": [],
   "source": [
    "year = pd.to_datetime(raw_df.Date).dt.year\n",
    "\n",
    "train_df = raw_df[year < 2015]\n",
    "val_df = raw_df[year == 2015]\n",
    "test_df = raw_df[year > 2015]"
   ]
  },
  {
   "cell_type": "code",
   "execution_count": null,
   "id": "91c4b0c9",
   "metadata": {
    "colab": {
     "base_uri": "https://localhost:8080/"
    },
    "executionInfo": {
     "elapsed": 5,
     "status": "ok",
     "timestamp": 1624941904622,
     "user": {
      "displayName": "Aakash N S",
      "photoUrl": "https://lh3.googleusercontent.com/a-/AOh14GhEhN-SUD4acXtkX_d8m7mxWmrngRSQYIe55adBOg=s64",
      "userId": "05836266386358934739"
     },
     "user_tz": -330
    },
    "id": "convenient-evidence",
    "outputId": "cf691767-ed68-4f40-dffc-520cca83865d"
   },
   "outputs": [],
   "source": [
    "print('train_df.shape :', train_df.shape)\n",
    "print('val_df.shape :', val_df.shape)\n",
    "print('test_df.shape :', test_df.shape)"
   ]
  },
  {
   "cell_type": "code",
   "execution_count": null,
   "id": "34e4f969",
   "metadata": {
    "executionInfo": {
     "elapsed": 5,
     "status": "ok",
     "timestamp": 1624941906171,
     "user": {
      "displayName": "Aakash N S",
      "photoUrl": "https://lh3.googleusercontent.com/a-/AOh14GhEhN-SUD4acXtkX_d8m7mxWmrngRSQYIe55adBOg=s64",
      "userId": "05836266386358934739"
     },
     "user_tz": -330
    },
    "id": "offshore-athletics"
   },
   "outputs": [],
   "source": []
  },
  {
   "cell_type": "markdown",
   "id": "fe0a84ba",
   "metadata": {
    "id": "intellectual-nature"
   },
   "source": [
    "### Input and Target Columns\n",
    "\n"
   ]
  },
  {
   "cell_type": "code",
   "execution_count": null,
   "id": "268764aa",
   "metadata": {
    "executionInfo": {
     "elapsed": 3,
     "status": "ok",
     "timestamp": 1624941908057,
     "user": {
      "displayName": "Aakash N S",
      "photoUrl": "https://lh3.googleusercontent.com/a-/AOh14GhEhN-SUD4acXtkX_d8m7mxWmrngRSQYIe55adBOg=s64",
      "userId": "05836266386358934739"
     },
     "user_tz": -330
    },
    "id": "musical-skating"
   },
   "outputs": [],
   "source": [
    "input_cols = list(train_df.columns)[1:-1]\n",
    "target_col = 'RainTomorrow'"
   ]
  },
  {
   "cell_type": "code",
   "execution_count": null,
   "id": "6b1cba37",
   "metadata": {
    "executionInfo": {
     "elapsed": 4,
     "status": "ok",
     "timestamp": 1624941908595,
     "user": {
      "displayName": "Aakash N S",
      "photoUrl": "https://lh3.googleusercontent.com/a-/AOh14GhEhN-SUD4acXtkX_d8m7mxWmrngRSQYIe55adBOg=s64",
      "userId": "05836266386358934739"
     },
     "user_tz": -330
    },
    "id": "recreational-console"
   },
   "outputs": [],
   "source": [
    "train_inputs = train_df[input_cols].copy()\n",
    "train_targets = train_df[target_col].copy()"
   ]
  },
  {
   "cell_type": "code",
   "execution_count": null,
   "id": "1728be35",
   "metadata": {
    "executionInfo": {
     "elapsed": 4,
     "status": "ok",
     "timestamp": 1624941909117,
     "user": {
      "displayName": "Aakash N S",
      "photoUrl": "https://lh3.googleusercontent.com/a-/AOh14GhEhN-SUD4acXtkX_d8m7mxWmrngRSQYIe55adBOg=s64",
      "userId": "05836266386358934739"
     },
     "user_tz": -330
    },
    "id": "parliamentary-painting"
   },
   "outputs": [],
   "source": [
    "val_inputs = val_df[input_cols].copy()\n",
    "val_targets = val_df[target_col].copy()"
   ]
  },
  {
   "cell_type": "code",
   "execution_count": null,
   "id": "bc240ee8",
   "metadata": {
    "executionInfo": {
     "elapsed": 3,
     "status": "ok",
     "timestamp": 1624941909608,
     "user": {
      "displayName": "Aakash N S",
      "photoUrl": "https://lh3.googleusercontent.com/a-/AOh14GhEhN-SUD4acXtkX_d8m7mxWmrngRSQYIe55adBOg=s64",
      "userId": "05836266386358934739"
     },
     "user_tz": -330
    },
    "id": "superior-dance"
   },
   "outputs": [],
   "source": [
    "test_inputs = test_df[input_cols].copy()\n",
    "test_targets = test_df[target_col].copy()"
   ]
  },
  {
   "cell_type": "code",
   "execution_count": null,
   "id": "a655cb82",
   "metadata": {
    "executionInfo": {
     "elapsed": 4,
     "status": "ok",
     "timestamp": 1624941910670,
     "user": {
      "displayName": "Aakash N S",
      "photoUrl": "https://lh3.googleusercontent.com/a-/AOh14GhEhN-SUD4acXtkX_d8m7mxWmrngRSQYIe55adBOg=s64",
      "userId": "05836266386358934739"
     },
     "user_tz": -330
    },
    "id": "welcome-viking"
   },
   "outputs": [],
   "source": [
    "numeric_cols = train_inputs.select_dtypes(include=np.number).columns.tolist()\n",
    "categorical_cols = train_inputs.select_dtypes('object').columns.tolist()"
   ]
  },
  {
   "cell_type": "code",
   "execution_count": null,
   "id": "273b3a1d",
   "metadata": {
    "colab": {
     "base_uri": "https://localhost:8080/"
    },
    "executionInfo": {
     "elapsed": 4,
     "status": "ok",
     "timestamp": 1624941911171,
     "user": {
      "displayName": "Aakash N S",
      "photoUrl": "https://lh3.googleusercontent.com/a-/AOh14GhEhN-SUD4acXtkX_d8m7mxWmrngRSQYIe55adBOg=s64",
      "userId": "05836266386358934739"
     },
     "user_tz": -330
    },
    "id": "starting-teach",
    "outputId": "dc21facb-3fe7-46c2-d471-8d64347f230c"
   },
   "outputs": [],
   "source": [
    "print(numeric_cols)"
   ]
  },
  {
   "cell_type": "code",
   "execution_count": null,
   "id": "5f507e41",
   "metadata": {
    "colab": {
     "base_uri": "https://localhost:8080/"
    },
    "executionInfo": {
     "elapsed": 3,
     "status": "ok",
     "timestamp": 1624941911701,
     "user": {
      "displayName": "Aakash N S",
      "photoUrl": "https://lh3.googleusercontent.com/a-/AOh14GhEhN-SUD4acXtkX_d8m7mxWmrngRSQYIe55adBOg=s64",
      "userId": "05836266386358934739"
     },
     "user_tz": -330
    },
    "id": "bacterial-proportion",
    "outputId": "088db21b-8ef2-4a54-ace8-310e311da581"
   },
   "outputs": [],
   "source": [
    "print(categorical_cols)"
   ]
  },
  {
   "cell_type": "code",
   "execution_count": null,
   "id": "a365bb90",
   "metadata": {
    "executionInfo": {
     "elapsed": 7,
     "status": "ok",
     "timestamp": 1624941913517,
     "user": {
      "displayName": "Aakash N S",
      "photoUrl": "https://lh3.googleusercontent.com/a-/AOh14GhEhN-SUD4acXtkX_d8m7mxWmrngRSQYIe55adBOg=s64",
      "userId": "05836266386358934739"
     },
     "user_tz": -330
    },
    "id": "reliable-portable"
   },
   "outputs": [],
   "source": []
  },
  {
   "cell_type": "markdown",
   "id": "fdb166e8",
   "metadata": {
    "id": "induced-tuner"
   },
   "source": [
    "### Imputing missing numeric values"
   ]
  },
  {
   "cell_type": "code",
   "execution_count": null,
   "id": "e057841f",
   "metadata": {
    "executionInfo": {
     "elapsed": 17,
     "status": "ok",
     "timestamp": 1624941914730,
     "user": {
      "displayName": "Aakash N S",
      "photoUrl": "https://lh3.googleusercontent.com/a-/AOh14GhEhN-SUD4acXtkX_d8m7mxWmrngRSQYIe55adBOg=s64",
      "userId": "05836266386358934739"
     },
     "user_tz": -330
    },
    "id": "metric-storm"
   },
   "outputs": [],
   "source": [
    "from sklearn.impute import SimpleImputer"
   ]
  },
  {
   "cell_type": "code",
   "execution_count": null,
   "id": "05a90a0a",
   "metadata": {
    "executionInfo": {
     "elapsed": 18,
     "status": "ok",
     "timestamp": 1624941914731,
     "user": {
      "displayName": "Aakash N S",
      "photoUrl": "https://lh3.googleusercontent.com/a-/AOh14GhEhN-SUD4acXtkX_d8m7mxWmrngRSQYIe55adBOg=s64",
      "userId": "05836266386358934739"
     },
     "user_tz": -330
    },
    "id": "cardiac-nelson"
   },
   "outputs": [],
   "source": [
    "imputer = SimpleImputer(strategy = 'mean').fit(raw_df[numeric_cols])"
   ]
  },
  {
   "cell_type": "code",
   "execution_count": null,
   "id": "388969cf",
   "metadata": {
    "executionInfo": {
     "elapsed": 554,
     "status": "ok",
     "timestamp": 1624941915735,
     "user": {
      "displayName": "Aakash N S",
      "photoUrl": "https://lh3.googleusercontent.com/a-/AOh14GhEhN-SUD4acXtkX_d8m7mxWmrngRSQYIe55adBOg=s64",
      "userId": "05836266386358934739"
     },
     "user_tz": -330
    },
    "id": "pacific-peter"
   },
   "outputs": [],
   "source": [
    "train_inputs[numeric_cols] = imputer.transform(train_inputs[numeric_cols])\n",
    "val_inputs[numeric_cols] = imputer.transform(val_inputs[numeric_cols])\n",
    "test_inputs[numeric_cols] = imputer.transform(test_inputs[numeric_cols])"
   ]
  },
  {
   "cell_type": "code",
   "execution_count": null,
   "id": "00a7758e",
   "metadata": {
    "colab": {
     "base_uri": "https://localhost:8080/"
    },
    "executionInfo": {
     "elapsed": 7,
     "status": "ok",
     "timestamp": 1624941915735,
     "user": {
      "displayName": "Aakash N S",
      "photoUrl": "https://lh3.googleusercontent.com/a-/AOh14GhEhN-SUD4acXtkX_d8m7mxWmrngRSQYIe55adBOg=s64",
      "userId": "05836266386358934739"
     },
     "user_tz": -330
    },
    "id": "assisted-brisbane",
    "outputId": "edb781af-6059-4a8b-8057-34babd80ccd8"
   },
   "outputs": [],
   "source": [
    "test_inputs[numeric_cols].isna().sum()"
   ]
  },
  {
   "cell_type": "markdown",
   "id": "5815d589",
   "metadata": {
    "id": "concerned-sight"
   },
   "source": [
    "### Scaling Numeric Features"
   ]
  },
  {
   "cell_type": "code",
   "execution_count": null,
   "id": "87aca71a",
   "metadata": {
    "executionInfo": {
     "elapsed": 3,
     "status": "ok",
     "timestamp": 1624941917232,
     "user": {
      "displayName": "Aakash N S",
      "photoUrl": "https://lh3.googleusercontent.com/a-/AOh14GhEhN-SUD4acXtkX_d8m7mxWmrngRSQYIe55adBOg=s64",
      "userId": "05836266386358934739"
     },
     "user_tz": -330
    },
    "id": "sonic-conclusion"
   },
   "outputs": [],
   "source": [
    "from sklearn.preprocessing import MinMaxScaler"
   ]
  },
  {
   "cell_type": "code",
   "execution_count": null,
   "id": "3b3c2a70",
   "metadata": {
    "executionInfo": {
     "elapsed": 4,
     "status": "ok",
     "timestamp": 1624941917566,
     "user": {
      "displayName": "Aakash N S",
      "photoUrl": "https://lh3.googleusercontent.com/a-/AOh14GhEhN-SUD4acXtkX_d8m7mxWmrngRSQYIe55adBOg=s64",
      "userId": "05836266386358934739"
     },
     "user_tz": -330
    },
    "id": "premium-brother"
   },
   "outputs": [],
   "source": [
    "scaler = MinMaxScaler().fit(raw_df[numeric_cols])"
   ]
  },
  {
   "cell_type": "code",
   "execution_count": null,
   "id": "60fc093e",
   "metadata": {
    "executionInfo": {
     "elapsed": 686,
     "status": "ok",
     "timestamp": 1624941918665,
     "user": {
      "displayName": "Aakash N S",
      "photoUrl": "https://lh3.googleusercontent.com/a-/AOh14GhEhN-SUD4acXtkX_d8m7mxWmrngRSQYIe55adBOg=s64",
      "userId": "05836266386358934739"
     },
     "user_tz": -330
    },
    "id": "brief-raising"
   },
   "outputs": [],
   "source": [
    "train_inputs[numeric_cols] = scaler.transform(train_inputs[numeric_cols])\n",
    "val_inputs[numeric_cols] = scaler.transform(val_inputs[numeric_cols])\n",
    "test_inputs[numeric_cols] = scaler.transform(test_inputs[numeric_cols])"
   ]
  },
  {
   "cell_type": "code",
   "execution_count": null,
   "id": "a635f0c1",
   "metadata": {
    "colab": {
     "base_uri": "https://localhost:8080/",
     "height": 111
    },
    "executionInfo": {
     "elapsed": 100,
     "status": "ok",
     "timestamp": 1624941918666,
     "user": {
      "displayName": "Aakash N S",
      "photoUrl": "https://lh3.googleusercontent.com/a-/AOh14GhEhN-SUD4acXtkX_d8m7mxWmrngRSQYIe55adBOg=s64",
      "userId": "05836266386358934739"
     },
     "user_tz": -330
    },
    "id": "heard-librarian",
    "outputId": "d3e5212b-0549-4e13-f8da-dd2ff7785049"
   },
   "outputs": [],
   "source": [
    "val_inputs.describe().loc[['min', 'max']]"
   ]
  },
  {
   "cell_type": "code",
   "execution_count": null,
   "id": "136a78ee",
   "metadata": {
    "executionInfo": {
     "elapsed": 5,
     "status": "ok",
     "timestamp": 1624941920030,
     "user": {
      "displayName": "Aakash N S",
      "photoUrl": "https://lh3.googleusercontent.com/a-/AOh14GhEhN-SUD4acXtkX_d8m7mxWmrngRSQYIe55adBOg=s64",
      "userId": "05836266386358934739"
     },
     "user_tz": -330
    },
    "id": "sublime-louisville"
   },
   "outputs": [],
   "source": []
  },
  {
   "cell_type": "markdown",
   "id": "04252369",
   "metadata": {
    "id": "complicated-engineering"
   },
   "source": [
    "### Encoding Categorical Data"
   ]
  },
  {
   "cell_type": "code",
   "execution_count": null,
   "id": "9ed7a5e1",
   "metadata": {
    "executionInfo": {
     "elapsed": 5,
     "status": "ok",
     "timestamp": 1624941921432,
     "user": {
      "displayName": "Aakash N S",
      "photoUrl": "https://lh3.googleusercontent.com/a-/AOh14GhEhN-SUD4acXtkX_d8m7mxWmrngRSQYIe55adBOg=s64",
      "userId": "05836266386358934739"
     },
     "user_tz": -330
    },
    "id": "extra-gauge"
   },
   "outputs": [],
   "source": [
    "from sklearn.preprocessing import OneHotEncoder"
   ]
  },
  {
   "cell_type": "code",
   "execution_count": null,
   "id": "c70609e8",
   "metadata": {
    "executionInfo": {
     "elapsed": 5,
     "status": "ok",
     "timestamp": 1624941921433,
     "user": {
      "displayName": "Aakash N S",
      "photoUrl": "https://lh3.googleusercontent.com/a-/AOh14GhEhN-SUD4acXtkX_d8m7mxWmrngRSQYIe55adBOg=s64",
      "userId": "05836266386358934739"
     },
     "user_tz": -330
    },
    "id": "armed-nursery"
   },
   "outputs": [],
   "source": [
    "encoder = OneHotEncoder(sparse=False, handle_unknown='ignore').fit(raw_df[categorical_cols])"
   ]
  },
  {
   "cell_type": "code",
   "execution_count": null,
   "id": "8395d914",
   "metadata": {
    "executionInfo": {
     "elapsed": 3,
     "status": "ok",
     "timestamp": 1624941922984,
     "user": {
      "displayName": "Aakash N S",
      "photoUrl": "https://lh3.googleusercontent.com/a-/AOh14GhEhN-SUD4acXtkX_d8m7mxWmrngRSQYIe55adBOg=s64",
      "userId": "05836266386358934739"
     },
     "user_tz": -330
    },
    "id": "balanced-gamma"
   },
   "outputs": [],
   "source": [
    "encoded_cols = list(encoder.get_feature_names(categorical_cols))"
   ]
  },
  {
   "cell_type": "code",
   "execution_count": null,
   "id": "acb93c93",
   "metadata": {
    "executionInfo": {
     "elapsed": 9004,
     "status": "ok",
     "timestamp": 1624941932379,
     "user": {
      "displayName": "Aakash N S",
      "photoUrl": "https://lh3.googleusercontent.com/a-/AOh14GhEhN-SUD4acXtkX_d8m7mxWmrngRSQYIe55adBOg=s64",
      "userId": "05836266386358934739"
     },
     "user_tz": -330
    },
    "id": "rapid-circulation"
   },
   "outputs": [],
   "source": [
    "train_inputs[encoded_cols] = encoder.transform(train_inputs[categorical_cols])\n",
    "val_inputs[encoded_cols] = encoder.transform(val_inputs[categorical_cols])\n",
    "test_inputs[encoded_cols] = encoder.transform(test_inputs[categorical_cols])"
   ]
  },
  {
   "cell_type": "code",
   "execution_count": null,
   "id": "eb154991",
   "metadata": {
    "colab": {
     "base_uri": "https://localhost:8080/",
     "height": 439
    },
    "executionInfo": {
     "elapsed": 94,
     "status": "ok",
     "timestamp": 1624941932465,
     "user": {
      "displayName": "Aakash N S",
      "photoUrl": "https://lh3.googleusercontent.com/a-/AOh14GhEhN-SUD4acXtkX_d8m7mxWmrngRSQYIe55adBOg=s64",
      "userId": "05836266386358934739"
     },
     "user_tz": -330
    },
    "id": "overhead-functionality",
    "outputId": "6995f50b-be01-4b67-ad4e-0bb02ff2e2b2"
   },
   "outputs": [],
   "source": [
    "test_inputs"
   ]
  },
  {
   "cell_type": "code",
   "execution_count": null,
   "id": "30ca45ef",
   "metadata": {
    "executionInfo": {
     "elapsed": 89,
     "status": "ok",
     "timestamp": 1624941932465,
     "user": {
      "displayName": "Aakash N S",
      "photoUrl": "https://lh3.googleusercontent.com/a-/AOh14GhEhN-SUD4acXtkX_d8m7mxWmrngRSQYIe55adBOg=s64",
      "userId": "05836266386358934739"
     },
     "user_tz": -330
    },
    "id": "floating-cathedral"
   },
   "outputs": [],
   "source": [
    "X_train = train_inputs[numeric_cols + encoded_cols]\n",
    "X_val = val_inputs[numeric_cols + encoded_cols]\n",
    "X_test = test_inputs[numeric_cols + encoded_cols]"
   ]
  },
  {
   "cell_type": "code",
   "execution_count": null,
   "id": "41f45317",
   "metadata": {
    "colab": {
     "base_uri": "https://localhost:8080/",
     "height": 439
    },
    "executionInfo": {
     "elapsed": 91,
     "status": "ok",
     "timestamp": 1624941934228,
     "user": {
      "displayName": "Aakash N S",
      "photoUrl": "https://lh3.googleusercontent.com/a-/AOh14GhEhN-SUD4acXtkX_d8m7mxWmrngRSQYIe55adBOg=s64",
      "userId": "05836266386358934739"
     },
     "user_tz": -330
    },
    "id": "standard-brooklyn",
    "outputId": "82d9d5f6-273c-45d1-9b8e-7259b816702d"
   },
   "outputs": [],
   "source": [
    "X_test"
   ]
  },
  {
   "cell_type": "markdown",
   "id": "66bb4132",
   "metadata": {
    "id": "exempt-retail"
   },
   "source": [
    "### Training\n",
    "\n",
    "We can use `DecisionTreeClassifier` from `sklearn.tree` to train a decision tree."
   ]
  },
  {
   "cell_type": "code",
   "execution_count": null,
   "id": "083367fc",
   "metadata": {
    "executionInfo": {
     "elapsed": 5,
     "status": "ok",
     "timestamp": 1624941938259,
     "user": {
      "displayName": "Aakash N S",
      "photoUrl": "https://lh3.googleusercontent.com/a-/AOh14GhEhN-SUD4acXtkX_d8m7mxWmrngRSQYIe55adBOg=s64",
      "userId": "05836266386358934739"
     },
     "user_tz": -330
    },
    "id": "dress-reviewer"
   },
   "outputs": [],
   "source": [
    "from sklearn.tree import DecisionTreeClassifier"
   ]
  },
  {
   "cell_type": "code",
   "execution_count": null,
   "id": "44404a2f",
   "metadata": {
    "executionInfo": {
     "elapsed": 4,
     "status": "ok",
     "timestamp": 1624941939556,
     "user": {
      "displayName": "Aakash N S",
      "photoUrl": "https://lh3.googleusercontent.com/a-/AOh14GhEhN-SUD4acXtkX_d8m7mxWmrngRSQYIe55adBOg=s64",
      "userId": "05836266386358934739"
     },
     "user_tz": -330
    },
    "id": "activated-designer"
   },
   "outputs": [],
   "source": [
    "model = DecisionTreeClassifier(random_state=42)"
   ]
  },
  {
   "cell_type": "code",
   "execution_count": null,
   "id": "59ca2f43",
   "metadata": {
    "colab": {
     "base_uri": "https://localhost:8080/"
    },
    "executionInfo": {
     "elapsed": 3565,
     "status": "ok",
     "timestamp": 1624941943669,
     "user": {
      "displayName": "Aakash N S",
      "photoUrl": "https://lh3.googleusercontent.com/a-/AOh14GhEhN-SUD4acXtkX_d8m7mxWmrngRSQYIe55adBOg=s64",
      "userId": "05836266386358934739"
     },
     "user_tz": -330
    },
    "id": "superb-fight",
    "outputId": "f9b5379a-e04d-4168-91ec-d4ee554a76f4"
   },
   "outputs": [],
   "source": [
    "%%time\n",
    "model.fit(X_train, train_targets)"
   ]
  },
  {
   "cell_type": "markdown",
   "id": "f5bb9637",
   "metadata": {
    "id": "industrial-valuation"
   },
   "source": [
    "### Evaluation\n"
   ]
  },
  {
   "cell_type": "code",
   "execution_count": null,
   "id": "32f547d4",
   "metadata": {
    "executionInfo": {
     "elapsed": 9,
     "status": "ok",
     "timestamp": 1624941943670,
     "user": {
      "displayName": "Aakash N S",
      "photoUrl": "https://lh3.googleusercontent.com/a-/AOh14GhEhN-SUD4acXtkX_d8m7mxWmrngRSQYIe55adBOg=s64",
      "userId": "05836266386358934739"
     },
     "user_tz": -330
    },
    "id": "ongoing-broadway"
   },
   "outputs": [],
   "source": [
    "from sklearn.metrics import accuracy_score, confusion_matrix"
   ]
  },
  {
   "cell_type": "code",
   "execution_count": null,
   "id": "2d2537e5",
   "metadata": {
    "executionInfo": {
     "elapsed": 7,
     "status": "ok",
     "timestamp": 1624941943671,
     "user": {
      "displayName": "Aakash N S",
      "photoUrl": "https://lh3.googleusercontent.com/a-/AOh14GhEhN-SUD4acXtkX_d8m7mxWmrngRSQYIe55adBOg=s64",
      "userId": "05836266386358934739"
     },
     "user_tz": -330
    },
    "id": "religious-personality"
   },
   "outputs": [],
   "source": [
    "train_preds = model.predict(X_train)"
   ]
  },
  {
   "cell_type": "code",
   "execution_count": null,
   "id": "d4876a53",
   "metadata": {
    "colab": {
     "base_uri": "https://localhost:8080/"
    },
    "executionInfo": {
     "elapsed": 4,
     "status": "ok",
     "timestamp": 1624941944612,
     "user": {
      "displayName": "Aakash N S",
      "photoUrl": "https://lh3.googleusercontent.com/a-/AOh14GhEhN-SUD4acXtkX_d8m7mxWmrngRSQYIe55adBOg=s64",
      "userId": "05836266386358934739"
     },
     "user_tz": -330
    },
    "id": "invisible-medicaid",
    "outputId": "ebfc7983-65d7-4afb-d047-80a0fa2e2377"
   },
   "outputs": [],
   "source": [
    "train_preds"
   ]
  },
  {
   "cell_type": "code",
   "execution_count": null,
   "id": "56487c75",
   "metadata": {
    "colab": {
     "base_uri": "https://localhost:8080/"
    },
    "executionInfo": {
     "elapsed": 6,
     "status": "ok",
     "timestamp": 1624941945837,
     "user": {
      "displayName": "Aakash N S",
      "photoUrl": "https://lh3.googleusercontent.com/a-/AOh14GhEhN-SUD4acXtkX_d8m7mxWmrngRSQYIe55adBOg=s64",
      "userId": "05836266386358934739"
     },
     "user_tz": -330
    },
    "id": "demographic-guyana",
    "outputId": "f6c3f0c8-76ff-43ea-da0a-e0b0370a8d3a"
   },
   "outputs": [],
   "source": [
    "pd.value_counts(train_preds)"
   ]
  },
  {
   "cell_type": "code",
   "execution_count": null,
   "id": "18102ecd",
   "metadata": {
    "executionInfo": {
     "elapsed": 4,
     "status": "ok",
     "timestamp": 1624941946641,
     "user": {
      "displayName": "Aakash N S",
      "photoUrl": "https://lh3.googleusercontent.com/a-/AOh14GhEhN-SUD4acXtkX_d8m7mxWmrngRSQYIe55adBOg=s64",
      "userId": "05836266386358934739"
     },
     "user_tz": -330
    },
    "id": "equipped-violin"
   },
   "outputs": [],
   "source": [
    "train_probs = model.predict_proba(X_train)"
   ]
  },
  {
   "cell_type": "code",
   "execution_count": null,
   "id": "8be38314",
   "metadata": {
    "colab": {
     "base_uri": "https://localhost:8080/"
    },
    "executionInfo": {
     "elapsed": 5,
     "status": "ok",
     "timestamp": 1624941947164,
     "user": {
      "displayName": "Aakash N S",
      "photoUrl": "https://lh3.googleusercontent.com/a-/AOh14GhEhN-SUD4acXtkX_d8m7mxWmrngRSQYIe55adBOg=s64",
      "userId": "05836266386358934739"
     },
     "user_tz": -330
    },
    "id": "involved-affair",
    "outputId": "cc1f1182-4ad9-4f03-f172-0137488b3781"
   },
   "outputs": [],
   "source": [
    "train_probs"
   ]
  },
  {
   "cell_type": "code",
   "execution_count": null,
   "id": "d9e45f56",
   "metadata": {
    "colab": {
     "base_uri": "https://localhost:8080/"
    },
    "executionInfo": {
     "elapsed": 532,
     "status": "ok",
     "timestamp": 1624941948769,
     "user": {
      "displayName": "Aakash N S",
      "photoUrl": "https://lh3.googleusercontent.com/a-/AOh14GhEhN-SUD4acXtkX_d8m7mxWmrngRSQYIe55adBOg=s64",
      "userId": "05836266386358934739"
     },
     "user_tz": -330
    },
    "id": "psychological-wellington",
    "outputId": "e55f9295-7db1-4c80-d1e9-c93678fc897c"
   },
   "outputs": [],
   "source": [
    "accuracy_score(train_targets, train_preds)"
   ]
  },
  {
   "cell_type": "code",
   "execution_count": null,
   "id": "d2adc7bf",
   "metadata": {
    "colab": {
     "base_uri": "https://localhost:8080/"
    },
    "executionInfo": {
     "elapsed": 4,
     "status": "ok",
     "timestamp": 1624941949176,
     "user": {
      "displayName": "Aakash N S",
      "photoUrl": "https://lh3.googleusercontent.com/a-/AOh14GhEhN-SUD4acXtkX_d8m7mxWmrngRSQYIe55adBOg=s64",
      "userId": "05836266386358934739"
     },
     "user_tz": -330
    },
    "id": "logical-values",
    "outputId": "75c9085a-d4a3-43b5-bd4d-a2510e621dad"
   },
   "outputs": [],
   "source": [
    "model.score(X_val, val_targets)"
   ]
  },
  {
   "cell_type": "code",
   "execution_count": null,
   "id": "abc2397d",
   "metadata": {
    "colab": {
     "base_uri": "https://localhost:8080/"
    },
    "executionInfo": {
     "elapsed": 5,
     "status": "ok",
     "timestamp": 1624941950185,
     "user": {
      "displayName": "Aakash N S",
      "photoUrl": "https://lh3.googleusercontent.com/a-/AOh14GhEhN-SUD4acXtkX_d8m7mxWmrngRSQYIe55adBOg=s64",
      "userId": "05836266386358934739"
     },
     "user_tz": -330
    },
    "id": "original-national",
    "outputId": "89c8f471-d680-49df-f525-6978a8764a67"
   },
   "outputs": [],
   "source": [
    "val_targets.value_counts() / len(val_targets)"
   ]
  },
  {
   "cell_type": "markdown",
   "id": "9a038c4a",
   "metadata": {
    "id": "promotional-third"
   },
   "source": [
    "### Visualization\n",
    "\n"
   ]
  },
  {
   "cell_type": "code",
   "execution_count": null,
   "id": "a847f2cd",
   "metadata": {
    "executionInfo": {
     "elapsed": 5,
     "status": "ok",
     "timestamp": 1624941951945,
     "user": {
      "displayName": "Aakash N S",
      "photoUrl": "https://lh3.googleusercontent.com/a-/AOh14GhEhN-SUD4acXtkX_d8m7mxWmrngRSQYIe55adBOg=s64",
      "userId": "05836266386358934739"
     },
     "user_tz": -330
    },
    "id": "universal-catalog"
   },
   "outputs": [],
   "source": [
    "from sklearn.tree import plot_tree, export_text"
   ]
  },
  {
   "cell_type": "code",
   "execution_count": null,
   "id": "529c7b2c",
   "metadata": {
    "colab": {
     "base_uri": "https://localhost:8080/",
     "height": 427
    },
    "executionInfo": {
     "elapsed": 2771,
     "status": "ok",
     "timestamp": 1624941955112,
     "user": {
      "displayName": "Aakash N S",
      "photoUrl": "https://lh3.googleusercontent.com/a-/AOh14GhEhN-SUD4acXtkX_d8m7mxWmrngRSQYIe55adBOg=s64",
      "userId": "05836266386358934739"
     },
     "user_tz": -330
    },
    "id": "existing-bangkok",
    "outputId": "e7b32cc1-839e-43be-f538-b5ea5b4bab1c"
   },
   "outputs": [],
   "source": [
    "plt.figure(figsize=(80,20))\n",
    "plot_tree(model, feature_names=X_train.columns, max_depth=2, filled=True);"
   ]
  },
  {
   "cell_type": "code",
   "execution_count": null,
   "id": "22bc4cf9",
   "metadata": {
    "colab": {
     "base_uri": "https://localhost:8080/"
    },
    "executionInfo": {
     "elapsed": 111,
     "status": "ok",
     "timestamp": 1624941955113,
     "user": {
      "displayName": "Aakash N S",
      "photoUrl": "https://lh3.googleusercontent.com/a-/AOh14GhEhN-SUD4acXtkX_d8m7mxWmrngRSQYIe55adBOg=s64",
      "userId": "05836266386358934739"
     },
     "user_tz": -330
    },
    "id": "bronze-split",
    "outputId": "b54271c2-782d-4c14-b9cb-102f0e424f27"
   },
   "outputs": [],
   "source": [
    "model.tree_.max_depth"
   ]
  },
  {
   "cell_type": "code",
   "execution_count": null,
   "id": "9031abaa",
   "metadata": {
    "colab": {
     "base_uri": "https://localhost:8080/"
    },
    "executionInfo": {
     "elapsed": 6,
     "status": "ok",
     "timestamp": 1624941955686,
     "user": {
      "displayName": "Aakash N S",
      "photoUrl": "https://lh3.googleusercontent.com/a-/AOh14GhEhN-SUD4acXtkX_d8m7mxWmrngRSQYIe55adBOg=s64",
      "userId": "05836266386358934739"
     },
     "user_tz": -330
    },
    "id": "congressional-circle",
    "outputId": "2895a1b5-2676-46e0-ec65-858b4abfb773",
    "scrolled": false
   },
   "outputs": [],
   "source": [
    "tree_text = export_text(model, max_depth=10, feature_names=list(X_train.columns))\n",
    "print(tree_text[:5000])"
   ]
  },
  {
   "cell_type": "code",
   "execution_count": null,
   "id": "e08784bb",
   "metadata": {
    "executionInfo": {
     "elapsed": 4,
     "status": "ok",
     "timestamp": 1624941955686,
     "user": {
      "displayName": "Aakash N S",
      "photoUrl": "https://lh3.googleusercontent.com/a-/AOh14GhEhN-SUD4acXtkX_d8m7mxWmrngRSQYIe55adBOg=s64",
      "userId": "05836266386358934739"
     },
     "user_tz": -330
    },
    "id": "vocal-arthur"
   },
   "outputs": [],
   "source": []
  },
  {
   "cell_type": "markdown",
   "id": "e9ac7ad6",
   "metadata": {
    "id": "talented-watson"
   },
   "source": [
    "### Feature Importance\n",
    "\n"
   ]
  },
  {
   "cell_type": "code",
   "execution_count": null,
   "id": "6f3f6199",
   "metadata": {
    "colab": {
     "base_uri": "https://localhost:8080/"
    },
    "executionInfo": {
     "elapsed": 5,
     "status": "ok",
     "timestamp": 1624941956830,
     "user": {
      "displayName": "Aakash N S",
      "photoUrl": "https://lh3.googleusercontent.com/a-/AOh14GhEhN-SUD4acXtkX_d8m7mxWmrngRSQYIe55adBOg=s64",
      "userId": "05836266386358934739"
     },
     "user_tz": -330
    },
    "id": "ambient-commons",
    "outputId": "f6f08aeb-f8c4-4a35-f0dd-1ea24d01f578"
   },
   "outputs": [],
   "source": [
    "model.feature_importances_"
   ]
  },
  {
   "cell_type": "code",
   "execution_count": null,
   "id": "bc1ea3c3",
   "metadata": {
    "executionInfo": {
     "elapsed": 91,
     "status": "ok",
     "timestamp": 1624941958254,
     "user": {
      "displayName": "Aakash N S",
      "photoUrl": "https://lh3.googleusercontent.com/a-/AOh14GhEhN-SUD4acXtkX_d8m7mxWmrngRSQYIe55adBOg=s64",
      "userId": "05836266386358934739"
     },
     "user_tz": -330
    },
    "id": "meaning-stake"
   },
   "outputs": [],
   "source": [
    "importance_df = pd.DataFrame({\n",
    "    'feature': X_train.columns,\n",
    "    'importance': model.feature_importances_\n",
    "}).sort_values('importance', ascending=False)"
   ]
  },
  {
   "cell_type": "code",
   "execution_count": null,
   "id": "2bed899c",
   "metadata": {
    "colab": {
     "base_uri": "https://localhost:8080/",
     "height": 359
    },
    "executionInfo": {
     "elapsed": 90,
     "status": "ok",
     "timestamp": 1624941958255,
     "user": {
      "displayName": "Aakash N S",
      "photoUrl": "https://lh3.googleusercontent.com/a-/AOh14GhEhN-SUD4acXtkX_d8m7mxWmrngRSQYIe55adBOg=s64",
      "userId": "05836266386358934739"
     },
     "user_tz": -330
    },
    "id": "unique-symphony",
    "outputId": "0802b1a6-71bb-4568-dd42-730d9b0b817b"
   },
   "outputs": [],
   "source": [
    "importance_df.head(10)"
   ]
  },
  {
   "cell_type": "code",
   "execution_count": null,
   "id": "9002edfe",
   "metadata": {
    "colab": {
     "base_uri": "https://localhost:8080/",
     "height": 416
    },
    "executionInfo": {
     "elapsed": 554,
     "status": "ok",
     "timestamp": 1624941959065,
     "user": {
      "displayName": "Aakash N S",
      "photoUrl": "https://lh3.googleusercontent.com/a-/AOh14GhEhN-SUD4acXtkX_d8m7mxWmrngRSQYIe55adBOg=s64",
      "userId": "05836266386358934739"
     },
     "user_tz": -330
    },
    "id": "fatty-biotechnology",
    "outputId": "2da488ab-13ab-474c-e1ce-16fbad7642a9"
   },
   "outputs": [],
   "source": [
    "plt.title('Feature Importance')\n",
    "sns.barplot(data=importance_df.head(10), x='importance', y='feature');"
   ]
  },
  {
   "cell_type": "markdown",
   "id": "4787fb31",
   "metadata": {
    "id": "composed-airfare"
   },
   "source": [
    "## Hyperparameter Tuning and Overfitting"
   ]
  },
  {
   "cell_type": "code",
   "execution_count": null,
   "id": "f4636272",
   "metadata": {
    "colab": {
     "background_save": true
    },
    "executionInfo": {
     "elapsed": 89,
     "status": "ok",
     "timestamp": 1624941965109,
     "user": {
      "displayName": "Aakash N S",
      "photoUrl": "https://lh3.googleusercontent.com/a-/AOh14GhEhN-SUD4acXtkX_d8m7mxWmrngRSQYIe55adBOg=s64",
      "userId": "05836266386358934739"
     },
     "user_tz": -330
    },
    "id": "distinguished-trainer"
   },
   "outputs": [],
   "source": [
    "?DecisionTreeClassifier"
   ]
  },
  {
   "cell_type": "code",
   "execution_count": null,
   "id": "02547b7a",
   "metadata": {
    "colab": {
     "background_save": true
    },
    "executionInfo": {
     "elapsed": 3,
     "status": "ok",
     "timestamp": 1624941965446,
     "user": {
      "displayName": "Aakash N S",
      "photoUrl": "https://lh3.googleusercontent.com/a-/AOh14GhEhN-SUD4acXtkX_d8m7mxWmrngRSQYIe55adBOg=s64",
      "userId": "05836266386358934739"
     },
     "user_tz": -330
    },
    "id": "specialized-appearance"
   },
   "outputs": [],
   "source": [
    "model = DecisionTreeClassifier(max_depth=3, random_state=42)"
   ]
  },
  {
   "cell_type": "code",
   "execution_count": null,
   "id": "2199b748",
   "metadata": {
    "colab": {
     "base_uri": "https://localhost:8080/"
    },
    "executionInfo": {
     "elapsed": 454,
     "status": "ok",
     "timestamp": 1624941966628,
     "user": {
      "displayName": "Aakash N S",
      "photoUrl": "https://lh3.googleusercontent.com/a-/AOh14GhEhN-SUD4acXtkX_d8m7mxWmrngRSQYIe55adBOg=s64",
      "userId": "05836266386358934739"
     },
     "user_tz": -330
    },
    "id": "professional-consultancy",
    "outputId": "1b34580f-ad78-446b-90fe-a26b63f70ee8"
   },
   "outputs": [],
   "source": [
    "model.fit(X_train, train_targets)"
   ]
  },
  {
   "cell_type": "code",
   "execution_count": null,
   "id": "ee81e4c4",
   "metadata": {
    "colab": {
     "base_uri": "https://localhost:8080/"
    },
    "executionInfo": {
     "elapsed": 1433,
     "status": "ok",
     "timestamp": 1624941968035,
     "user": {
      "displayName": "Aakash N S",
      "photoUrl": "https://lh3.googleusercontent.com/a-/AOh14GhEhN-SUD4acXtkX_d8m7mxWmrngRSQYIe55adBOg=s64",
      "userId": "05836266386358934739"
     },
     "user_tz": -330
    },
    "id": "applicable-retirement",
    "outputId": "4ecb7378-f1b6-475b-af5b-722093df0cc6"
   },
   "outputs": [],
   "source": [
    "model.score(X_train, train_targets)"
   ]
  },
  {
   "cell_type": "code",
   "execution_count": null,
   "id": "2d1d6f71",
   "metadata": {
    "colab": {
     "base_uri": "https://localhost:8080/"
    },
    "executionInfo": {
     "elapsed": 265,
     "status": "ok",
     "timestamp": 1624941972830,
     "user": {
      "displayName": "Aakash N S",
      "photoUrl": "https://lh3.googleusercontent.com/a-/AOh14GhEhN-SUD4acXtkX_d8m7mxWmrngRSQYIe55adBOg=s64",
      "userId": "05836266386358934739"
     },
     "user_tz": -330
    },
    "id": "detected-temperature",
    "outputId": "9f30c432-4d0e-47db-829f-34f26b45664a"
   },
   "outputs": [],
   "source": [
    "model.score(X_val, val_targets)"
   ]
  },
  {
   "cell_type": "code",
   "execution_count": null,
   "id": "a7908989",
   "metadata": {
    "colab": {
     "base_uri": "https://localhost:8080/"
    },
    "executionInfo": {
     "elapsed": 606,
     "status": "ok",
     "timestamp": 1624941976365,
     "user": {
      "displayName": "Aakash N S",
      "photoUrl": "https://lh3.googleusercontent.com/a-/AOh14GhEhN-SUD4acXtkX_d8m7mxWmrngRSQYIe55adBOg=s64",
      "userId": "05836266386358934739"
     },
     "user_tz": -330
    },
    "id": "legendary-commodity",
    "outputId": "2066190e-ba1b-4f8d-c25d-0580e5304b4d"
   },
   "outputs": [],
   "source": [
    "model.classes_"
   ]
  },
  {
   "cell_type": "code",
   "execution_count": null,
   "id": "597ea307",
   "metadata": {
    "colab": {
     "base_uri": "https://localhost:8080/",
     "height": 427
    },
    "executionInfo": {
     "elapsed": 3303,
     "status": "ok",
     "timestamp": 1624941979663,
     "user": {
      "displayName": "Aakash N S",
      "photoUrl": "https://lh3.googleusercontent.com/a-/AOh14GhEhN-SUD4acXtkX_d8m7mxWmrngRSQYIe55adBOg=s64",
      "userId": "05836266386358934739"
     },
     "user_tz": -330
    },
    "id": "accessory-ireland",
    "outputId": "f28cafab-2b01-489b-a8d1-8bbba651f638"
   },
   "outputs": [],
   "source": [
    "plt.figure(figsize=(80,20))\n",
    "plot_tree(model, feature_names=X_train.columns, filled=True, rounded=True, class_names=model.classes_);"
   ]
  },
  {
   "cell_type": "code",
   "execution_count": null,
   "id": "c8df9588",
   "metadata": {
    "colab": {
     "base_uri": "https://localhost:8080/"
    },
    "executionInfo": {
     "elapsed": 8,
     "status": "ok",
     "timestamp": 1624941985919,
     "user": {
      "displayName": "Aakash N S",
      "photoUrl": "https://lh3.googleusercontent.com/a-/AOh14GhEhN-SUD4acXtkX_d8m7mxWmrngRSQYIe55adBOg=s64",
      "userId": "05836266386358934739"
     },
     "user_tz": -330
    },
    "id": "coral-payment",
    "outputId": "a845ba0f-b82b-4a44-ac80-646ec859a181"
   },
   "outputs": [],
   "source": [
    "print(export_text(model, feature_names=list(X_train.columns)))"
   ]
  },
  {
   "cell_type": "code",
   "execution_count": null,
   "id": "1f299791",
   "metadata": {
    "executionInfo": {
     "elapsed": 369,
     "status": "ok",
     "timestamp": 1624941985375,
     "user": {
      "displayName": "Aakash N S",
      "photoUrl": "https://lh3.googleusercontent.com/a-/AOh14GhEhN-SUD4acXtkX_d8m7mxWmrngRSQYIe55adBOg=s64",
      "userId": "05836266386358934739"
     },
     "user_tz": -330
    },
    "id": "tutorial-coating"
   },
   "outputs": [],
   "source": [
    "def max_depth_error(md):\n",
    "    model = DecisionTreeClassifier(max_depth=md, random_state=42)\n",
    "    model.fit(X_train, train_targets)\n",
    "    train_acc = 1 - model.score(X_train, train_targets)\n",
    "    val_acc = 1 - model.score(X_val, val_targets)\n",
    "    return {'Max Depth': md, 'Training Error': train_acc, 'Validation Error': val_acc}"
   ]
  },
  {
   "cell_type": "code",
   "execution_count": null,
   "id": "3030fc11",
   "metadata": {
    "colab": {
     "base_uri": "https://localhost:8080/"
    },
    "executionInfo": {
     "elapsed": 40900,
     "status": "ok",
     "timestamp": 1624942029929,
     "user": {
      "displayName": "Aakash N S",
      "photoUrl": "https://lh3.googleusercontent.com/a-/AOh14GhEhN-SUD4acXtkX_d8m7mxWmrngRSQYIe55adBOg=s64",
      "userId": "05836266386358934739"
     },
     "user_tz": -330
    },
    "id": "elegant-nothing",
    "outputId": "cab7f927-021c-45ff-8979-04df5b243d90"
   },
   "outputs": [],
   "source": [
    "%%time\n",
    "errors_df = pd.DataFrame([max_depth_error(md) for md in range(1, 21)])"
   ]
  },
  {
   "cell_type": "code",
   "execution_count": null,
   "id": "9e8c1935",
   "metadata": {
    "colab": {
     "base_uri": "https://localhost:8080/",
     "height": 669
    },
    "executionInfo": {
     "elapsed": 120,
     "status": "ok",
     "timestamp": 1624942029931,
     "user": {
      "displayName": "Aakash N S",
      "photoUrl": "https://lh3.googleusercontent.com/a-/AOh14GhEhN-SUD4acXtkX_d8m7mxWmrngRSQYIe55adBOg=s64",
      "userId": "05836266386358934739"
     },
     "user_tz": -330
    },
    "id": "answering-climate",
    "outputId": "7b36c5d0-21b9-4ef1-ee2a-d26b779b9692"
   },
   "outputs": [],
   "source": [
    "errors_df"
   ]
  },
  {
   "cell_type": "code",
   "execution_count": null,
   "id": "57591f9d",
   "metadata": {
    "colab": {
     "base_uri": "https://localhost:8080/",
     "height": 433
    },
    "executionInfo": {
     "elapsed": 719,
     "status": "ok",
     "timestamp": 1624942030533,
     "user": {
      "displayName": "Aakash N S",
      "photoUrl": "https://lh3.googleusercontent.com/a-/AOh14GhEhN-SUD4acXtkX_d8m7mxWmrngRSQYIe55adBOg=s64",
      "userId": "05836266386358934739"
     },
     "user_tz": -330
    },
    "id": "expanded-external",
    "outputId": "3a4291ab-89e7-4bf1-9af0-bc20dbde4776"
   },
   "outputs": [],
   "source": [
    "plt.figure()\n",
    "plt.plot(errors_df['Max Depth'], errors_df['Training Error'])\n",
    "plt.plot(errors_df['Max Depth'], errors_df['Validation Error'])\n",
    "plt.title('Training vs. Validation Error')\n",
    "plt.xticks(range(0,21, 2))\n",
    "plt.xlabel('Max. Depth')\n",
    "plt.ylabel('Prediction Error (1 - Accuracy)')\n",
    "plt.legend(['Training', 'Validation'])"
   ]
  },
  {
   "cell_type": "code",
   "execution_count": null,
   "id": "316a2a11",
   "metadata": {
    "colab": {
     "base_uri": "https://localhost:8080/"
    },
    "executionInfo": {
     "elapsed": 1029,
     "status": "ok",
     "timestamp": 1624942031476,
     "user": {
      "displayName": "Aakash N S",
      "photoUrl": "https://lh3.googleusercontent.com/a-/AOh14GhEhN-SUD4acXtkX_d8m7mxWmrngRSQYIe55adBOg=s64",
      "userId": "05836266386358934739"
     },
     "user_tz": -330
    },
    "id": "biblical-tourist",
    "outputId": "a77b58c4-f6fe-4802-fec5-abffb77e154a"
   },
   "outputs": [],
   "source": [
    "model = DecisionTreeClassifier(max_depth=7, random_state=42).fit(X_train, train_targets)\n",
    "model.score(X_val, val_targets)"
   ]
  },
  {
   "cell_type": "code",
   "execution_count": null,
   "id": "d5385b8f",
   "metadata": {
    "executionInfo": {
     "elapsed": 7,
     "status": "ok",
     "timestamp": 1624942031477,
     "user": {
      "displayName": "Aakash N S",
      "photoUrl": "https://lh3.googleusercontent.com/a-/AOh14GhEhN-SUD4acXtkX_d8m7mxWmrngRSQYIe55adBOg=s64",
      "userId": "05836266386358934739"
     },
     "user_tz": -330
    },
    "id": "patent-durham"
   },
   "outputs": [],
   "source": [
    "model = DecisionTreeClassifier(max_leaf_nodes=128, random_state=42)"
   ]
  },
  {
   "cell_type": "code",
   "execution_count": null,
   "id": "e1060c7f",
   "metadata": {
    "colab": {
     "base_uri": "https://localhost:8080/"
    },
    "executionInfo": {
     "elapsed": 1744,
     "status": "ok",
     "timestamp": 1624942034963,
     "user": {
      "displayName": "Aakash N S",
      "photoUrl": "https://lh3.googleusercontent.com/a-/AOh14GhEhN-SUD4acXtkX_d8m7mxWmrngRSQYIe55adBOg=s64",
      "userId": "05836266386358934739"
     },
     "user_tz": -330
    },
    "id": "gorgeous-clothing",
    "outputId": "8511fdef-c694-4bff-81cc-0c0f7327fa47"
   },
   "outputs": [],
   "source": [
    "model.fit(X_train, train_targets)"
   ]
  },
  {
   "cell_type": "code",
   "execution_count": null,
   "id": "f387ee90",
   "metadata": {
    "colab": {
     "base_uri": "https://localhost:8080/"
    },
    "executionInfo": {
     "elapsed": 6,
     "status": "ok",
     "timestamp": 1624942036727,
     "user": {
      "displayName": "Aakash N S",
      "photoUrl": "https://lh3.googleusercontent.com/a-/AOh14GhEhN-SUD4acXtkX_d8m7mxWmrngRSQYIe55adBOg=s64",
      "userId": "05836266386358934739"
     },
     "user_tz": -330
    },
    "id": "clinical-hands",
    "outputId": "07b5c10e-d6da-4352-9d67-ddb6cdf53bc3"
   },
   "outputs": [],
   "source": [
    "model.score(X_train, train_targets)"
   ]
  },
  {
   "cell_type": "code",
   "execution_count": null,
   "id": "96459b5b",
   "metadata": {
    "colab": {
     "base_uri": "https://localhost:8080/"
    },
    "executionInfo": {
     "elapsed": 4,
     "status": "ok",
     "timestamp": 1624942037152,
     "user": {
      "displayName": "Aakash N S",
      "photoUrl": "https://lh3.googleusercontent.com/a-/AOh14GhEhN-SUD4acXtkX_d8m7mxWmrngRSQYIe55adBOg=s64",
      "userId": "05836266386358934739"
     },
     "user_tz": -330
    },
    "id": "digital-belgium",
    "outputId": "0a160610-413c-4f4a-9e27-57c9c5b11dc2"
   },
   "outputs": [],
   "source": [
    "model.score(X_val, val_targets)"
   ]
  },
  {
   "cell_type": "code",
   "execution_count": null,
   "id": "4277361f",
   "metadata": {
    "colab": {
     "base_uri": "https://localhost:8080/"
    },
    "executionInfo": {
     "elapsed": 4,
     "status": "ok",
     "timestamp": 1624942037549,
     "user": {
      "displayName": "Aakash N S",
      "photoUrl": "https://lh3.googleusercontent.com/a-/AOh14GhEhN-SUD4acXtkX_d8m7mxWmrngRSQYIe55adBOg=s64",
      "userId": "05836266386358934739"
     },
     "user_tz": -330
    },
    "id": "corporate-glenn",
    "outputId": "9a1cc7be-9ea4-4c9a-db2f-1d6e46fefba3"
   },
   "outputs": [],
   "source": [
    "model.tree_.max_depth"
   ]
  },
  {
   "cell_type": "code",
   "execution_count": null,
   "id": "b08937de",
   "metadata": {
    "colab": {
     "base_uri": "https://localhost:8080/"
    },
    "executionInfo": {
     "elapsed": 7,
     "status": "ok",
     "timestamp": 1624942038942,
     "user": {
      "displayName": "Aakash N S",
      "photoUrl": "https://lh3.googleusercontent.com/a-/AOh14GhEhN-SUD4acXtkX_d8m7mxWmrngRSQYIe55adBOg=s64",
      "userId": "05836266386358934739"
     },
     "user_tz": -330
    },
    "id": "grand-interface",
    "outputId": "dde49e3c-4560-4ae0-b075-9286f3ec4f54"
   },
   "outputs": [],
   "source": [
    "model_text = export_text(model, feature_names=list(X_train.columns))\n",
    "print(model_text[:3000])"
   ]
  },
  {
   "cell_type": "code",
   "execution_count": null,
   "id": "54021320",
   "metadata": {
    "executionInfo": {
     "elapsed": 4,
     "status": "ok",
     "timestamp": 1624942042259,
     "user": {
      "displayName": "Aakash N S",
      "photoUrl": "https://lh3.googleusercontent.com/a-/AOh14GhEhN-SUD4acXtkX_d8m7mxWmrngRSQYIe55adBOg=s64",
      "userId": "05836266386358934739"
     },
     "user_tz": -330
    },
    "id": "cardiac-nashville"
   },
   "outputs": [],
   "source": []
  },
  {
   "cell_type": "code",
   "execution_count": null,
   "id": "6d32335f",
   "metadata": {
    "executionInfo": {
     "elapsed": 4,
     "status": "ok",
     "timestamp": 1624942043502,
     "user": {
      "displayName": "Aakash N S",
      "photoUrl": "https://lh3.googleusercontent.com/a-/AOh14GhEhN-SUD4acXtkX_d8m7mxWmrngRSQYIe55adBOg=s64",
      "userId": "05836266386358934739"
     },
     "user_tz": -330
    },
    "id": "understood-crown"
   },
   "outputs": [],
   "source": []
  },
  {
   "cell_type": "code",
   "execution_count": null,
   "id": "4c6ac641",
   "metadata": {
    "executionInfo": {
     "elapsed": 3,
     "status": "ok",
     "timestamp": 1624942043976,
     "user": {
      "displayName": "Aakash N S",
      "photoUrl": "https://lh3.googleusercontent.com/a-/AOh14GhEhN-SUD4acXtkX_d8m7mxWmrngRSQYIe55adBOg=s64",
      "userId": "05836266386358934739"
     },
     "user_tz": -330
    },
    "id": "vertical-bacteria"
   },
   "outputs": [],
   "source": []
  },
  {
   "cell_type": "code",
   "execution_count": null,
   "id": "ac66ab4b",
   "metadata": {
    "executionInfo": {
     "elapsed": 322,
     "status": "ok",
     "timestamp": 1624942051207,
     "user": {
      "displayName": "Aakash N S",
      "photoUrl": "https://lh3.googleusercontent.com/a-/AOh14GhEhN-SUD4acXtkX_d8m7mxWmrngRSQYIe55adBOg=s64",
      "userId": "05836266386358934739"
     },
     "user_tz": -330
    },
    "id": "employed-arrest"
   },
   "outputs": [],
   "source": [
    "from sklearn.ensemble import RandomForestClassifier"
   ]
  },
  {
   "cell_type": "code",
   "execution_count": null,
   "id": "2fcbf8f2",
   "metadata": {
    "executionInfo": {
     "elapsed": 3,
     "status": "ok",
     "timestamp": 1624942051612,
     "user": {
      "displayName": "Aakash N S",
      "photoUrl": "https://lh3.googleusercontent.com/a-/AOh14GhEhN-SUD4acXtkX_d8m7mxWmrngRSQYIe55adBOg=s64",
      "userId": "05836266386358934739"
     },
     "user_tz": -330
    },
    "id": "sufficient-stick"
   },
   "outputs": [],
   "source": [
    "model = RandomForestClassifier(n_jobs=-1, random_state=42)"
   ]
  },
  {
   "cell_type": "code",
   "execution_count": null,
   "id": "024946dd",
   "metadata": {
    "colab": {
     "base_uri": "https://localhost:8080/"
    },
    "executionInfo": {
     "elapsed": 20048,
     "status": "ok",
     "timestamp": 1624942073389,
     "user": {
      "displayName": "Aakash N S",
      "photoUrl": "https://lh3.googleusercontent.com/a-/AOh14GhEhN-SUD4acXtkX_d8m7mxWmrngRSQYIe55adBOg=s64",
      "userId": "05836266386358934739"
     },
     "user_tz": -330
    },
    "id": "alpha-stable",
    "outputId": "59a59387-5340-476f-9749-3556597d6a7d"
   },
   "outputs": [],
   "source": [
    "%%time\n",
    "model.fit(X_train, train_targets)"
   ]
  },
  {
   "cell_type": "code",
   "execution_count": null,
   "id": "91aaf991",
   "metadata": {
    "colab": {
     "base_uri": "https://localhost:8080/"
    },
    "executionInfo": {
     "elapsed": 2006,
     "status": "ok",
     "timestamp": 1624942075388,
     "user": {
      "displayName": "Aakash N S",
      "photoUrl": "https://lh3.googleusercontent.com/a-/AOh14GhEhN-SUD4acXtkX_d8m7mxWmrngRSQYIe55adBOg=s64",
      "userId": "05836266386358934739"
     },
     "user_tz": -330
    },
    "id": "advanced-evidence",
    "outputId": "88904946-347d-4f9b-8215-cc59846c89b7"
   },
   "outputs": [],
   "source": [
    "model.score(X_train, train_targets)"
   ]
  },
  {
   "cell_type": "code",
   "execution_count": null,
   "id": "bbd97c4b",
   "metadata": {
    "colab": {
     "base_uri": "https://localhost:8080/"
    },
    "executionInfo": {
     "elapsed": 347,
     "status": "ok",
     "timestamp": 1624942075730,
     "user": {
      "displayName": "Aakash N S",
      "photoUrl": "https://lh3.googleusercontent.com/a-/AOh14GhEhN-SUD4acXtkX_d8m7mxWmrngRSQYIe55adBOg=s64",
      "userId": "05836266386358934739"
     },
     "user_tz": -330
    },
    "id": "optimum-flash",
    "outputId": "daa7f82d-1f9f-43c1-fecd-2a78c5364fcc"
   },
   "outputs": [],
   "source": [
    "model.score(X_val, val_targets)"
   ]
  },
  {
   "cell_type": "code",
   "execution_count": null,
   "id": "26f0bf9f",
   "metadata": {
    "colab": {
     "base_uri": "https://localhost:8080/"
    },
    "executionInfo": {
     "elapsed": 2595,
     "status": "ok",
     "timestamp": 1624942078322,
     "user": {
      "displayName": "Aakash N S",
      "photoUrl": "https://lh3.googleusercontent.com/a-/AOh14GhEhN-SUD4acXtkX_d8m7mxWmrngRSQYIe55adBOg=s64",
      "userId": "05836266386358934739"
     },
     "user_tz": -330
    },
    "id": "major-aquatic",
    "outputId": "4645b7cc-dc1d-486c-f5f3-85378d0e3750"
   },
   "outputs": [],
   "source": [
    "train_probs = model.predict_proba(X_train)\n",
    "train_probs"
   ]
  },
  {
   "cell_type": "code",
   "execution_count": null,
   "id": "70d209b6",
   "metadata": {
    "colab": {
     "base_uri": "https://localhost:8080/"
    },
    "executionInfo": {
     "elapsed": 7,
     "status": "ok",
     "timestamp": 1624942078322,
     "user": {
      "displayName": "Aakash N S",
      "photoUrl": "https://lh3.googleusercontent.com/a-/AOh14GhEhN-SUD4acXtkX_d8m7mxWmrngRSQYIe55adBOg=s64",
      "userId": "05836266386358934739"
     },
     "user_tz": -330
    },
    "id": "harmful-pizza",
    "outputId": "19536f2d-c6fe-4187-eaae-f217edd14965"
   },
   "outputs": [],
   "source": [
    "model.estimators_[0]"
   ]
  },
  {
   "cell_type": "code",
   "execution_count": null,
   "id": "62915729",
   "metadata": {
    "colab": {
     "base_uri": "https://localhost:8080/",
     "height": 427
    },
    "executionInfo": {
     "elapsed": 2758,
     "status": "ok",
     "timestamp": 1624942081075,
     "user": {
      "displayName": "Aakash N S",
      "photoUrl": "https://lh3.googleusercontent.com/a-/AOh14GhEhN-SUD4acXtkX_d8m7mxWmrngRSQYIe55adBOg=s64",
      "userId": "05836266386358934739"
     },
     "user_tz": -330
    },
    "id": "naked-receipt",
    "outputId": "4e49c1e2-4bb5-4125-dbe8-5accffc15e86"
   },
   "outputs": [],
   "source": [
    "plt.figure(figsize=(80,20))\n",
    "plot_tree(model.estimators_[0], max_depth=2, feature_names=X_train.columns, filled=True, rounded=True, class_names=model.classes_);"
   ]
  },
  {
   "cell_type": "code",
   "execution_count": null,
   "id": "9f4822cd",
   "metadata": {
    "colab": {
     "base_uri": "https://localhost:8080/",
     "height": 427
    },
    "executionInfo": {
     "elapsed": 1674,
     "status": "ok",
     "timestamp": 1624942082662,
     "user": {
      "displayName": "Aakash N S",
      "photoUrl": "https://lh3.googleusercontent.com/a-/AOh14GhEhN-SUD4acXtkX_d8m7mxWmrngRSQYIe55adBOg=s64",
      "userId": "05836266386358934739"
     },
     "user_tz": -330
    },
    "id": "secret-mason",
    "outputId": "82851693-153e-4e41-8001-2446a54ee53c"
   },
   "outputs": [],
   "source": [
    "plt.figure(figsize=(80,20))\n",
    "plot_tree(model.estimators_[20], max_depth=2, feature_names=X_train.columns, filled=True, rounded=True, class_names=model.classes_);"
   ]
  },
  {
   "cell_type": "code",
   "execution_count": null,
   "id": "431837a8",
   "metadata": {
    "colab": {
     "base_uri": "https://localhost:8080/"
    },
    "executionInfo": {
     "elapsed": 120,
     "status": "ok",
     "timestamp": 1624942082662,
     "user": {
      "displayName": "Aakash N S",
      "photoUrl": "https://lh3.googleusercontent.com/a-/AOh14GhEhN-SUD4acXtkX_d8m7mxWmrngRSQYIe55adBOg=s64",
      "userId": "05836266386358934739"
     },
     "user_tz": -330
    },
    "id": "valid-palestine",
    "outputId": "b2d9e4fd-2b4f-4a9d-abb0-f5b7eeafac44"
   },
   "outputs": [],
   "source": [
    "len(model.estimators_)"
   ]
  },
  {
   "cell_type": "code",
   "execution_count": null,
   "id": "2bdce639",
   "metadata": {
    "executionInfo": {
     "elapsed": 99,
     "status": "ok",
     "timestamp": 1624942082663,
     "user": {
      "displayName": "Aakash N S",
      "photoUrl": "https://lh3.googleusercontent.com/a-/AOh14GhEhN-SUD4acXtkX_d8m7mxWmrngRSQYIe55adBOg=s64",
      "userId": "05836266386358934739"
     },
     "user_tz": -330
    },
    "id": "imposed-correlation"
   },
   "outputs": [],
   "source": []
  },
  {
   "cell_type": "code",
   "execution_count": null,
   "id": "a1524c74",
   "metadata": {
    "executionInfo": {
     "elapsed": 98,
     "status": "ok",
     "timestamp": 1624942082663,
     "user": {
      "displayName": "Aakash N S",
      "photoUrl": "https://lh3.googleusercontent.com/a-/AOh14GhEhN-SUD4acXtkX_d8m7mxWmrngRSQYIe55adBOg=s64",
      "userId": "05836266386358934739"
     },
     "user_tz": -330
    },
    "id": "satisfactory-scope"
   },
   "outputs": [],
   "source": []
  },
  {
   "cell_type": "code",
   "execution_count": null,
   "id": "08559c6b",
   "metadata": {
    "executionInfo": {
     "elapsed": 667,
     "status": "ok",
     "timestamp": 1624942083232,
     "user": {
      "displayName": "Aakash N S",
      "photoUrl": "https://lh3.googleusercontent.com/a-/AOh14GhEhN-SUD4acXtkX_d8m7mxWmrngRSQYIe55adBOg=s64",
      "userId": "05836266386358934739"
     },
     "user_tz": -330
    },
    "id": "urban-neutral"
   },
   "outputs": [],
   "source": [
    "importance_df = pd.DataFrame({\n",
    "    'feature': X_train.columns,\n",
    "    'importance': model.feature_importances_\n",
    "}).sort_values('importance', ascending=False)"
   ]
  },
  {
   "cell_type": "code",
   "execution_count": null,
   "id": "b9da9473",
   "metadata": {
    "colab": {
     "base_uri": "https://localhost:8080/",
     "height": 359
    },
    "executionInfo": {
     "elapsed": 200,
     "status": "ok",
     "timestamp": 1624942083233,
     "user": {
      "displayName": "Aakash N S",
      "photoUrl": "https://lh3.googleusercontent.com/a-/AOh14GhEhN-SUD4acXtkX_d8m7mxWmrngRSQYIe55adBOg=s64",
      "userId": "05836266386358934739"
     },
     "user_tz": -330
    },
    "id": "outer-position",
    "outputId": "49931dac-ad9b-4225-920c-bcbe0eeb1c34"
   },
   "outputs": [],
   "source": [
    "importance_df.head(10)"
   ]
  },
  {
   "cell_type": "code",
   "execution_count": null,
   "id": "cc2a3aa7",
   "metadata": {
    "colab": {
     "base_uri": "https://localhost:8080/",
     "height": 416
    },
    "executionInfo": {
     "elapsed": 200,
     "status": "ok",
     "timestamp": 1624942083234,
     "user": {
      "displayName": "Aakash N S",
      "photoUrl": "https://lh3.googleusercontent.com/a-/AOh14GhEhN-SUD4acXtkX_d8m7mxWmrngRSQYIe55adBOg=s64",
      "userId": "05836266386358934739"
     },
     "user_tz": -330
    },
    "id": "perfect-alias",
    "outputId": "3c0fd625-cbbe-4bbd-b07a-a5740d4e54f0"
   },
   "outputs": [],
   "source": [
    "plt.title('Feature Importance')\n",
    "sns.barplot(data=importance_df.head(10), x='importance', y='feature');"
   ]
  },
  {
   "cell_type": "markdown",
   "id": "9c586aab",
   "metadata": {
    "id": "residential-ireland"
   },
   "source": [
    "## Hyperparameter Tuning with Random Forests\n",
    "\n"
   ]
  },
  {
   "cell_type": "code",
   "execution_count": null,
   "id": "24e5f9b8",
   "metadata": {
    "executionInfo": {
     "elapsed": 548,
     "status": "ok",
     "timestamp": 1624942088700,
     "user": {
      "displayName": "Aakash N S",
      "photoUrl": "https://lh3.googleusercontent.com/a-/AOh14GhEhN-SUD4acXtkX_d8m7mxWmrngRSQYIe55adBOg=s64",
      "userId": "05836266386358934739"
     },
     "user_tz": -330
    },
    "id": "dominican-evans"
   },
   "outputs": [],
   "source": [
    "?RandomForestClassifier"
   ]
  },
  {
   "cell_type": "code",
   "execution_count": null,
   "id": "134792f7",
   "metadata": {
    "executionInfo": {
     "elapsed": 19304,
     "status": "ok",
     "timestamp": 1624942108414,
     "user": {
      "displayName": "Aakash N S",
      "photoUrl": "https://lh3.googleusercontent.com/a-/AOh14GhEhN-SUD4acXtkX_d8m7mxWmrngRSQYIe55adBOg=s64",
      "userId": "05836266386358934739"
     },
     "user_tz": -330
    },
    "id": "nasty-officer"
   },
   "outputs": [],
   "source": [
    "base_model = RandomForestClassifier(random_state=42, n_jobs=-1).fit(X_train, train_targets)"
   ]
  },
  {
   "cell_type": "code",
   "execution_count": null,
   "id": "d2387831",
   "metadata": {
    "executionInfo": {
     "elapsed": 3051,
     "status": "ok",
     "timestamp": 1624942111459,
     "user": {
      "displayName": "Aakash N S",
      "photoUrl": "https://lh3.googleusercontent.com/a-/AOh14GhEhN-SUD4acXtkX_d8m7mxWmrngRSQYIe55adBOg=s64",
      "userId": "05836266386358934739"
     },
     "user_tz": -330
    },
    "id": "bound-sheep"
   },
   "outputs": [],
   "source": [
    "base_train_acc = base_model.score(X_train, train_targets)\n",
    "base_val_acc = base_model.score(X_val, val_targets)"
   ]
  },
  {
   "cell_type": "code",
   "execution_count": null,
   "id": "647b8cf7",
   "metadata": {
    "colab": {
     "base_uri": "https://localhost:8080/"
    },
    "executionInfo": {
     "elapsed": 9,
     "status": "ok",
     "timestamp": 1624942111461,
     "user": {
      "displayName": "Aakash N S",
      "photoUrl": "https://lh3.googleusercontent.com/a-/AOh14GhEhN-SUD4acXtkX_d8m7mxWmrngRSQYIe55adBOg=s64",
      "userId": "05836266386358934739"
     },
     "user_tz": -330
    },
    "id": "hidden-squad",
    "outputId": "e0ca5304-56b5-4961-c58c-cd481e1b33bc"
   },
   "outputs": [],
   "source": [
    "base_accs = base_train_acc, base_val_acc\n",
    "base_accs"
   ]
  },
  {
   "cell_type": "code",
   "execution_count": null,
   "id": "779ab82b",
   "metadata": {
    "executionInfo": {
     "elapsed": 345,
     "status": "ok",
     "timestamp": 1624942113721,
     "user": {
      "displayName": "Aakash N S",
      "photoUrl": "https://lh3.googleusercontent.com/a-/AOh14GhEhN-SUD4acXtkX_d8m7mxWmrngRSQYIe55adBOg=s64",
      "userId": "05836266386358934739"
     },
     "user_tz": -330
    },
    "id": "complicated-roller"
   },
   "outputs": [],
   "source": [
    "model = RandomForestClassifier(random_state=42, n_jobs=-1, n_estimators=10)"
   ]
  },
  {
   "cell_type": "code",
   "execution_count": null,
   "id": "aac9b605",
   "metadata": {
    "colab": {
     "base_uri": "https://localhost:8080/"
    },
    "executionInfo": {
     "elapsed": 2680,
     "status": "ok",
     "timestamp": 1624942116730,
     "user": {
      "displayName": "Aakash N S",
      "photoUrl": "https://lh3.googleusercontent.com/a-/AOh14GhEhN-SUD4acXtkX_d8m7mxWmrngRSQYIe55adBOg=s64",
      "userId": "05836266386358934739"
     },
     "user_tz": -330
    },
    "id": "spanish-familiar",
    "outputId": "e9b5b300-7c11-4244-981d-98b43878cee9",
    "scrolled": true
   },
   "outputs": [],
   "source": [
    "model.fit(X_train, train_targets)"
   ]
  },
  {
   "cell_type": "code",
   "execution_count": null,
   "id": "eb2f66b5",
   "metadata": {
    "colab": {
     "base_uri": "https://localhost:8080/"
    },
    "executionInfo": {
     "elapsed": 517,
     "status": "ok",
     "timestamp": 1624942117243,
     "user": {
      "displayName": "Aakash N S",
      "photoUrl": "https://lh3.googleusercontent.com/a-/AOh14GhEhN-SUD4acXtkX_d8m7mxWmrngRSQYIe55adBOg=s64",
      "userId": "05836266386358934739"
     },
     "user_tz": -330
    },
    "id": "illegal-turkish",
    "outputId": "4dbc68f5-b823-4dd3-c3a3-484d9838ba1a"
   },
   "outputs": [],
   "source": [
    "model.score(X_train, train_targets), model.score(X_val, val_targets)"
   ]
  },
  {
   "cell_type": "code",
   "execution_count": null,
   "id": "feb5f251",
   "metadata": {
    "colab": {
     "base_uri": "https://localhost:8080/"
    },
    "executionInfo": {
     "elapsed": 30,
     "status": "ok",
     "timestamp": 1624942117244,
     "user": {
      "displayName": "Aakash N S",
      "photoUrl": "https://lh3.googleusercontent.com/a-/AOh14GhEhN-SUD4acXtkX_d8m7mxWmrngRSQYIe55adBOg=s64",
      "userId": "05836266386358934739"
     },
     "user_tz": -330
    },
    "id": "catholic-alabama",
    "outputId": "91e63dbd-3630-439c-c832-d0166cd80f26"
   },
   "outputs": [],
   "source": [
    "base_accs"
   ]
  },
  {
   "cell_type": "code",
   "execution_count": null,
   "id": "ace9392c",
   "metadata": {
    "colab": {
     "base_uri": "https://localhost:8080/"
    },
    "executionInfo": {
     "elapsed": 95866,
     "status": "ok",
     "timestamp": 1624942213105,
     "user": {
      "displayName": "Aakash N S",
      "photoUrl": "https://lh3.googleusercontent.com/a-/AOh14GhEhN-SUD4acXtkX_d8m7mxWmrngRSQYIe55adBOg=s64",
      "userId": "05836266386358934739"
     },
     "user_tz": -330
    },
    "id": "narrative-prayer",
    "outputId": "aa58a25b-2c67-47bb-9c54-3bca98cf9057"
   },
   "outputs": [],
   "source": [
    "model = RandomForestClassifier(random_state=42, n_jobs=-1, n_estimators=500)\n",
    "model.fit(X_train, train_targets)"
   ]
  },
  {
   "cell_type": "code",
   "execution_count": null,
   "id": "4ba41382",
   "metadata": {
    "colab": {
     "base_uri": "https://localhost:8080/"
    },
    "executionInfo": {
     "elapsed": 11242,
     "status": "ok",
     "timestamp": 1624942224340,
     "user": {
      "displayName": "Aakash N S",
      "photoUrl": "https://lh3.googleusercontent.com/a-/AOh14GhEhN-SUD4acXtkX_d8m7mxWmrngRSQYIe55adBOg=s64",
      "userId": "05836266386358934739"
     },
     "user_tz": -330
    },
    "id": "legislative-export",
    "outputId": "64116f1a-c8a7-4a2d-ba7f-b36e83f49054"
   },
   "outputs": [],
   "source": [
    "model.score(X_train, train_targets)"
   ]
  },
  {
   "cell_type": "code",
   "execution_count": null,
   "id": "805ac55f",
   "metadata": {
    "colab": {
     "base_uri": "https://localhost:8080/"
    },
    "executionInfo": {
     "elapsed": 2268,
     "status": "ok",
     "timestamp": 1624942226603,
     "user": {
      "displayName": "Aakash N S",
      "photoUrl": "https://lh3.googleusercontent.com/a-/AOh14GhEhN-SUD4acXtkX_d8m7mxWmrngRSQYIe55adBOg=s64",
      "userId": "05836266386358934739"
     },
     "user_tz": -330
    },
    "id": "impressive-guide",
    "outputId": "51748cda-50d3-438e-83ca-2409f2bac86e"
   },
   "outputs": [],
   "source": [
    "model.score(X_val, val_targets)"
   ]
  },
  {
   "cell_type": "code",
   "execution_count": null,
   "id": "da3c5d3e",
   "metadata": {
    "colab": {
     "base_uri": "https://localhost:8080/"
    },
    "executionInfo": {
     "elapsed": 9,
     "status": "ok",
     "timestamp": 1624942226604,
     "user": {
      "displayName": "Aakash N S",
      "photoUrl": "https://lh3.googleusercontent.com/a-/AOh14GhEhN-SUD4acXtkX_d8m7mxWmrngRSQYIe55adBOg=s64",
      "userId": "05836266386358934739"
     },
     "user_tz": -330
    },
    "id": "tribal-storm",
    "outputId": "8fa4e10c-a951-4341-fa89-04a1840c6ae3"
   },
   "outputs": [],
   "source": [
    "base_accs"
   ]
  },
  {
   "cell_type": "code",
   "execution_count": null,
   "id": "eeb97f95",
   "metadata": {
    "executionInfo": {
     "elapsed": 8,
     "status": "ok",
     "timestamp": 1624942226604,
     "user": {
      "displayName": "Aakash N S",
      "photoUrl": "https://lh3.googleusercontent.com/a-/AOh14GhEhN-SUD4acXtkX_d8m7mxWmrngRSQYIe55adBOg=s64",
      "userId": "05836266386358934739"
     },
     "user_tz": -330
    },
    "id": "injured-strengthening"
   },
   "outputs": [],
   "source": []
  },
  {
   "cell_type": "code",
   "execution_count": null,
   "id": "356ac69a",
   "metadata": {
    "executionInfo": {
     "elapsed": 8,
     "status": "ok",
     "timestamp": 1624942226605,
     "user": {
      "displayName": "Aakash N S",
      "photoUrl": "https://lh3.googleusercontent.com/a-/AOh14GhEhN-SUD4acXtkX_d8m7mxWmrngRSQYIe55adBOg=s64",
      "userId": "05836266386358934739"
     },
     "user_tz": -330
    },
    "id": "forbidden-society"
   },
   "outputs": [],
   "source": [
    "def test_params(**params):\n",
    "    model = RandomForestClassifier(random_state=42, n_jobs=-1, **params).fit(X_train, train_targets)\n",
    "    return model.score(X_train, train_targets), model.score(X_val, val_targets)"
   ]
  },
  {
   "cell_type": "code",
   "execution_count": null,
   "id": "6433a565",
   "metadata": {
    "colab": {
     "base_uri": "https://localhost:8080/"
    },
    "executionInfo": {
     "elapsed": 5817,
     "status": "ok",
     "timestamp": 1624942232414,
     "user": {
      "displayName": "Aakash N S",
      "photoUrl": "https://lh3.googleusercontent.com/a-/AOh14GhEhN-SUD4acXtkX_d8m7mxWmrngRSQYIe55adBOg=s64",
      "userId": "05836266386358934739"
     },
     "user_tz": -330
    },
    "id": "handled-sentence",
    "outputId": "7367d722-10e7-4979-ea9b-403321dad2ce"
   },
   "outputs": [],
   "source": [
    "test_params(max_depth=5)"
   ]
  },
  {
   "cell_type": "code",
   "execution_count": null,
   "id": "e5781bd5",
   "metadata": {
    "colab": {
     "base_uri": "https://localhost:8080/"
    },
    "executionInfo": {
     "elapsed": 20909,
     "status": "ok",
     "timestamp": 1624942253318,
     "user": {
      "displayName": "Aakash N S",
      "photoUrl": "https://lh3.googleusercontent.com/a-/AOh14GhEhN-SUD4acXtkX_d8m7mxWmrngRSQYIe55adBOg=s64",
      "userId": "05836266386358934739"
     },
     "user_tz": -330
    },
    "id": "addressed-virtue",
    "outputId": "8c365442-3062-4a14-a060-b1b399f34246"
   },
   "outputs": [],
   "source": [
    "test_params(max_depth=26)"
   ]
  },
  {
   "cell_type": "code",
   "execution_count": null,
   "id": "5fa0bbce",
   "metadata": {
    "colab": {
     "base_uri": "https://localhost:8080/"
    },
    "executionInfo": {
     "elapsed": 7164,
     "status": "ok",
     "timestamp": 1624942260477,
     "user": {
      "displayName": "Aakash N S",
      "photoUrl": "https://lh3.googleusercontent.com/a-/AOh14GhEhN-SUD4acXtkX_d8m7mxWmrngRSQYIe55adBOg=s64",
      "userId": "05836266386358934739"
     },
     "user_tz": -330
    },
    "id": "geological-portsmouth",
    "outputId": "b16981c9-e39d-4de9-a6a2-1c1d38d66f3d"
   },
   "outputs": [],
   "source": [
    "test_params(max_leaf_nodes=2**5)"
   ]
  },
  {
   "cell_type": "code",
   "execution_count": null,
   "id": "cf940602",
   "metadata": {
    "colab": {
     "base_uri": "https://localhost:8080/"
    },
    "executionInfo": {
     "elapsed": 25735,
     "status": "ok",
     "timestamp": 1624942286207,
     "user": {
      "displayName": "Aakash N S",
      "photoUrl": "https://lh3.googleusercontent.com/a-/AOh14GhEhN-SUD4acXtkX_d8m7mxWmrngRSQYIe55adBOg=s64",
      "userId": "05836266386358934739"
     },
     "user_tz": -330
    },
    "id": "functioning-virtue",
    "outputId": "f117bc65-a25c-44f8-ed91-18ec795a1a08"
   },
   "outputs": [],
   "source": [
    "test_params(max_leaf_nodes=2**20)"
   ]
  },
  {
   "cell_type": "code",
   "execution_count": null,
   "id": "27258201",
   "metadata": {
    "colab": {
     "base_uri": "https://localhost:8080/"
    },
    "executionInfo": {
     "elapsed": 8,
     "status": "ok",
     "timestamp": 1624942286207,
     "user": {
      "displayName": "Aakash N S",
      "photoUrl": "https://lh3.googleusercontent.com/a-/AOh14GhEhN-SUD4acXtkX_d8m7mxWmrngRSQYIe55adBOg=s64",
      "userId": "05836266386358934739"
     },
     "user_tz": -330
    },
    "id": "renewable-berkeley",
    "outputId": "96ee7cb2-8670-4248-c23c-b896c77ec9ac"
   },
   "outputs": [],
   "source": [
    "base_accs # no max depth or max leaf nodes"
   ]
  },
  {
   "cell_type": "code",
   "execution_count": null,
   "id": "0a3270d0",
   "metadata": {
    "id": "rental-substance"
   },
   "outputs": [],
   "source": []
  },
  {
   "cell_type": "code",
   "execution_count": null,
   "id": "d81fcf27",
   "metadata": {
    "colab": {
     "base_uri": "https://localhost:8080/"
    },
    "executionInfo": {
     "elapsed": 17810,
     "status": "ok",
     "timestamp": 1624942304011,
     "user": {
      "displayName": "Aakash N S",
      "photoUrl": "https://lh3.googleusercontent.com/a-/AOh14GhEhN-SUD4acXtkX_d8m7mxWmrngRSQYIe55adBOg=s64",
      "userId": "05836266386358934739"
     },
     "user_tz": -330
    },
    "id": "victorian-assurance",
    "outputId": "4f5915ee-c547-42b5-f219-4485d990ccf6"
   },
   "outputs": [],
   "source": [
    "test_params(max_features='log2')"
   ]
  },
  {
   "cell_type": "code",
   "execution_count": null,
   "id": "77494774",
   "metadata": {
    "colab": {
     "base_uri": "https://localhost:8080/"
    },
    "executionInfo": {
     "elapsed": 15046,
     "status": "ok",
     "timestamp": 1624942319051,
     "user": {
      "displayName": "Aakash N S",
      "photoUrl": "https://lh3.googleusercontent.com/a-/AOh14GhEhN-SUD4acXtkX_d8m7mxWmrngRSQYIe55adBOg=s64",
      "userId": "05836266386358934739"
     },
     "user_tz": -330
    },
    "id": "invisible-complement",
    "outputId": "64d7fad6-ddde-4226-84e0-30737145c22f"
   },
   "outputs": [],
   "source": [
    "test_params(max_features=3)"
   ]
  },
  {
   "cell_type": "code",
   "execution_count": null,
   "id": "1c2ece28",
   "metadata": {
    "colab": {
     "base_uri": "https://localhost:8080/"
    },
    "executionInfo": {
     "elapsed": 18177,
     "status": "ok",
     "timestamp": 1624942337223,
     "user": {
      "displayName": "Aakash N S",
      "photoUrl": "https://lh3.googleusercontent.com/a-/AOh14GhEhN-SUD4acXtkX_d8m7mxWmrngRSQYIe55adBOg=s64",
      "userId": "05836266386358934739"
     },
     "user_tz": -330
    },
    "id": "sonic-davis",
    "outputId": "869bb3d7-bf0b-4fae-ea5b-bcfc1fb4f6dc"
   },
   "outputs": [],
   "source": [
    "test_params(max_features=6)"
   ]
  },
  {
   "cell_type": "code",
   "execution_count": null,
   "id": "4861d3a1",
   "metadata": {
    "colab": {
     "base_uri": "https://localhost:8080/"
    },
    "executionInfo": {
     "elapsed": 9,
     "status": "ok",
     "timestamp": 1624942337223,
     "user": {
      "displayName": "Aakash N S",
      "photoUrl": "https://lh3.googleusercontent.com/a-/AOh14GhEhN-SUD4acXtkX_d8m7mxWmrngRSQYIe55adBOg=s64",
      "userId": "05836266386358934739"
     },
     "user_tz": -330
    },
    "id": "typical-delivery",
    "outputId": "cbf44aba-6f3d-45bd-94b6-6ee0e7577b9b"
   },
   "outputs": [],
   "source": [
    "base_accs"
   ]
  },
  {
   "cell_type": "code",
   "execution_count": null,
   "id": "bf48148c",
   "metadata": {
    "id": "billion-publication"
   },
   "outputs": [],
   "source": []
  },
  {
   "cell_type": "code",
   "execution_count": null,
   "id": "5b096da4",
   "metadata": {
    "colab": {
     "base_uri": "https://localhost:8080/"
    },
    "executionInfo": {
     "elapsed": 21811,
     "status": "ok",
     "timestamp": 1624942363015,
     "user": {
      "displayName": "Aakash N S",
      "photoUrl": "https://lh3.googleusercontent.com/a-/AOh14GhEhN-SUD4acXtkX_d8m7mxWmrngRSQYIe55adBOg=s64",
      "userId": "05836266386358934739"
     },
     "user_tz": -330
    },
    "id": "latter-teddy",
    "outputId": "6476feb8-3ba5-4ae4-ce0c-b4098f2da4af"
   },
   "outputs": [],
   "source": [
    "test_params(min_samples_split=3, min_samples_leaf=2)"
   ]
  },
  {
   "cell_type": "code",
   "execution_count": null,
   "id": "eb2eadb9",
   "metadata": {
    "colab": {
     "base_uri": "https://localhost:8080/"
    },
    "executionInfo": {
     "elapsed": 13912,
     "status": "ok",
     "timestamp": 1624942376920,
     "user": {
      "displayName": "Aakash N S",
      "photoUrl": "https://lh3.googleusercontent.com/a-/AOh14GhEhN-SUD4acXtkX_d8m7mxWmrngRSQYIe55adBOg=s64",
      "userId": "05836266386358934739"
     },
     "user_tz": -330
    },
    "id": "conventional-abuse",
    "outputId": "46496bf4-2f9d-4aff-fb8c-3e51843ecfbf"
   },
   "outputs": [],
   "source": [
    "test_params(min_samples_split=100, min_samples_leaf=60)"
   ]
  },
  {
   "cell_type": "code",
   "execution_count": null,
   "id": "cc5042b2",
   "metadata": {
    "colab": {
     "base_uri": "https://localhost:8080/"
    },
    "executionInfo": {
     "elapsed": 7,
     "status": "ok",
     "timestamp": 1624942376920,
     "user": {
      "displayName": "Aakash N S",
      "photoUrl": "https://lh3.googleusercontent.com/a-/AOh14GhEhN-SUD4acXtkX_d8m7mxWmrngRSQYIe55adBOg=s64",
      "userId": "05836266386358934739"
     },
     "user_tz": -330
    },
    "id": "earned-particle",
    "outputId": "b5619e3b-7ccc-4333-d7bd-afd0dd7d4f8f"
   },
   "outputs": [],
   "source": [
    "base_accs"
   ]
  },
  {
   "cell_type": "code",
   "execution_count": null,
   "id": "2dec48aa",
   "metadata": {
    "id": "least-physics"
   },
   "outputs": [],
   "source": []
  },
  {
   "cell_type": "code",
   "execution_count": null,
   "id": "1ef63207",
   "metadata": {
    "id": "prepared-evaluation"
   },
   "outputs": [],
   "source": []
  },
  {
   "cell_type": "code",
   "execution_count": null,
   "id": "62ec1ef0",
   "metadata": {
    "colab": {
     "base_uri": "https://localhost:8080/"
    },
    "executionInfo": {
     "elapsed": 22516,
     "status": "ok",
     "timestamp": 1624942399430,
     "user": {
      "displayName": "Aakash N S",
      "photoUrl": "https://lh3.googleusercontent.com/a-/AOh14GhEhN-SUD4acXtkX_d8m7mxWmrngRSQYIe55adBOg=s64",
      "userId": "05836266386358934739"
     },
     "user_tz": -330
    },
    "id": "flexible-surprise",
    "outputId": "4c6559d8-3eec-4e98-b610-a84b26687b56"
   },
   "outputs": [],
   "source": [
    "test_params(min_impurity_decrease=1e-7)"
   ]
  },
  {
   "cell_type": "code",
   "execution_count": null,
   "id": "e68474a9",
   "metadata": {
    "colab": {
     "base_uri": "https://localhost:8080/"
    },
    "executionInfo": {
     "elapsed": 3345,
     "status": "ok",
     "timestamp": 1624942402769,
     "user": {
      "displayName": "Aakash N S",
      "photoUrl": "https://lh3.googleusercontent.com/a-/AOh14GhEhN-SUD4acXtkX_d8m7mxWmrngRSQYIe55adBOg=s64",
      "userId": "05836266386358934739"
     },
     "user_tz": -330
    },
    "id": "parental-northeast",
    "outputId": "9ce2fba7-f788-404f-e0b0-8ab9d6110618"
   },
   "outputs": [],
   "source": [
    "test_params(min_impurity_decrease=1e-2)"
   ]
  },
  {
   "cell_type": "code",
   "execution_count": null,
   "id": "b8503c21",
   "metadata": {
    "colab": {
     "base_uri": "https://localhost:8080/"
    },
    "executionInfo": {
     "elapsed": 8,
     "status": "ok",
     "timestamp": 1624942402770,
     "user": {
      "displayName": "Aakash N S",
      "photoUrl": "https://lh3.googleusercontent.com/a-/AOh14GhEhN-SUD4acXtkX_d8m7mxWmrngRSQYIe55adBOg=s64",
      "userId": "05836266386358934739"
     },
     "user_tz": -330
    },
    "id": "provincial-number",
    "outputId": "b48ca33e-62de-4742-b501-9a7f4e3e91d9"
   },
   "outputs": [],
   "source": [
    "base_accs"
   ]
  },
  {
   "cell_type": "code",
   "execution_count": null,
   "id": "2626395a",
   "metadata": {
    "id": "fatal-stranger"
   },
   "outputs": [],
   "source": []
  },
  {
   "cell_type": "code",
   "execution_count": null,
   "id": "0decc21b",
   "metadata": {
    "colab": {
     "base_uri": "https://localhost:8080/"
    },
    "executionInfo": {
     "elapsed": 32365,
     "status": "ok",
     "timestamp": 1624942444439,
     "user": {
      "displayName": "Aakash N S",
      "photoUrl": "https://lh3.googleusercontent.com/a-/AOh14GhEhN-SUD4acXtkX_d8m7mxWmrngRSQYIe55adBOg=s64",
      "userId": "05836266386358934739"
     },
     "user_tz": -330
    },
    "id": "dirty-biodiversity",
    "outputId": "ef1b2faa-68a3-4895-d146-e6f0f5543e7b"
   },
   "outputs": [],
   "source": [
    "test_params(bootstrap=False)"
   ]
  },
  {
   "cell_type": "code",
   "execution_count": null,
   "id": "087cd95e",
   "metadata": {
    "colab": {
     "base_uri": "https://localhost:8080/"
    },
    "executionInfo": {
     "elapsed": 8,
     "status": "ok",
     "timestamp": 1624942444440,
     "user": {
      "displayName": "Aakash N S",
      "photoUrl": "https://lh3.googleusercontent.com/a-/AOh14GhEhN-SUD4acXtkX_d8m7mxWmrngRSQYIe55adBOg=s64",
      "userId": "05836266386358934739"
     },
     "user_tz": -330
    },
    "id": "hollow-martin",
    "outputId": "a184c740-739b-4ac0-c679-bca0ec9126dc"
   },
   "outputs": [],
   "source": [
    "base_accs"
   ]
  },
  {
   "cell_type": "code",
   "execution_count": null,
   "id": "6858b6aa",
   "metadata": {
    "colab": {
     "base_uri": "https://localhost:8080/"
    },
    "executionInfo": {
     "elapsed": 21527,
     "status": "ok",
     "timestamp": 1624942465960,
     "user": {
      "displayName": "Aakash N S",
      "photoUrl": "https://lh3.googleusercontent.com/a-/AOh14GhEhN-SUD4acXtkX_d8m7mxWmrngRSQYIe55adBOg=s64",
      "userId": "05836266386358934739"
     },
     "user_tz": -330
    },
    "id": "commercial-nightmare",
    "outputId": "ffae53b9-47e4-41d9-aaf2-8183673acf07"
   },
   "outputs": [],
   "source": [
    "test_params(max_samples=0.9)"
   ]
  },
  {
   "cell_type": "code",
   "execution_count": null,
   "id": "08dfe8f2",
   "metadata": {
    "colab": {
     "base_uri": "https://localhost:8080/"
    },
    "executionInfo": {
     "elapsed": 10,
     "status": "ok",
     "timestamp": 1624942465960,
     "user": {
      "displayName": "Aakash N S",
      "photoUrl": "https://lh3.googleusercontent.com/a-/AOh14GhEhN-SUD4acXtkX_d8m7mxWmrngRSQYIe55adBOg=s64",
      "userId": "05836266386358934739"
     },
     "user_tz": -330
    },
    "id": "altered-boulder",
    "outputId": "71c1e1e9-eaf6-4354-f3b4-047ecdcd6bd0"
   },
   "outputs": [],
   "source": [
    "base_accs"
   ]
  },
  {
   "cell_type": "markdown",
   "id": "c32b7f73",
   "metadata": {
    "id": "industrial-mistress"
   },
   "source": [
    "### `class_weight`"
   ]
  },
  {
   "cell_type": "code",
   "execution_count": null,
   "id": "bbb01bab",
   "metadata": {
    "colab": {
     "base_uri": "https://localhost:8080/"
    },
    "executionInfo": {
     "elapsed": 567,
     "status": "ok",
     "timestamp": 1624942471817,
     "user": {
      "displayName": "Aakash N S",
      "photoUrl": "https://lh3.googleusercontent.com/a-/AOh14GhEhN-SUD4acXtkX_d8m7mxWmrngRSQYIe55adBOg=s64",
      "userId": "05836266386358934739"
     },
     "user_tz": -330
    },
    "id": "cordless-arena",
    "outputId": "5f20e82e-bb5c-4392-f7e7-96ae9efa1f7b"
   },
   "outputs": [],
   "source": [
    "model.classes_"
   ]
  },
  {
   "cell_type": "code",
   "execution_count": null,
   "id": "aae421d2",
   "metadata": {
    "colab": {
     "base_uri": "https://localhost:8080/"
    },
    "executionInfo": {
     "elapsed": 22495,
     "status": "ok",
     "timestamp": 1624942494309,
     "user": {
      "displayName": "Aakash N S",
      "photoUrl": "https://lh3.googleusercontent.com/a-/AOh14GhEhN-SUD4acXtkX_d8m7mxWmrngRSQYIe55adBOg=s64",
      "userId": "05836266386358934739"
     },
     "user_tz": -330
    },
    "id": "dominant-element",
    "outputId": "57887419-5e40-4436-fcda-6343531b8c26"
   },
   "outputs": [],
   "source": [
    "test_params(class_weight='balanced')"
   ]
  },
  {
   "cell_type": "code",
   "execution_count": null,
   "id": "ac64e699",
   "metadata": {
    "colab": {
     "base_uri": "https://localhost:8080/"
    },
    "executionInfo": {
     "elapsed": 22533,
     "status": "ok",
     "timestamp": 1624942516835,
     "user": {
      "displayName": "Aakash N S",
      "photoUrl": "https://lh3.googleusercontent.com/a-/AOh14GhEhN-SUD4acXtkX_d8m7mxWmrngRSQYIe55adBOg=s64",
      "userId": "05836266386358934739"
     },
     "user_tz": -330
    },
    "id": "known-northern",
    "outputId": "0d9d3106-5119-4a77-cf00-848d00c7dbf2"
   },
   "outputs": [],
   "source": [
    "test_params(class_weight={'No': 1, 'Yes': 2})"
   ]
  },
  {
   "cell_type": "code",
   "execution_count": null,
   "id": "3d066050",
   "metadata": {
    "colab": {
     "base_uri": "https://localhost:8080/"
    },
    "executionInfo": {
     "elapsed": 11,
     "status": "ok",
     "timestamp": 1624942516836,
     "user": {
      "displayName": "Aakash N S",
      "photoUrl": "https://lh3.googleusercontent.com/a-/AOh14GhEhN-SUD4acXtkX_d8m7mxWmrngRSQYIe55adBOg=s64",
      "userId": "05836266386358934739"
     },
     "user_tz": -330
    },
    "id": "interpreted-situation",
    "outputId": "06176bcc-347c-401d-cf58-607d59544035"
   },
   "outputs": [],
   "source": [
    "base_accs"
   ]
  },
  {
   "cell_type": "code",
   "execution_count": null,
   "id": "f842b853",
   "metadata": {
    "id": "weird-window"
   },
   "outputs": [],
   "source": []
  },
  {
   "cell_type": "code",
   "execution_count": null,
   "id": "c6d285e3",
   "metadata": {
    "executionInfo": {
     "elapsed": 10,
     "status": "ok",
     "timestamp": 1624942516837,
     "user": {
      "displayName": "Aakash N S",
      "photoUrl": "https://lh3.googleusercontent.com/a-/AOh14GhEhN-SUD4acXtkX_d8m7mxWmrngRSQYIe55adBOg=s64",
      "userId": "05836266386358934739"
     },
     "user_tz": -330
    },
    "id": "elder-income"
   },
   "outputs": [],
   "source": [
    "model = RandomForestClassifier(n_jobs=-1, \n",
    "                               random_state=42, \n",
    "                               n_estimators=500,\n",
    "                               max_features=7,\n",
    "                               max_depth=30, \n",
    "                               class_weight={'No': 1, 'Yes': 1.5})"
   ]
  },
  {
   "cell_type": "code",
   "execution_count": null,
   "id": "f34252dd",
   "metadata": {
    "colab": {
     "base_uri": "https://localhost:8080/"
    },
    "executionInfo": {
     "elapsed": 74869,
     "status": "ok",
     "timestamp": 1624942591697,
     "user": {
      "displayName": "Aakash N S",
      "photoUrl": "https://lh3.googleusercontent.com/a-/AOh14GhEhN-SUD4acXtkX_d8m7mxWmrngRSQYIe55adBOg=s64",
      "userId": "05836266386358934739"
     },
     "user_tz": -330
    },
    "id": "brutal-huntington",
    "outputId": "72b1f822-d1d7-4ebb-c57d-eb8a5ca8098b"
   },
   "outputs": [],
   "source": [
    "model.fit(X_train, train_targets)"
   ]
  },
  {
   "cell_type": "code",
   "execution_count": null,
   "id": "65b1f673",
   "metadata": {
    "colab": {
     "base_uri": "https://localhost:8080/"
    },
    "executionInfo": {
     "elapsed": 13437,
     "status": "ok",
     "timestamp": 1624942605127,
     "user": {
      "displayName": "Aakash N S",
      "photoUrl": "https://lh3.googleusercontent.com/a-/AOh14GhEhN-SUD4acXtkX_d8m7mxWmrngRSQYIe55adBOg=s64",
      "userId": "05836266386358934739"
     },
     "user_tz": -330
    },
    "id": "worth-commerce",
    "outputId": "8e82f252-50b5-471c-c1e6-e6b77618f8ea"
   },
   "outputs": [],
   "source": [
    "model.score(X_train, train_targets), model.score(X_val, val_targets)"
   ]
  },
  {
   "cell_type": "code",
   "execution_count": null,
   "id": "e54510a0",
   "metadata": {
    "colab": {
     "base_uri": "https://localhost:8080/"
    },
    "executionInfo": {
     "elapsed": 8,
     "status": "ok",
     "timestamp": 1624942605127,
     "user": {
      "displayName": "Aakash N S",
      "photoUrl": "https://lh3.googleusercontent.com/a-/AOh14GhEhN-SUD4acXtkX_d8m7mxWmrngRSQYIe55adBOg=s64",
      "userId": "05836266386358934739"
     },
     "user_tz": -330
    },
    "id": "finished-difference",
    "outputId": "5774d108-5fdb-48a3-c5e5-022f192c40f5"
   },
   "outputs": [],
   "source": [
    "base_accs"
   ]
  },
  {
   "cell_type": "code",
   "execution_count": null,
   "id": "765c1387",
   "metadata": {
    "colab": {
     "base_uri": "https://localhost:8080/",
     "height": 609
    },
    "executionInfo": {
     "elapsed": 458,
     "status": "ok",
     "timestamp": 1624942608315,
     "user": {
      "displayName": "Aakash N S",
      "photoUrl": "https://lh3.googleusercontent.com/a-/AOh14GhEhN-SUD4acXtkX_d8m7mxWmrngRSQYIe55adBOg=s64",
      "userId": "05836266386358934739"
     },
     "user_tz": -330
    },
    "id": "radio-speed",
    "outputId": "c0f0a9af-22cc-4aff-9509-c384e790002b"
   },
   "outputs": [],
   "source": [
    "raw_df"
   ]
  },
  {
   "cell_type": "code",
   "execution_count": null,
   "id": "22763764",
   "metadata": {
    "id": "brazilian-mauritius"
   },
   "outputs": [],
   "source": []
  },
  {
   "cell_type": "code",
   "execution_count": null,
   "id": "ebff7c35",
   "metadata": {
    "id": "turned-oriental"
   },
   "outputs": [],
   "source": []
  },
  {
   "cell_type": "code",
   "execution_count": null,
   "id": "fe7c384f",
   "metadata": {
    "colab": {
     "base_uri": "https://localhost:8080/"
    },
    "executionInfo": {
     "elapsed": 3584,
     "status": "ok",
     "timestamp": 1624942614627,
     "user": {
      "displayName": "Aakash N S",
      "photoUrl": "https://lh3.googleusercontent.com/a-/AOh14GhEhN-SUD4acXtkX_d8m7mxWmrngRSQYIe55adBOg=s64",
      "userId": "05836266386358934739"
     },
     "user_tz": -330
    },
    "id": "serial-button",
    "outputId": "a7c62835-e1ec-403a-9aaf-25d2b30a5fb9"
   },
   "outputs": [],
   "source": [
    "model.score(X_test, test_targets)"
   ]
  },
  {
   "cell_type": "code",
   "execution_count": null,
   "id": "f928a635",
   "metadata": {
    "executionInfo": {
     "elapsed": 396,
     "status": "ok",
     "timestamp": 1624942740740,
     "user": {
      "displayName": "Aakash N S",
      "photoUrl": "https://lh3.googleusercontent.com/a-/AOh14GhEhN-SUD4acXtkX_d8m7mxWmrngRSQYIe55adBOg=s64",
      "userId": "05836266386358934739"
     },
     "user_tz": -330
    },
    "id": "short-enhancement"
   },
   "outputs": [],
   "source": [
    "def predict_input(model, single_input):\n",
    "    input_df = pd.DataFrame([single_input])\n",
    "    input_df[numeric_cols] = imputer.transform(input_df[numeric_cols])\n",
    "    input_df[numeric_cols] = scaler.transform(input_df[numeric_cols])\n",
    "    input_df[encoded_cols] = encoder.transform(input_df[categorical_cols])\n",
    "    X_input = input_df[numeric_cols + encoded_cols]\n",
    "    pred = model.predict(X_input)[0]\n",
    "    prob = model.predict_proba(X_input)[0][list(model.classes_).index(pred)]\n",
    "    return pred, prob"
   ]
  },
  {
   "cell_type": "code",
   "execution_count": null,
   "id": "39ed8637",
   "metadata": {
    "executionInfo": {
     "elapsed": 4,
     "status": "ok",
     "timestamp": 1624942741200,
     "user": {
      "displayName": "Aakash N S",
      "photoUrl": "https://lh3.googleusercontent.com/a-/AOh14GhEhN-SUD4acXtkX_d8m7mxWmrngRSQYIe55adBOg=s64",
      "userId": "05836266386358934739"
     },
     "user_tz": -330
    },
    "id": "bizarre-washington"
   },
   "outputs": [],
   "source": [
    "new_input = {'Date': '2021-06-19',\n",
    "             'Location': 'Launceston',\n",
    "             'MinTemp': 23.2,\n",
    "             'MaxTemp': 33.2,\n",
    "             'Rainfall': 10.2,\n",
    "             'Evaporation': 4.2,\n",
    "             'Sunshine': np.nan,\n",
    "             'WindGustDir': 'NNW',\n",
    "             'WindGustSpeed': 52.0,\n",
    "             'WindDir9am': 'NW',\n",
    "             'WindDir3pm': 'NNE',\n",
    "             'WindSpeed9am': 13.0,\n",
    "             'WindSpeed3pm': 20.0,\n",
    "             'Humidity9am': 89.0,\n",
    "             'Humidity3pm': 58.0,\n",
    "             'Pressure9am': 1004.8,\n",
    "             'Pressure3pm': 1001.5,\n",
    "             'Cloud9am': 8.0,\n",
    "             'Cloud3pm': 5.0,\n",
    "             'Temp9am': 25.7,\n",
    "             'Temp3pm': 33.0,\n",
    "             'RainToday': 'Yes'}"
   ]
  },
  {
   "cell_type": "code",
   "execution_count": null,
   "id": "8cc86623",
   "metadata": {
    "colab": {
     "base_uri": "https://localhost:8080/"
    },
    "executionInfo": {
     "elapsed": 714,
     "status": "ok",
     "timestamp": 1624942742592,
     "user": {
      "displayName": "Aakash N S",
      "photoUrl": "https://lh3.googleusercontent.com/a-/AOh14GhEhN-SUD4acXtkX_d8m7mxWmrngRSQYIe55adBOg=s64",
      "userId": "05836266386358934739"
     },
     "user_tz": -330
    },
    "id": "innovative-middle",
    "outputId": "5dc9006e-fb0b-44db-e008-b9d97ef9ff1a"
   },
   "outputs": [],
   "source": [
    "predict_input(model, new_input)"
   ]
  },
  {
   "cell_type": "code",
   "execution_count": null,
   "id": "5c1c82d9",
   "metadata": {
    "colab": {
     "base_uri": "https://localhost:8080/"
    },
    "executionInfo": {
     "elapsed": 4,
     "status": "ok",
     "timestamp": 1624942743269,
     "user": {
      "displayName": "Aakash N S",
      "photoUrl": "https://lh3.googleusercontent.com/a-/AOh14GhEhN-SUD4acXtkX_d8m7mxWmrngRSQYIe55adBOg=s64",
      "userId": "05836266386358934739"
     },
     "user_tz": -330
    },
    "id": "nonprofit-trout",
    "outputId": "e4ce3df5-0739-4748-9dcf-7d3ecffdf0a1"
   },
   "outputs": [],
   "source": [
    "raw_df.Location.unique()"
   ]
  },
  {
   "cell_type": "code",
   "execution_count": null,
   "id": "c6b2dfef",
   "metadata": {
    "executionInfo": {
     "elapsed": 593,
     "status": "ok",
     "timestamp": 1624942745694,
     "user": {
      "displayName": "Aakash N S",
      "photoUrl": "https://lh3.googleusercontent.com/a-/AOh14GhEhN-SUD4acXtkX_d8m7mxWmrngRSQYIe55adBOg=s64",
      "userId": "05836266386358934739"
     },
     "user_tz": -330
    },
    "id": "legitimate-opera"
   },
   "outputs": [],
   "source": [
    "import joblib"
   ]
  },
  {
   "cell_type": "code",
   "execution_count": null,
   "id": "8e49d067",
   "metadata": {
    "executionInfo": {
     "elapsed": 7,
     "status": "ok",
     "timestamp": 1624942745695,
     "user": {
      "displayName": "Aakash N S",
      "photoUrl": "https://lh3.googleusercontent.com/a-/AOh14GhEhN-SUD4acXtkX_d8m7mxWmrngRSQYIe55adBOg=s64",
      "userId": "05836266386358934739"
     },
     "user_tz": -330
    },
    "id": "competitive-windows"
   },
   "outputs": [],
   "source": [
    "aussie_rain = {\n",
    "    'model': model,\n",
    "    'imputer': imputer,\n",
    "    'scaler': scaler,\n",
    "    'encoder': encoder,\n",
    "    'input_cols': input_cols,\n",
    "    'target_col': target_col,\n",
    "    'numeric_cols': numeric_cols,\n",
    "    'categorical_cols': categorical_cols,\n",
    "    'encoded_cols': encoded_cols\n",
    "}"
   ]
  },
  {
   "cell_type": "code",
   "execution_count": null,
   "id": "77ec33b0",
   "metadata": {
    "colab": {
     "base_uri": "https://localhost:8080/"
    },
    "executionInfo": {
     "elapsed": 4133,
     "status": "ok",
     "timestamp": 1624942751360,
     "user": {
      "displayName": "Aakash N S",
      "photoUrl": "https://lh3.googleusercontent.com/a-/AOh14GhEhN-SUD4acXtkX_d8m7mxWmrngRSQYIe55adBOg=s64",
      "userId": "05836266386358934739"
     },
     "user_tz": -330
    },
    "id": "worth-toronto",
    "outputId": "3a21add8-adc4-4584-b05a-2294e05d75aa"
   },
   "outputs": [],
   "source": [
    "joblib.dump(aussie_rain, 'aussie_rain.joblib')"
   ]
  },
  {
   "cell_type": "code",
   "execution_count": null,
   "id": "d6bcbca6",
   "metadata": {
    "executionInfo": {
     "elapsed": 1887,
     "status": "ok",
     "timestamp": 1624942753241,
     "user": {
      "displayName": "Aakash N S",
      "photoUrl": "https://lh3.googleusercontent.com/a-/AOh14GhEhN-SUD4acXtkX_d8m7mxWmrngRSQYIe55adBOg=s64",
      "userId": "05836266386358934739"
     },
     "user_tz": -330
    },
    "id": "opening-cream"
   },
   "outputs": [],
   "source": [
    "aussie_rain2 = joblib.load('aussie_rain.joblib')"
   ]
  },
  {
   "cell_type": "code",
   "execution_count": null,
   "id": "d6eaca05",
   "metadata": {
    "id": "scientific-receipt"
   },
   "outputs": [],
   "source": [
    "test_preds2 = aussie_rain2['model'].predict(X_test)\n",
    "accuracy_score(test_targets, test_preds2)"
   ]
  },
  {
   "cell_type": "code",
   "execution_count": null,
   "id": "ed549dd0",
   "metadata": {
    "id": "sustained-steel"
   },
   "outputs": [],
   "source": []
  }
 ],
 "metadata": {
  "colab": {
   "collapsed_sections": [
    "documented-disney"
   ],
   "name": "sklearn-decision-trees-random-forests.ipynb",
   "version": ""
  },
  "language_info": {
   "codemirror_mode": {
    "name": "ipython",
    "version": 3
   },
   "file_extension": ".py",
   "mimetype": "text/x-python",
   "name": "python",
   "nbconvert_exporter": "python",
   "pygments_lexer": "ipython3",
   "version": "3.6.13"
  }
 },
 "nbformat": 4,
 "nbformat_minor": 5
}
